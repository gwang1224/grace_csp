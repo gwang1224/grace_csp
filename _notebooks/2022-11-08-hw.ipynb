{
 "cells": [
  {
   "cell_type": "markdown",
   "metadata": {},
   "source": [
    "# Algorithms and Binary Search Number Guessing Game\n",
    "\n",
    "- toc: true \n",
    "- badges: true\n",
    "- categories: [trimester 1]"
   ]
  },
  {
   "cell_type": "code",
   "execution_count": 14,
   "metadata": {},
   "outputs": [
    {
     "name": "stdout",
     "output_type": "stream",
     "text": [
      "71\n",
      "I'm thinking of a number between 1 and 100.\n",
      "You guessed 90.\n",
      "Your guess was too high\n"
     ]
    },
    {
     "ename": "ValueError",
     "evalue": "invalid literal for int() with base 10: ''",
     "output_type": "error",
     "traceback": [
      "\u001b[0;31m---------------------------------------------------------------------------\u001b[0m",
      "\u001b[0;31mValueError\u001b[0m                                Traceback (most recent call last)",
      "\u001b[1;32m/Users/gracewang/vscode/repository_1/_notebooks/2022-11-08-hw.ipynb Cell 2\u001b[0m in \u001b[0;36m<cell line: 26>\u001b[0;34m()\u001b[0m\n\u001b[1;32m     <a href='vscode-notebook-cell:/Users/gracewang/vscode/repository_1/_notebooks/2022-11-08-hw.ipynb#W2sZmlsZQ%3D%3D?line=23'>24</a>\u001b[0m         guess_right \u001b[39m=\u001b[39m \u001b[39mTrue\u001b[39;00m\n\u001b[1;32m     <a href='vscode-notebook-cell:/Users/gracewang/vscode/repository_1/_notebooks/2022-11-08-hw.ipynb#W2sZmlsZQ%3D%3D?line=25'>26</a>\u001b[0m \u001b[39mwhile\u001b[39;00m guess \u001b[39m!=\u001b[39m number:\n\u001b[0;32m---> <a href='vscode-notebook-cell:/Users/gracewang/vscode/repository_1/_notebooks/2022-11-08-hw.ipynb#W2sZmlsZQ%3D%3D?line=26'>27</a>\u001b[0m     user_guess \u001b[39m=\u001b[39m guess()\n\u001b[1;32m     <a href='vscode-notebook-cell:/Users/gracewang/vscode/repository_1/_notebooks/2022-11-08-hw.ipynb#W2sZmlsZQ%3D%3D?line=27'>28</a>\u001b[0m     num_guesses \u001b[39m+\u001b[39m\u001b[39m=\u001b[39m \u001b[39m1\u001b[39m\n\u001b[1;32m     <a href='vscode-notebook-cell:/Users/gracewang/vscode/repository_1/_notebooks/2022-11-08-hw.ipynb#W2sZmlsZQ%3D%3D?line=28'>29</a>\u001b[0m     \u001b[39mprint\u001b[39m(\u001b[39mf\u001b[39m\u001b[39m\"\u001b[39m\u001b[39mYou guessed \u001b[39m\u001b[39m{\u001b[39;00muser_guess\u001b[39m}\u001b[39;00m\u001b[39m.\u001b[39m\u001b[39m\"\u001b[39m)\n",
      "\u001b[1;32m/Users/gracewang/vscode/repository_1/_notebooks/2022-11-08-hw.ipynb Cell 2\u001b[0m in \u001b[0;36mguess\u001b[0;34m()\u001b[0m\n\u001b[1;32m     <a href='vscode-notebook-cell:/Users/gracewang/vscode/repository_1/_notebooks/2022-11-08-hw.ipynb#W2sZmlsZQ%3D%3D?line=12'>13</a>\u001b[0m \u001b[39mdef\u001b[39;00m \u001b[39mguess\u001b[39m():\n\u001b[0;32m---> <a href='vscode-notebook-cell:/Users/gracewang/vscode/repository_1/_notebooks/2022-11-08-hw.ipynb#W2sZmlsZQ%3D%3D?line=13'>14</a>\u001b[0m     guess \u001b[39m=\u001b[39m \u001b[39mint\u001b[39;49m(\u001b[39minput\u001b[39;49m(\u001b[39m\"\u001b[39;49m\u001b[39mGuess a number: \u001b[39;49m\u001b[39m\"\u001b[39;49m))\n\u001b[1;32m     <a href='vscode-notebook-cell:/Users/gracewang/vscode/repository_1/_notebooks/2022-11-08-hw.ipynb#W2sZmlsZQ%3D%3D?line=14'>15</a>\u001b[0m     \u001b[39mreturn\u001b[39;00m guess\n",
      "\u001b[0;31mValueError\u001b[0m: invalid literal for int() with base 10: ''"
     ]
    }
   ],
   "source": [
    "import random\n",
    "\n",
    "# print(\"Hello! What is your name?\")\n",
    "# name = input(\"Name:\")\n",
    "\n",
    "num_guesses = 0\n",
    "\n",
    "number = random.randint(1,100)\n",
    "print(number)\n",
    "\n",
    "print(f\"I'm thinking of a number between 1 and 100.\")\n",
    "\n",
    "def guess():\n",
    "    guess = int(input(\"Guess a number: \"))\n",
    "    return guess\n",
    "\n",
    "def search(number, guess):\n",
    "    if guess < number:\n",
    "        print(\"Your guess was too low :(\")\n",
    "    elif guess > number:\n",
    "        print(\"Your guess was too high\")\n",
    "    else:\n",
    "        print(\"You guessed right!\")\n",
    "        guess_right = True\n",
    "\n",
    "while guess != number:\n",
    "    user_guess = guess()\n",
    "    num_guesses += 1\n",
    "    print(f\"You guessed {user_guess}.\")\n",
    "    search(number, user_guess)\n",
    "\n",
    "print(f\"You guessed the number in {num_guesses}\")"
   ]
  }
 ],
 "metadata": {
  "kernelspec": {
   "display_name": "Python 3.10.8 64-bit",
   "language": "python",
   "name": "python3"
  },
  "language_info": {
   "codemirror_mode": {
    "name": "ipython",
    "version": 3
   },
   "file_extension": ".py",
   "mimetype": "text/x-python",
   "name": "python",
   "nbconvert_exporter": "python",
   "pygments_lexer": "ipython3",
   "version": "3.10.8"
  },
  "orig_nbformat": 4,
  "vscode": {
   "interpreter": {
    "hash": "b0fa6594d8f4cbf19f97940f81e996739fb7646882a419484c72d19e05852a7e"
   }
  }
 },
 "nbformat": 4,
 "nbformat_minor": 2
}
