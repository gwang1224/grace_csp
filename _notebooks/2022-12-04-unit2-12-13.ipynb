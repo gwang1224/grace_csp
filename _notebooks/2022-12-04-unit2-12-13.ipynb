{
 "cells": [
  {
   "attachments": {},
   "cell_type": "markdown",
   "metadata": {},
   "source": [
    "# Unit 3.12 & 3.13\n",
    "\n",
    "- toc: true\n",
    "- badges: false\n",
    "- categories: [trimester 2 student teaching]"
   ]
  },
  {
   "attachments": {},
   "cell_type": "markdown",
   "metadata": {},
   "source": [
    "## Unit 3.12\n",
    "\n",
    "### Vocab:\n",
    "\n",
    "- procedure: set of instructions that can take parameters (do not have to have parameters and only have ()) and return values or the function\n",
    "- parameters: value inputted into a function for the function to produce a result\n",
    "- return value: the value that is returned after a function is run\n",
    "- output parameters: ?"
   ]
  },
  {
   "cell_type": "code",
   "execution_count": 1,
   "metadata": {},
   "outputs": [
    {
     "name": "stdout",
     "output_type": "stream",
     "text": [
      "The product of 5 times 3 is 15\n"
     ]
    }
   ],
   "source": [
    "x = 5\n",
    "y = 3\n",
    "\n",
    "def multiply(x, y): #x,y are parameters\n",
    "    product = x * y\n",
    "    return product #return value\n",
    "\n",
    "answer = multiply(x, y)\n",
    "print(\"The product of\", x, \"times\", y, \"is\", answer)"
   ]
  },
  {
   "cell_type": "code",
   "execution_count": 2,
   "metadata": {},
   "outputs": [
    {
     "name": "stdout",
     "output_type": "stream",
     "text": [
      "2.0\n",
      "2.6457513110645907\n",
      "3.0\n",
      "3.1622776601683795\n"
     ]
    }
   ],
   "source": [
    "# procedure that finds the square root of any given number\n",
    "import math\n",
    "\n",
    "def squareroot(num):\n",
    "    res = math.sqrt(num)\n",
    "    return res\n",
    "\n",
    "print(squareroot(4))\n",
    "print(squareroot(7))\n",
    "print(squareroot(9))\n",
    "print(squareroot(10))"
   ]
  },
  {
   "cell_type": "markdown",
   "metadata": {},
   "source": [
    "#### Quiz (Part of Hacks)\n",
    "Complete this quiz:"
   ]
  },
  {
   "cell_type": "code",
   "execution_count": 3,
   "metadata": {},
   "outputs": [
    {
     "name": "stdout",
     "output_type": "stream",
     "text": [
      "Question: What is are correct names for a procedure? \n",
      " A) Method \n",
      " B) Function \n",
      " C) Both\n"
     ]
    }
   ],
   "source": [
    "questionNum = 3\n",
    "correct = 0\n",
    "questions = [\n",
    "    \"What is are correct names for a procedure? \\n A) Method \\n B) Function \\n C) Both\",\n",
    "    \"What is a procedure? \\n A) Sequencing \\n B) Selection \\n C) Iteration \\n D) All\",\n",
    "    \"Use this for following question: \\n def inchesToFeet(lengthInches): \\n\\t lengthFeet = lengthInches / 12 \\n\\t return lengthFeet \\n\\n What is the procedure name, the parameter, and what the procedure returns? \\n A) feetToInches, lengthInches, lengthMeters \\n B) inchesToFeet, lengthInches, lengthFeet \\n C) inchesToFeet, lengthFeet, lengthInches \\n D) lengthInches, inchesToFeet, lengthFeet\"]\n",
    "answers = [\"c\", \"d\", \"b\"]\n",
    "\n",
    "def qna(question, answer):\n",
    "    print(\"Question:\", question)\n",
    "    response = input()\n",
    "    print(\"Answer:\", response)\n",
    "    \n",
    "    if response.lower() == answer:\n",
    "        print(\"Correct :) \\n\")\n",
    "        global correct\n",
    "        correct += 1\n",
    "    else:\n",
    "        print(\"Incorrect :( \\n\")\n",
    "for x in range(questionNum):\n",
    "    qna(questions[x], answers[x])\n",
    "    \n",
    "print(\"Score:\", correct, \"/ 3\")"
   ]
  },
  {
   "attachments": {},
   "cell_type": "markdown",
   "metadata": {},
   "source": [
    "## Unit 3.13\n",
    "\n",
    "- Modularity: the practice of breaking a complex program into smaller, independent parts or modules that can be used and reused in different parts of the program\n",
    "- Abstraction: the practice of hiding the details of how a particular code or system works and exposing only the essential features or functions that are necessary for other parts of the program to use\n",
    "- Duplication: having multiple duplicate code blocks, often decreasing readability and efficiency\n",
    "- Logic: the sequence of steps and operations that a computer follows to execute a program, including the specific instructions and decision-making processes built into the code\n",
    "\n",
    "Abstracting program logic into separate, smaller tasks is effective because the problem is easier to approach. By separating the tasks, the steps are clearly planned out and this avoids repetition and has more clarity."
   ]
  },
  {
   "cell_type": "code",
   "execution_count": 9,
   "metadata": {},
   "outputs": [
    {
     "name": "stdout",
     "output_type": "stream",
     "text": [
      "3\n"
     ]
    }
   ],
   "source": [
    "#calculator\n",
    "import math\n",
    "\n",
    "#create functions for each calculator function\n",
    "\n",
    "#step 1: addition\n",
    "def add(a, b):\n",
    "    print(a + b)\n",
    "\n",
    "#step 2: subtraction\n",
    "def subtract(a, b):\n",
    "    print(a - b)\n",
    "\n",
    "#step 3: multiplication\n",
    "def multiply(a, b):\n",
    "    print(a * b)\n",
    "\n",
    "#step 4: division\n",
    "def div(a, b):\n",
    "    print(a/b)\n",
    "\n",
    "#step 5: square root\n",
    "def squareroot(num):\n",
    "    print(math.sqrt(num))\n",
    "\n",
    "#get 2 number inputs for addition, subtraction, multiplication, division\n",
    "def num_input():\n",
    "   num1 = int(input(\"First number:\"))\n",
    "   num2 = int(input(\"Second number:\"))\n",
    "   return num1, num2\n",
    "\n",
    "#ask if user wants to add, subtract, multiply, division, squareroot\n",
    "function = input(\"Type +, -, /, *, or sqrt\")\n",
    "\n",
    "#based on user's function input, perform math\n",
    "#add\n",
    "if function == \"+\":\n",
    "    num1, num2 = num_input()\n",
    "    add(num1, num2)\n",
    "#subtract\n",
    "elif function == \"-\":\n",
    "    num1, num2 = num_input()\n",
    "    subtract(num1, num2)\n",
    "#multiplication\n",
    "elif function == \"*\":\n",
    "    num1, num2 = num_input()\n",
    "    multiply(num1, num2)\n",
    "#division\n",
    "elif function == \"/\":\n",
    "    num1, num2 = num_input()\n",
    "    div(num1, num2)\n",
    "#sqrt\n",
    "elif function == \"sqrt\":\n",
    "    num1, num2 = num_input()\n",
    "    squareroot(num1, num2)\n",
    "\n",
    "\n"
   ]
  },
  {
   "attachments": {},
   "cell_type": "markdown",
   "metadata": {},
   "source": [
    "Abstraction is needed for this math calculator because many steps are needed for the algorithm. First, functions need to be made for each of the mathematical operations. The code also needs to get the user input. Using the user input, the user can then determine what operation they want to use. The code should then print out the solution. These steps need to be broken down for the coder to now how to easily code calculator."
   ]
  },
  {
   "cell_type": "code",
   "execution_count": 3,
   "metadata": {},
   "outputs": [
    {
     "name": "stdout",
     "output_type": "stream",
     "text": [
      "Words starting with h: 1\n",
      "Words starting with t: 2\n"
     ]
    }
   ],
   "source": [
    "def split_string(s):\n",
    "    '''takes a string as input and returns a list of words, where each word is a separate element in the list'''\n",
    "    words = s.split(\" \")\n",
    "    new_words = []\n",
    "    for word in words:\n",
    "        if word != \"\":\n",
    "            new_words.append(word)\n",
    "    \n",
    "    return words\n",
    "\n",
    "def count_words_starting_with_letter(words, letter):\n",
    "    '''function takes a list of words as input and returns the number of words that start with the given letter'''\n",
    "    count = 0\n",
    "    for word in words:\n",
    "        if word.lower().startswith(letter):\n",
    "            count += 1\n",
    "    \n",
    "    return count\n",
    "\n",
    "def count_words_starting_with_a_in_string(s):\n",
    "    '''takes a string as input and returns the number of words that start with 'a''''\n",
    "    words = split_string(s)\n",
    "    count = count_words_starting_with_letter(words, \"a\")\n",
    "    return count\n",
    "\n",
    "#HACKS\n",
    "def count_words_starting_with_letter_in_string(s, c):\n",
    "    words = split_string(s)\n",
    "    count = count_words_starting_with_letter(words, c)\n",
    "    return count\n",
    "\n",
    "# example usage:\n",
    "string = \"hello, my name is grace. this is a test string\"\n",
    "h = \"h\"\n",
    "t = \"t\"\n",
    "s_count1 = count_words_starting_with_letter_in_string(string, h)\n",
    "s_count2 = count_words_starting_with_letter_in_string(string, t)\n",
    "print(f\"Words starting with h:\", s_count1)\n",
    "print(f\"Words starting with t:\", s_count2)"
   ]
  },
  {
   "attachments": {},
   "cell_type": "markdown",
   "metadata": {},
   "source": [
    "Procedure name- name given to a fuction\n",
    "Argument- stuff inputted after procedure name, used to outside function then called with the function with parameters"
   ]
  },
  {
   "attachments": {},
   "cell_type": "markdown",
   "metadata": {},
   "source": [
    "## Topic 3.13\n",
    "\n",
    "- Procedure- a module of code that is created to complete a certain task, this is basically a function\n",
    "- Procedure Name - the name that is given to a function/procedure\n",
    "- Parameters- a variable that is used in a function to allow for data to be imported into a function\n",
    "- Arguments - a way to provide information to a function, usually defined outside a function and then imported into a function with parameters\n",
    "\n",
    "![collegeboard-format](https://user-images.githubusercontent.com/111480448/206083549-4380cd04-187d-4786-9e40-6f87968cd3de.png)"
   ]
  },
  {
   "attachments": {},
   "cell_type": "markdown",
   "metadata": {},
   "source": [
    "<!-- function is called here -->\n",
    "<p>var a = 3</p>\n",
    "<p>var b = 4</p>\n",
    "<button id=\"enter\" onclick=\"add(a,b)\">add</button> \n",
    "<p id=\"result1\"></p>\n",
    "<button id=\"enter\" onclick=\"subtract(a,b)\">subtract</button> \n",
    "<p id=\"result2\"></p>\n",
    "<button id=\"enter\" onclick=\"multiply(a,b)\">multiply</button> \n",
    "<p id=\"result3\"></p>\n",
    "<button id=\"enter\" onclick=\"divide(a,b)\">divide</button> \n",
    "<p id=\"result4\"></p>\n",
    "\n",
    "\n",
    "<!-- javascript -->\n",
    "<script>\n",
    "    function add(a,b) {\n",
    "        document.getElementById(\"result1\").innerHTML = a + b // math\n",
    "    }\n",
    "    function subtract(a,b) {\n",
    "        document.getElementById(\"result2\").innerHTML = a - b\n",
    "    }\n",
    "    function multiply(a,b) {\n",
    "        document.getElementById(\"result3\").innerHTML = a * b // math\n",
    "    }\n",
    "    function divide(a,b) {\n",
    "        document.getElementById(\"result4\").innerHTML = a / b // math\n",
    "    }\n",
    "    // variables are defined\n",
    "    var a = 3\n",
    "    var b = 4\n",
    "</script>\n",
    "```"
   ]
  },
  {
   "cell_type": "code",
   "execution_count": null,
   "metadata": {
    "vscode": {
     "languageId": "html"
    }
   },
   "outputs": [],
   "source": [
    "<!-- function is called here -->\n",
    "<p>var a = 3</p>\n",
    "<p>var b = 4</p>\n",
    "<button id=\"enter\" onclick=\"add(a,b)\">add</button> \n",
    "<p id=\"result1\"></p>\n",
    "<button id=\"enter\" onclick=\"subtract(a,b)\">subtract</button> \n",
    "<p id=\"result2\"></p>\n",
    "<button id=\"enter\" onclick=\"multiply(a,b)\">multiply</button> \n",
    "<p id=\"result3\"></p>\n",
    "<button id=\"enter\" onclick=\"divide(a,b)\">divide</button> \n",
    "<p id=\"result4\"></p>\n",
    "\n",
    "\n",
    "<!-- javascript -->\n",
    "<script>\n",
    "    function add(a,b) {\n",
    "        document.getElementById(\"result1\").innerHTML = a + b // math\n",
    "    }\n",
    "    function subtract(a,b) {\n",
    "        document.getElementById(\"result2\").innerHTML = a - b\n",
    "    }\n",
    "    function multiply(a,b) {\n",
    "        document.getElementById(\"result3\").innerHTML = a * b // math\n",
    "    }\n",
    "    function divide(a,b) {\n",
    "        document.getElementById(\"result4\").innerHTML = a / b // math\n",
    "    }\n",
    "    // variables are defined\n",
    "    var a = 3\n",
    "    var b = 4\n",
    "</script>\n",
    "```"
   ]
  }
 ],
 "metadata": {
  "kernelspec": {
   "display_name": "Python 3.10.8 64-bit",
   "language": "python",
   "name": "python3"
  },
  "language_info": {
   "codemirror_mode": {
    "name": "ipython",
    "version": 3
   },
   "file_extension": ".py",
   "mimetype": "text/x-python",
   "name": "python",
   "nbconvert_exporter": "python",
   "pygments_lexer": "ipython3",
   "version": "3.10.8"
  },
  "orig_nbformat": 4,
  "vscode": {
   "interpreter": {
    "hash": "b0fa6594d8f4cbf19f97940f81e996739fb7646882a419484c72d19e05852a7e"
   }
  }
 },
 "nbformat": 4,
 "nbformat_minor": 2
}
