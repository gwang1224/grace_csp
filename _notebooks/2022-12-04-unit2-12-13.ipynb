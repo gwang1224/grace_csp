{
 "cells": [
  {
   "attachments": {},
   "cell_type": "markdown",
   "metadata": {},
   "source": [
    "# Unit 3.12 & 3.13\n",
    "\n",
    "- toc: true\n",
    "- badges: false\n",
    "- categories: [trimester 2 student teaching]"
   ]
  },
  {
   "attachments": {},
   "cell_type": "markdown",
   "metadata": {},
   "source": [
    "## Unit 3.12\n",
    "\n",
    "### Vocab:\n",
    "\n",
    "- procedure: set of instructions that can take parameters (do not have to have parameters and only have ()) and return values or the function\n",
    "- parameters: value inputted into a function for the function to produce a result\n",
    "- return value: the value that is returned after a function is run\n",
    "- output parameters: ?"
   ]
  },
  {
   "cell_type": "code",
   "execution_count": 1,
   "metadata": {},
   "outputs": [
    {
     "name": "stdout",
     "output_type": "stream",
     "text": [
      "The product of 5 times 3 is 15\n"
     ]
    }
   ],
   "source": [
    "x = 5\n",
    "y = 3\n",
    "\n",
    "def multiply(x, y): #x,y are parameters\n",
    "    product = x * y\n",
    "    return product #return value\n",
    "\n",
    "answer = multiply(x, y)\n",
    "print(\"The product of\", x, \"times\", y, \"is\", answer)"
   ]
  },
  {
   "cell_type": "code",
   "execution_count": 2,
   "metadata": {},
   "outputs": [
    {
     "name": "stdout",
     "output_type": "stream",
     "text": [
      "2.0\n",
      "2.6457513110645907\n",
      "3.0\n",
      "3.1622776601683795\n"
     ]
    }
   ],
   "source": [
    "# procedure that finds the square root of any given number\n",
    "import math\n",
    "\n",
    "def squareroot(num):\n",
    "    res = math.sqrt(num)\n",
    "    return res\n",
    "\n",
    "print(squareroot(4))\n",
    "print(squareroot(7))\n",
    "print(squareroot(9))\n",
    "print(squareroot(10))"
   ]
  },
  {
   "cell_type": "markdown",
   "metadata": {},
   "source": [
    "#### Quiz (Part of Hacks)\n",
    "Complete this quiz:"
   ]
  },
  {
   "cell_type": "code",
   "execution_count": 3,
   "metadata": {},
   "outputs": [
    {
     "name": "stdout",
     "output_type": "stream",
     "text": [
      "Question: What is are correct names for a procedure? \n",
      " A) Method \n",
      " B) Function \n",
      " C) Both\n"
     ]
    }
   ],
   "source": [
    "questionNum = 3\n",
    "correct = 0\n",
    "questions = [\n",
    "    \"What is are correct names for a procedure? \\n A) Method \\n B) Function \\n C) Both\",\n",
    "    \"What is a procedure? \\n A) Sequencing \\n B) Selection \\n C) Iteration \\n D) All\",\n",
    "    \"Use this for following question: \\n def inchesToFeet(lengthInches): \\n\\t lengthFeet = lengthInches / 12 \\n\\t return lengthFeet \\n\\n What is the procedure name, the parameter, and what the procedure returns? \\n A) feetToInches, lengthInches, lengthMeters \\n B) inchesToFeet, lengthInches, lengthFeet \\n C) inchesToFeet, lengthFeet, lengthInches \\n D) lengthInches, inchesToFeet, lengthFeet\"]\n",
    "answers = [\"c\", \"d\", \"b\"]\n",
    "\n",
    "def qna(question, answer):\n",
    "    print(\"Question:\", question)\n",
    "    response = input()\n",
    "    print(\"Answer:\", response)\n",
    "    \n",
    "    if response.lower() == answer:\n",
    "        print(\"Correct :) \\n\")\n",
    "        global correct\n",
    "        correct += 1\n",
    "    else:\n",
    "        print(\"Incorrect :( \\n\")\n",
    "for x in range(questionNum):\n",
    "    qna(questions[x], answers[x])\n",
    "    \n",
    "print(\"Score:\", correct, \"/ 3\")"
   ]
  },
  {
   "attachments": {},
   "cell_type": "markdown",
   "metadata": {},
   "source": [
    "## Unit 3.13\n",
    "\n",
    "- Modularity: the practice of breaking a complex program into smaller, independent parts or modules that can be used and reused in different parts of the program\n",
    "- Abstraction: the practice of hiding the details of how a particular code or system works and exposing only the essential features or functions that are necessary for other parts of the program to use\n",
    "- Duplication: having multiple duplicate code blocks, often decreasing readability and efficiency\n",
    "- Logic: the sequence of steps and operations that a computer follows to execute a program, including the specific instructions and decision-making processes built into the code\n",
    "\n",
    "Abstracting program logic into separate, smaller tasks is effective because the problem is easier to approach. By separating the tasks, the steps are clearly planned out and this avoids repetition and has more clarity."
   ]
  },
  {
   "cell_type": "code",
   "execution_count": 9,
   "metadata": {},
   "outputs": [
    {
     "name": "stdout",
     "output_type": "stream",
     "text": [
      "3\n"
     ]
    }
   ],
   "source": [
    "#calculator\n",
    "import math\n",
    "\n",
    "#create functions for each calculator function\n",
    "\n",
    "#step 1: addition\n",
    "def add(a, b):\n",
    "    print(a + b)\n",
    "\n",
    "#step 2: subtraction\n",
    "def subtract(a, b):\n",
    "    print(a - b)\n",
    "\n",
    "#step 3: multiplication\n",
    "def multiply(a, b):\n",
    "    print(a * b)\n",
    "\n",
    "#step 4: division\n",
    "def div(a, b):\n",
    "    print(a/b)\n",
    "\n",
    "#step 5: square root\n",
    "def squareroot(num):\n",
    "    print(math.sqrt(num))\n",
    "\n",
    "#get 2 number inputs for addition, subtraction, multiplication, division\n",
    "def num_input():\n",
    "   num1 = int(input(\"First number:\"))\n",
    "   num2 = int(input(\"Second number:\"))\n",
    "   return num1, num2\n",
    "\n",
    "#ask if user wants to add, subtract, multiply, division, squareroot\n",
    "function = input(\"Type +, -, /, *, or sqrt\")\n",
    "\n",
    "#based on user's function input, perform math\n",
    "#add\n",
    "if function == \"+\":\n",
    "    num1, num2 = num_input()\n",
    "    add(num1, num2)\n",
    "#subtract\n",
    "elif function == \"-\":\n",
    "    num1, num2 = num_input()\n",
    "    subtract(num1, num2)\n",
    "#multiplication\n",
    "elif function == \"*\":\n",
    "    num1, num2 = num_input()\n",
    "    multiply(num1, num2)\n",
    "#division\n",
    "elif function == \"/\":\n",
    "    num1, num2 = num_input()\n",
    "    div(num1, num2)\n",
    "#sqrt\n",
    "elif function == \"sqrt\":\n",
    "    num1, num2 = num_input()\n",
    "    squareroot(num1, num2)\n",
    "\n",
    "\n"
   ]
  },
  {
   "cell_type": "code",
   "execution_count": 3,
   "metadata": {},
   "outputs": [
    {
     "name": "stdout",
     "output_type": "stream",
     "text": [
      "Words starting with h: 1\n",
      "Words starting with t: 2\n"
     ]
    }
   ],
   "source": [
    "# this function takes a string as input and returns a list of words, where each word\n",
    "# is a separate element in the list\n",
    "def split_string(s):\n",
    "    # use the split() method to split the string into a list of words\n",
    "    words = s.split(\" \")\n",
    "\n",
    "\t# initialize a new list to hold all non-empty strings\n",
    "    new_words = []\n",
    "    for word in words:\n",
    "        if word != \"\":\n",
    "            # add all non-empty substrings of `words` to `new_words`\n",
    "            new_words.append(word)\n",
    "    \n",
    "    return words\n",
    "\n",
    "# this function takes a list of words as input and returns the number of words\n",
    "# that start with the given letter (case-insensitive)\n",
    "def count_words_starting_with_letter(words, letter):\n",
    "    count = 0\n",
    "    \n",
    "    # loop through the list of words and check if each word starts with the given letter\n",
    "    for word in words:\n",
    "        # use the lower() method to make the comparison case-insensitive\n",
    "        if word.lower().startswith(letter):\n",
    "            count += 1\n",
    "    \n",
    "    return count\n",
    "\n",
    "# this function takes a string as input and returns the number of words that start with 'a'\n",
    "def count_words_starting_with_a_in_string(s):\n",
    "    # use the split_string() function to split the input string into a list of words\n",
    "    words = split_string(s)\n",
    "    \n",
    "    # use the count_words_starting_with_letter() function to count the number of words\n",
    "    # that start with 'a' in the list of words\n",
    "    count = count_words_starting_with_letter(words, \"a\")\n",
    "    \n",
    "    return count\n",
    "\n",
    "# see above\n",
    "def count_words_starting_with_letter_in_string(s, c):\n",
    "    words = split_string(s)\n",
    "    count = count_words_starting_with_letter(words, c)\n",
    "    return count\n",
    "\n",
    "# example usage:\n",
    "string = \"hello, my name is grace. this is a test string\"\n",
    "h = \"h\"\n",
    "t = \"t\"\n",
    "s_count1 = count_words_starting_with_letter_in_string(string, h)\n",
    "s_count2 = count_words_starting_with_letter_in_string(string, t)\n",
    "print(f\"Words starting with h:\", s_count1)\n",
    "print(f\"Words starting with t:\", s_count2)"
   ]
  },
  {
   "attachments": {},
   "cell_type": "markdown",
   "metadata": {},
   "source": [
    "Procedure name- name given to a fuction\n",
    "Argument- stuff inputted after procedure name, used to outside function then called with the function with parameters"
   ]
  },
  {
   "cell_type": "markdown",
   "metadata": {},
   "source": [
    "## Topic 3.13 (3.C) Developing Procedures - David & Alex\n",
    "### Overview: Learning Objectives\n",
    "- parameters being used to manage complexity\n",
    "  - parameters storing variables\n",
    "  - parameters storing arguments\n",
    "- calling functions with procedure names\n",
    "  - choosing procedure names\n",
    "  - calling procedures in python and javascript\n",
    "\n",
    "### Vocabulary:\n",
    "- <font color=\"#ffffc2\" style=\"font-weight: bold\">Procedure</font> - a module of code that is created to complete a certain task, this is basically a function\n",
    "- <font color=\"#ffffc2\" style=\"font-weight: bold\">Procedure Name</font> - the name that is given to a function/procedure\n",
    "- <font color=\"#ffffc2\" style=\"font-weight: bold\">Parameters</font> - a variable that is used in a function to allow for data to be imported into a function\n",
    "- <font color=\"#ffffc2\" style=\"font-weight: bold\">Arguments</font> - a way to provide information to a function, usually defined outside a function and then imported into a function with parameters\n",
    "\n",
    "### Functions - Basic Structure\n",
    "\n",
    "Functions can be created in many different languages. Below are some examples in Collegeboard's format, Python, and Javascript.\n",
    "\n",
    "#### Collegeboard\n",
    "\n",
    "![collegeboard-format](https://user-images.githubusercontent.com/111480448/206083549-4380cd04-187d-4786-9e40-6f87968cd3de.png)\n",
    "\n",
    "Above, the function is defined as ```PROCEDURE```, which tells the coder that this is a function. The function is then named with ```procName```, which is simply how the function is identified. ```parameter1, parameter2,...``` are variables that can be predefined elsewhere and repeatedly used in the same function. This will be gone over later in the lesson so don't worry if you don't get it. ```block of statements``` are just things that you would place inside a function to complete a certain task, such as ```print()``` in Python.\n",
    "\n",
    "#### Python\n",
    "\n",
    "```bash\n",
    "def function(a,b): # function is defined\n",
    "  print(a+b) # prints output of variables\n",
    "\n",
    "function(1,2) # one instance that it can be used\n",
    "function(2,3) # another instance\n",
    "```\n",
    "\n",
    "```\n",
    "3\n",
    "5\n",
    "```\n",
    "\n",
    "Python is similar to the Collegeboard example, where ```def``` defines the function, ```function```, and then is followed by parameters ```a,b```, which can later be interchanged with any numbers as shown with ```function(1,2)```. The numbers are called arguments, which are information provided to the function with parameters. In this case, the parameters are being added within the function and then printed.\n",
    "\n",
    "#### Javascript\n",
    "\n",
    "```javascript\n",
    "function Function(a,b) {\n",
    "  return a + b;\n",
    "}\n",
    "\n",
    "Function(1,2)\n",
    "Function(2,3)\n",
    "```\n",
    "\n",
    "```\n",
    "3\n",
    "5\n",
    "```\n",
    "\n",
    "Javascript in this case is almost the exact same as Python, the only differences being that function is called with ```function``` and that the formatting is a little different. Otherwise, it does the exact same thing as the Python example.\n",
    "\n",
    "#### Example\n",
    "\n",
    "```javascript\n",
    "function div(a,b) {\n",
    "  return (a+b)/2\n",
    "}\n",
    "\n",
    "div(3,7)\n",
    "```\n",
    "\n",
    "- What is the procedure name?\n",
    "- What are the parameters?\n",
    "- What operation is being done?\n",
    "- what would the output of this code be?\n",
    "\n"
   ]
  },
  {
   "cell_type": "markdown",
   "metadata": {},
   "source": [
    "### Parameters\n",
    "- In functions, there are sometimes parameters that the functions have in which you can call to the function giving arguements that will provide input to the function\n",
    "For example:\n"
   ]
  },
  {
   "cell_type": "code",
   "execution_count": null,
   "metadata": {},
   "outputs": [
    {
     "name": "stdout",
     "output_type": "stream",
     "text": [
      "num1 is less than num 2\n"
     ]
    }
   ],
   "source": [
    "def function(num1, num2):\n",
    "    if num1 > num2:\n",
    "        print(\"num1 is greater than num2\")\n",
    "    elif num1 <num2:\n",
    "        print(\"num1 is less than num 2\")\n",
    "\n",
    "num1= 6\n",
    "num2 = 8\n",
    "function(num1,num2)"
   ]
  },
  {
   "attachments": {},
   "cell_type": "markdown",
   "metadata": {},
   "source": [
    "\n",
    "<!-- function is called here -->\n",
    "<button id=\"button_A\">Press to do some math</button>\n",
    "\n",
    "<p>var a = 3</p>\n",
    "<p>var b = 4</p>\n",
    "<button id=\"enter\" onclick=\"add(a,b)\">add</button> \n",
    "<p id=\"result1\"></p>\n",
    "<button id=\"enter\" onclick=\"subtract(a,b)\">subtract</button> \n",
    "<p id=\"result2\"></p>\n",
    "<button id=\"enter\" onclick=\"multiply(a,b)\">multiply</button> \n",
    "<p id=\"result3\"></p>\n",
    "<button id=\"enter\" onclick=\"divide(a,b)\">divide</button> \n",
    "<p id=\"result4\"></p>\n",
    "\n",
    "\n",
    "<!-- javascript -->\n",
    "<script>\n",
    "    const buttonA = document.querySelector('#button_A');\n",
    "    const headingA = document.querySelector('#heading_A');\n",
    "\n",
    "    buttonA.onclick = () => {\n",
    "    var a = prompt('First number:');\n",
    "    var b = prompt('Second number:');\n",
    "}\n",
    "\n",
    "    function add(a,b) {\n",
    "        document.getElementById(\"result1\").innerHTML = a + b // math\n",
    "    }\n",
    "    function subtract(a,b) {\n",
    "        document.getElementById(\"result2\").innerHTML = a - b\n",
    "    }\n",
    "    function multiply(a,b) {\n",
    "        document.getElementById(\"result3\").innerHTML = a * b // math\n",
    "    }\n",
    "    function divide(a,b) {\n",
    "        document.getElementById(\"result4\").innerHTML = a / b // math\n",
    "    }\n",
    "    // variables are defined\n",
    "    var a = 3\n",
    "    var b = 4\n",
    "</script>\n",
    "```"
   ]
  },
  {
   "attachments": {},
   "cell_type": "markdown",
   "metadata": {},
   "source": [
    "### Topic 3.13 (3.C):\n",
    "1. Define <font color=\"#ffffc2\" style=\"font-weight: bold\">procedure names</font> and <font color=\"#ffffc2\" style=\"font-weight: bold\">arguments</font> in your own words.\n",
    "2. Code some <font color=\"#ffffc2\" style=\"font-weight: bold\">procedures</font> that use <font color=\"#ffffc2\" style=\"font-weight: bold\">arguments</font> and <font color=\"#ffffc2\" style=\"font-weight: bold\">parameters</font> with Javascript and HTML (make sure they are interactive on your hacks page, allowing the user to input numbers and click a button to produce an output)\n",
    "  - Add two numbers\n",
    "  - Subtract two numbers\n",
    "  - Multiply two numbers\n",
    "  - Divide two numbers"
   ]
  },
  {
   "cell_type": "markdown",
   "metadata": {},
   "source": [
    "### Rubric\n",
    "Each hack is worth 0.3 points\n",
    "- To get 0.3 points for each hack you must:\n",
    "    - Complete each hack correctly and completely\n",
    "    - Submit by 11:59PM on <mark color=\"#ffffc2\">Friday, December 9</mark>\n",
    "- The last 0.1 points are if you do a good job on the binary calculator.\n",
    "- Anything missing or submitted late will have points deducted."
   ]
  }
 ],
 "metadata": {
  "kernelspec": {
   "display_name": "Python 3.10.8 64-bit",
   "language": "python",
   "name": "python3"
  },
  "language_info": {
   "codemirror_mode": {
    "name": "ipython",
    "version": 3
   },
   "file_extension": ".py",
   "mimetype": "text/x-python",
   "name": "python",
   "nbconvert_exporter": "python",
   "pygments_lexer": "ipython3",
   "version": "3.10.8"
  },
  "orig_nbformat": 4,
  "vscode": {
   "interpreter": {
    "hash": "b0fa6594d8f4cbf19f97940f81e996739fb7646882a419484c72d19e05852a7e"
   }
  }
 },
 "nbformat": 4,
 "nbformat_minor": 2
}
