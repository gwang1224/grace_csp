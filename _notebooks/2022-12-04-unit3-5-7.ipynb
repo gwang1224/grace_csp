{
 "cells": [
  {
   "cell_type": "markdown",
   "metadata": {},
   "source": [
    "# Unit 3.1-3.7\n",
    "- toc: true\n",
    "- badges: true\n",
    "- categories: [trimester 2 student teaching]"
   ]
  },
  {
   "cell_type": "markdown",
   "metadata": {},
   "source": [
    "## Unit 3.5\n",
    "\n",
    "- Boolean: used to represent logical propositions, either true or false\n",
    "    - For example: there are clouds in the sky = True\n",
    "- Relational operators\n",
    "    - For example: age to get drivers license > 16\n",
    "- Logical Operators\n",
    "    - not: displays the opposite of whatever the data is\\\n",
    "    - and: used to evaluate two conditions together\n",
    "    - or: if one condition is met"
   ]
  },
  {
   "cell_type": "code",
   "execution_count": 7,
   "metadata": {},
   "outputs": [
    {
     "name": "stdout",
     "output_type": "stream",
     "text": [
      "True\n"
     ]
    }
   ],
   "source": [
    "#Not\n",
    "sad = False\n",
    "result = not(sad)\n",
    "print(result)\n"
   ]
  },
  {
   "cell_type": "code",
   "execution_count": 9,
   "metadata": {},
   "outputs": [
    {
     "name": "stdout",
     "output_type": "stream",
     "text": [
      "Congrats, you get your drivers license!\n"
     ]
    }
   ],
   "source": [
    "#And\n",
    "pass_test = True\n",
    "age = 18\n",
    "\n",
    "if pass_test and age >= 16:\n",
    "    print(\"Congrats, you get your drivers license!\")"
   ]
  },
  {
   "cell_type": "code",
   "execution_count": 10,
   "metadata": {},
   "outputs": [
    {
     "name": "stdout",
     "output_type": "stream",
     "text": [
      "You did very well on the quiz!\n"
     ]
    }
   ],
   "source": [
    "#Or\n",
    "score = 9\n",
    "if score == 9 or score == 0:\n",
    "    print(\"You did very well on the quiz!\")"
   ]
  },
  {
   "cell_type": "markdown",
   "metadata": {},
   "source": [
    "- Conditionals: allow for the expression of algorithms that utilize selection without a programming language\n",
    "- algorithm: the algorithm describes the instructions to complete a task, which done by the graphic with a list of instructions to do\n",
    "- Selection: Code that will execute depending on the algorithm condition returning true or false\n",
    "- Conditional Statement / If-Statement: Code that is initiated if a statement is true"
   ]
  },
  {
   "cell_type": "code",
   "execution_count": 3,
   "metadata": {},
   "outputs": [
    {
     "name": "stdout",
     "output_type": "stream",
     "text": [
      "The number of vowels is 2\n"
     ]
    }
   ],
   "source": [
    "#Level 1\n",
    "word = \"hello\"\n",
    "vowel_count = 0\n",
    "\n",
    "for letter in word:\n",
    "    if letter == \"a\" or letter == \"e\" or letter == \"i\" or letter == \"o\" or letter == \"u\":\n",
    "        vowel_count += 1\n",
    "print(f\"The number of vowels is {vowel_count}.\")"
   ]
  },
  {
   "cell_type": "code",
   "execution_count": null,
   "metadata": {},
   "outputs": [],
   "source": [
    "#Level 2\n",
    "\n",
    "list = [\"Grace\", \"Claire\", \"Annika\"]\n",
    "if len(list) == 0:\n",
    "    print(\"no one likes this\")\n",
    "elif len(list) == 1:\n",
    "    print()\n"
   ]
  }
 ],
 "metadata": {
  "kernelspec": {
   "display_name": "Python 3.10.8 64-bit",
   "language": "python",
   "name": "python3"
  },
  "language_info": {
   "codemirror_mode": {
    "name": "ipython",
    "version": 3
   },
   "file_extension": ".py",
   "mimetype": "text/x-python",
   "name": "python",
   "nbconvert_exporter": "python",
   "pygments_lexer": "ipython3",
   "version": "3.10.8"
  },
  "orig_nbformat": 4,
  "vscode": {
   "interpreter": {
    "hash": "b0fa6594d8f4cbf19f97940f81e996739fb7646882a419484c72d19e05852a7e"
   }
  }
 },
 "nbformat": 4,
 "nbformat_minor": 2
}
