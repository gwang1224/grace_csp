{
 "cells": [
  {
   "cell_type": "markdown",
   "metadata": {},
   "source": [
    "# Unit 3.1-3.7\n",
    "- toc: true\n",
    "- badges: true\n",
    "- categories: [trimester 2 student teaching]"
   ]
  },
  {
   "cell_type": "markdown",
   "metadata": {},
   "source": [
    "## Unit 3.5\n",
    "\n",
    "- Boolean: used to represent logical propositions, either true or false\n",
    "    - For example: there are clouds in the sky = True\n",
    "- Relational operators\n",
    "    - For example: age to get drivers license > 16\n",
    "- Logical Operators\n",
    "    - not: displays the opposite of whatever the data is\\\n",
    "    - and: used to evaluate two conditions together\n",
    "    - or: if one condition is met"
   ]
  },
  {
   "cell_type": "code",
   "execution_count": 7,
   "metadata": {},
   "outputs": [
    {
     "name": "stdout",
     "output_type": "stream",
     "text": [
      "True\n"
     ]
    }
   ],
   "source": [
    "#Not\n",
    "sad = False\n",
    "result = not(sad)\n",
    "print(result)\n"
   ]
  },
  {
   "cell_type": "code",
   "execution_count": 9,
   "metadata": {},
   "outputs": [
    {
     "name": "stdout",
     "output_type": "stream",
     "text": [
      "Congrats, you get your drivers license!\n"
     ]
    }
   ],
   "source": [
    "#And\n",
    "pass_test = True\n",
    "age = 18\n",
    "\n",
    "if pass_test and age >= 16:\n",
    "    print(\"Congrats, you get your drivers license!\")"
   ]
  },
  {
   "cell_type": "code",
   "execution_count": 10,
   "metadata": {},
   "outputs": [
    {
     "name": "stdout",
     "output_type": "stream",
     "text": [
      "You did very well on the quiz!\n"
     ]
    }
   ],
   "source": [
    "#Or\n",
    "score = 9\n",
    "if score == 9 or score == 0:\n",
    "    print(\"You did very well on the quiz!\")"
   ]
  },
  {
   "cell_type": "markdown",
   "metadata": {},
   "source": [
    "- Conditionals: allow for the expression of algorithms that utilize selection without a programming language\n",
    "- algorithm: the algorithm describes the instructions to complete a task, which done by the graphic with a list of instructions to do\n",
    "- Selection: Code that will execute depending on the algorithm condition returning true or false\n",
    "- Conditional Statement / If-Statement: Code that is initiated if a statement is true"
   ]
  },
  {
   "cell_type": "code",
   "execution_count": 3,
   "metadata": {},
   "outputs": [
    {
     "name": "stdout",
     "output_type": "stream",
     "text": [
      "The number of vowels is 2\n"
     ]
    }
   ],
   "source": [
    "#Level 1\n",
    "word = \"hello\"\n",
    "vowel_count = 0\n",
    "\n",
    "for letter in word:\n",
    "    if letter == \"a\" or letter == \"e\" or letter == \"i\" or letter == \"o\" or letter == \"u\":\n",
    "        vowel_count += 1\n",
    "print(f\"The number of vowels is {vowel_count}.\")"
   ]
  },
  {
   "cell_type": "code",
   "execution_count": 10,
   "metadata": {},
   "outputs": [
    {
     "name": "stdout",
     "output_type": "stream",
     "text": [
      "Grace, Claire and Annika liked this\n",
      "Grace, Claire and 2 others liked this\n"
     ]
    }
   ],
   "source": [
    "#Level 2\n",
    "\n",
    "def likes_count(list):\n",
    "    if len(list) == 0:\n",
    "        print(\"no one likes this\")\n",
    "    elif len(list) == 1:\n",
    "        print(list[0] + \" liked this\")\n",
    "    elif len(list) == 2:\n",
    "        print(list[0] + \" and \" + list[1] + \" liked this\")\n",
    "    elif len(list) == 3:\n",
    "        print(list[0] + \", \" + list[1] + \" and \" + list[2] + \" liked this\")\n",
    "    else:\n",
    "        print(list[0] + \", \" + list[1] + \" and 2 others liked this\")\n",
    "\n",
    "list1 = [\"Grace\", \"Claire\", \"Annika\"]\n",
    "list2 = [\"Grace\", \"Claire\", \"Annika\", \"John\"]\n",
    "\n",
    "likes_count(list1)\n",
    "likes_count(list2)\n",
    "\n"
   ]
  },
  {
   "cell_type": "markdown",
   "metadata": {},
   "source": [
    "## Unit 3.7\n",
    "\n",
    "![photo](https://cdn.discordapp.com/attachments/871893548319014932/1049568541931733012/Untitled_drawing.jpg)\n",
    "![photo](https://cdn.discordapp.com/attachments/871893548319014932/1049571011118497823/Untitled_drawing_1.jpg)\n",
    "![photo](https://cdn.discordapp.com/attachments/871893548319014932/1049571464338210826/Untitled_drawing_2.jpg)\n"
   ]
  },
  {
   "cell_type": "code",
   "execution_count": 11,
   "metadata": {},
   "outputs": [
    {
     "name": "stdout",
     "output_type": "stream",
     "text": [
      "wear sunscreen\n"
     ]
    }
   ],
   "source": [
    "#Flow Chart 1\n",
    "weather_sunny = True\n",
    "weather_rainy = False\n",
    "weather_cold = True\n",
    "weather_hot = False\n",
    "\n",
    "if weather_sunny:\n",
    "    print(\"wear sunscreen\")\n",
    "else:\n",
    "    if weather_rainy:\n",
    "        print(\"Bring an umbrella\")\n",
    "    else:\n",
    "        if weather_cold:\n",
    "            print(\"Wear a sweater\")\n",
    "        else:\n",
    "            if weather_hot:\n",
    "                print(\"Wear a tank top\")\n",
    "            else:\n",
    "                print(\"Wear short sleeves\")\n"
   ]
  },
  {
   "cell_type": "code",
   "execution_count": 12,
   "metadata": {},
   "outputs": [
    {
     "name": "stdout",
     "output_type": "stream",
     "text": [
      "You should take math\n"
     ]
    }
   ],
   "source": [
    "#Flow Chart 2\n",
    "if input(\"Do you like stem\") == \"yes\":\n",
    "    if input(\"Do you like experiments or numbers\") == \"numbers\":\n",
    "        print(\"You should take math\")\n",
    "    else:\n",
    "        if input(\"do you like living things?\") == \"yes\":\n",
    "            print(\"Take biology\")\n",
    "        else:\n",
    "            print(\"take physics or chemistry\")\n",
    "else:\n",
    "    if input(\"Do you like learning about dead people or writng?\") == \"writing\":\n",
    "        print(\"You should take english\")\n",
    "    else:\n",
    "        print(\"You should take history\")\n",
    "\n"
   ]
  },
  {
   "cell_type": "code",
   "execution_count": null,
   "metadata": {},
   "outputs": [],
   "source": [
    "#Flow Chart 3\n",
    "if input(\"Do you like Taylor Swift?\") == \"yes\":\n",
    "    if input(\"What is your favorite album?\") == \"folklore\":\n",
    "        print(\"Samzies\")\n",
    "    else:\n",
    "        print(\"Ok, understandable\")\n",
    "else:\n",
    "    if input(\"Do you like Kanye West?\") == \"yes\":\n",
    "        print(\"We can never be friends\")\n",
    "    else:\n",
    "        print(\"Good, you should listen to TS\")\n"
   ]
  },
  {
   "cell_type": "code",
   "execution_count": null,
   "metadata": {},
   "outputs": [],
   "source": [
    "#Classes\n",
    "if input(\"Are you interested in STEM?\") == \"yes\":\n",
    "    print(\"You should take calculus, biology, chemistry, or physics\")\n",
    "else:\n",
    "    print(\"You should take APEC, APUSH, or AP Government\")"
   ]
  }
 ],
 "metadata": {
  "kernelspec": {
   "display_name": "Python 3.10.8 64-bit",
   "language": "python",
   "name": "python3"
  },
  "language_info": {
   "codemirror_mode": {
    "name": "ipython",
    "version": 3
   },
   "file_extension": ".py",
   "mimetype": "text/x-python",
   "name": "python",
   "nbconvert_exporter": "python",
   "pygments_lexer": "ipython3",
   "version": "3.10.8"
  },
  "orig_nbformat": 4,
  "vscode": {
   "interpreter": {
    "hash": "b0fa6594d8f4cbf19f97940f81e996739fb7646882a419484c72d19e05852a7e"
   }
  }
 },
 "nbformat": 4,
 "nbformat_minor": 2
}
