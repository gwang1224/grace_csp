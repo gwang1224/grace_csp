{
 "cells": [
  {
   "attachments": {},
   "cell_type": "markdown",
   "metadata": {},
   "source": [
    "# Unit 3.17 & 3.18\n",
    "\n",
    "- toc: true\n",
    "- badges: true\n",
    "- categories: [trimester 2 student teaching]"
   ]
  },
  {
   "attachments": {},
   "cell_type": "markdown",
   "metadata": {},
   "source": [
    "## Unit 3.18"
   ]
  },
  {
   "cell_type": "code",
   "execution_count": 15,
   "metadata": {},
   "outputs": [
    {
     "name": "stdout",
     "output_type": "stream",
     "text": [
      "Please enter a number: \n",
      "Sequence: \n",
      "50 25 76 38 19 58 29 88 44 22 11 34 17 52 26 13 40 20 10 5 16 8 4 2 1\n",
      "Number of iterations: 24\n"
     ]
    }
   ],
   "source": [
    "def collatz(i):\n",
    "    while i != 1:\n",
    "        if i % 2 > 0:\n",
    "             i =((3 * i) + 1)\n",
    "             list_.append(int(i))\n",
    "        else:\n",
    "            i = (i / 2)\n",
    "            list_.append(int(i))\n",
    "    return list_\n",
    "\n",
    "\n",
    "print('Please enter a number: ', end='' + \"\\n\")\n",
    "while True:\n",
    "    try:\n",
    "        i = int(input())\n",
    "        list_ = [i]\n",
    "        break\n",
    "    except ValueError:\n",
    "        print('Invaid selection, try again: ', end='')\n",
    "\n",
    "\n",
    "l = collatz(i)\n",
    "\n",
    "print('Sequence: ')\n",
    "print(*l, sep=\" \")\n",
    "print('Number of iterations:', len(l) - 1)"
   ]
  },
  {
   "attachments": {},
   "cell_type": "markdown",
   "metadata": {},
   "source": [
    "## Unit 3.17"
   ]
  },
  {
   "cell_type": "code",
   "execution_count": 3,
   "metadata": {},
   "outputs": [
    {
     "name": "stdout",
     "output_type": "stream",
     "text": [
      "The number was at index 3.\n"
     ]
    }
   ],
   "source": [
    "# Inefficient Way\n",
    "\n",
    "num_list = [43,12,4,5,63,1,6,10]\n",
    "\n",
    "search_num = 5\n",
    "if num_list[0] == search_num:\n",
    "    print(\"The number was at index 0.\")\n",
    "if num_list[1] == search_num:\n",
    "    print(\"The number was at index 1.\")\n",
    "if num_list[2] == search_num:\n",
    "    print(\"The number was at index 2.\")\n",
    "if num_list[3] == search_num:\n",
    "    print(\"The number was at index 3.\")\n",
    "if num_list[4] == search_num:\n",
    "    print(\"The number was at index 4.\")\n",
    "if num_list[5] == search_num:\n",
    "    print(\"The number was at index 5.\")\n",
    "if num_list[6] == search_num:\n",
    "    print(\"The number was at index 6.\")\n",
    "if num_list[7] == search_num:\n",
    "    print(\"The number was at index 7.\")"
   ]
  },
  {
   "cell_type": "code",
   "execution_count": 12,
   "metadata": {},
   "outputs": [
    {
     "name": "stdout",
     "output_type": "stream",
     "text": [
      "The number was at index 3.\n"
     ]
    }
   ],
   "source": [
    "#Efficient Way\n",
    "\n",
    "num_list = [43,12,4,5,63,1,6,5]\n",
    "search_num = 5\n",
    "\n",
    "index = num_list.index(search_num)\n",
    "print(f\"The number was at index {index}.\")"
   ]
  },
  {
   "attachments": {},
   "cell_type": "markdown",
   "metadata": {},
   "source": [
    "For this linear search algorithm, the inefficient code needs to manually input the index of the num_list. As seen each index is compared with the command \n",
    "```\n",
    "if num_list[0] == search_num:\n",
    "    print(\"The number was at index 0.\")\n",
    "```\n",
    "This makes the code extremely long as two lines of code needs to be written for each index. However, with a the index function, given an input, it will return the index at which the number appears, thus decreasing the lines of code from 18 to 4."
   ]
  },
  {
   "attachments": {},
   "cell_type": "markdown",
   "metadata": {},
   "source": [
    "Algorithm efficiency: a property of an algorithm which relates to the amount of computational resources used by the algorithm, the more efficient an algorithm is, the better the code is because it will take less time and code"
   ]
  },
  {
   "cell_type": "code",
   "execution_count": null,
   "metadata": {},
   "outputs": [],
   "source": [
    "tasks = [\"finish homework\", \"shower\", \"skincare\",  \"read\", \"sleep\"]\n",
    " \n",
    "def complete_tasks(tasks):\n",
    "    for task in tasks: \n",
    "        if task == \"finish homework\":\n",
    "            print(\"Finishing homework now!\")\n",
    "        elif task == \"shower\":\n",
    "            print(\"Showering now!\")\n",
    "        elif task == \"skincare\":\n",
    "            print(\"Skincare now!\")\n",
    "        elif task == \"read\":\n",
    "            print(\"Reading now!\")\n",
    "        elif task == \"sleep\":\n",
    "            print(\"Sleeping now!\")\n",
    "        \n",
    "complete_tasks(tasks)"
   ]
  },
  {
   "attachments": {},
   "cell_type": "markdown",
   "metadata": {},
   "source": [
    "Code 2 algorithms: (.25)\n",
    "\n",
    "The first Algorithm should be efficient while the second should be innefficient. Then explain what distinguishes the efficient from the non-efficient one. (In your own words)\n",
    "\n",
    "Explain algorithm efficiency in your own words (.25)\n",
    "\n",
    "Code an efficient program that shows your daily tasks or schedule. (We have an example shown in our lesson) (.25)\n"
   ]
  }
 ],
 "metadata": {
  "kernelspec": {
   "display_name": "Python 3",
   "language": "python",
   "name": "python3"
  },
  "language_info": {
   "codemirror_mode": {
    "name": "ipython",
    "version": 3
   },
   "file_extension": ".py",
   "mimetype": "text/x-python",
   "name": "python",
   "nbconvert_exporter": "python",
   "pygments_lexer": "ipython3",
   "version": "3.10.9"
  },
  "orig_nbformat": 4,
  "vscode": {
   "interpreter": {
    "hash": "b0fa6594d8f4cbf19f97940f81e996739fb7646882a419484c72d19e05852a7e"
   }
  }
 },
 "nbformat": 4,
 "nbformat_minor": 2
}
