{
 "cells": [
  {
   "cell_type": "markdown",
   "metadata": {},
   "source": [
    "# API\n",
    "\n",
    "- toc: true \n",
    "- badges: true\n",
    "- comments: true\n",
    "- categories: [T1 CSP]\n",
    "- permalink: /notebooks/api\n",
    "\n",
    "{% include nav_frontend.html %}"
   ]
  },
  {
   "cell_type": "code",
   "execution_count": 5,
   "metadata": {},
   "outputs": [
    {
     "name": "stdout",
     "output_type": "stream",
     "text": [
      "{'status': 'success', 'data': {'translatedText': '你叫什么名字？'}}\n",
      "{'status': 'success', 'data': {'translatedText': 'Как се казваш?'}}\n",
      "{'status': 'success', 'data': {'translatedText': 'Wie heißen Sie?'}}\n",
      "{'status': 'success', 'data': {'translatedText': 'Hva heter du?'}}\n",
      "{'status': 'success', 'data': {'translatedText': '名前は何？'}}\n"
     ]
    }
   ],
   "source": [
    "import requests\n",
    "\n",
    "url = \"https://text-translator2.p.rapidapi.com/translate\"\n",
    "\n",
    "chinese = \"source_language=en&target_language=zh-CN&text=What%20is%20your%20name%3F\"\n",
    "bulgarian = \"source_language=en&target_language=bg&text=What%20is%20your%20name%3F\"\n",
    "german = \"source_language=en&target_language=de&text=What%20is%20your%20name%3F\"\n",
    "norwegian = \"source_language=en&target_language=no&text=What%20is%20your%20name%3F\"\n",
    "japanese = \"source_language=en&target_language=ja&text=What%20is%20your%20name%3F\"\n",
    "\n",
    "headers = {\n",
    "\t\"content-type\": \"application/x-www-form-urlencoded\",\n",
    "\t\"X-RapidAPI-Key\": \"53ed50b3c5mshb1ebce663573fbap1a08a4jsneab1f395e0a6\",\n",
    "\t\"X-RapidAPI-Host\": \"text-translator2.p.rapidapi.com\"\n",
    "}\n",
    "\n",
    "chinese_translate = requests.request(\"POST\", url, data=chinese, headers=headers)\n",
    "bulgarian_translate = requests.request(\"POST\", url, data=bulgarian, headers=headers)\n",
    "german_translate = requests.request(\"POST\", url, data=german, headers=headers)\n",
    "norwegian_translate = requests.request(\"POST\", url, data=norwegian, headers=headers)\n",
    "japanese_translate = requests.request(\"POST\", url, data=japanese, headers=headers)\n",
    "\n",
    "print(chinese_translate.json())\n",
    "print(bulgarian_translate.json())\n",
    "print(german_translate.json())\n",
    "print(norwegian_translate.json())\n",
    "print(japanese_translate.json())\n"
   ]
  }
 ],
 "metadata": {
  "kernelspec": {
   "display_name": "Python 3.10.6 64-bit",
   "language": "python",
   "name": "python3"
  },
  "language_info": {
   "codemirror_mode": {
    "name": "ipython",
    "version": 3
   },
   "file_extension": ".py",
   "mimetype": "text/x-python",
   "name": "python",
   "nbconvert_exporter": "python",
   "pygments_lexer": "ipython3",
   "version": "3.10.6"
  },
  "orig_nbformat": 4,
  "vscode": {
   "interpreter": {
    "hash": "b0fa6594d8f4cbf19f97940f81e996739fb7646882a419484c72d19e05852a7e"
   }
  }
 },
 "nbformat": 4,
 "nbformat_minor": 2
}
