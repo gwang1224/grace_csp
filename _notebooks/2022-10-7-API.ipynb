{
 "cells": [
  {
   "cell_type": "markdown",
   "metadata": {},
   "source": [
    "# API\n",
    "\n",
    "- toc: true \n",
    "- badges: true\n",
    "- comments: true\n",
    "- categories: [T1 CSP]\n",
    "- permalink: /notebooks/api\n",
    "\n",
    "{% include nav_frontend.html %}"
   ]
  },
  {
   "cell_type": "markdown",
   "metadata": {},
   "source": []
  },
  {
   "cell_type": "code",
   "execution_count": 1,
   "metadata": {},
   "outputs": [
    {
     "name": "stdout",
     "output_type": "stream",
     "text": [
      "{\"ok\":true,\"result\":{\"songs\":[{\"id\":\"yhN8SdulOFc\",\"name\":\"Oingo Boingo - Dead Man's Party\",\"title\":\"Dead Man's Party\",\"artists\":[{\"artist_id\":\"UC8K_izaGa3qp3CnJaEl3Nlw\",\"name\":\"Oingo Boingo\"}],\"album\":{\"album_id\":\"MPREb_mLwEr4AenLe\",\"name\":\"Dead Man's Party\"},\"duration\":381,\"thumbnail\":\"https://lh3.googleusercontent.com/BbZHsb-wuPb62p-V8iCa08ojXD5o0VKtS7Z65ifM0z5UEJtNGtkqaIgWKbS_r9HLSy03fC_-iLsdqOL1=w120-h120-s-l90-rj\"},{\"id\":\"Js4yGcgO6hk\",\"name\":\"Oingo Boingo - Only A Lad\",\"title\":\"Only A Lad\",\"artists\":[{\"artist_id\":\"UC8K_izaGa3qp3CnJaEl3Nlw\",\"name\":\"Oingo Boingo\"}],\"album\":{\"album_id\":\"MPREb_RtE5XNSLA0k\",\"name\":\"Only A Lad\"},\"duration\":238,\"thumbnail\":\"https://lh3.googleusercontent.com/iyOZ9RQyNSK2-WhukhOy1TB6c1TyL1C42vwIstgW2WO5Ca9_ReG6l-_7fcQqNPRfzKsGepdiK3pXNhiB=w120-h120-l90-rj\"},{\"id\":\"IWi9ILehtZE\",\"name\":\"Oingo Boingo - Weird Science\",\"title\":\"Weird Science\",\"artists\":[{\"artist_id\":\"UC8K_izaGa3qp3CnJaEl3Nlw\",\"name\":\"Oingo Boingo\"}],\"album\":{\"album_id\":\"MPREb_mLwEr4AenLe\",\"name\":\"Dead Man's Party\"},\"duration\":368,\"thumbnail\":\"https://lh3.googleusercontent.com/BbZHsb-wuPb62p-V8iCa08ojXD5o0VKtS7Z65ifM0z5UEJtNGtkqaIgWKbS_r9HLSy03fC_-iLsdqOL1=w120-h120-s-l90-rj\"},{\"id\":\"z7kVtw-rFFk\",\"name\":\"OINGO BOINGO - Change\",\"title\":\"Change\",\"artists\":[{\"artist_id\":\"UC8K_izaGa3qp3CnJaEl3Nlw\",\"name\":\"OINGO BOINGO\"}],\"album\":{\"album_id\":\"MPREb_5BSHawgTige\",\"name\":\"Boingo\"},\"duration\":958,\"thumbnail\":\"https://lh3.googleusercontent.com/kyN49ZWBaUABuJeLqjwTFD29Elua28kB8iJ_mSaSyEX80bI8nPYOV5y0scywK76c56Oz0YirCcHcHDqJ3w=w120-h120-s-l90-rj\"},{\"id\":\"nQusU0g9H-E\",\"name\":\"Oingo Boingo - Just Another Day\",\"title\":\"Just Another Day\",\"artists\":[{\"artist_id\":\"UC8K_izaGa3qp3CnJaEl3Nlw\",\"name\":\"Oingo Boingo\"}],\"album\":{\"album_id\":\"MPREb_mLwEr4AenLe\",\"name\":\"Dead Man's Party\"},\"duration\":312,\"thumbnail\":\"https://lh3.googleusercontent.com/BbZHsb-wuPb62p-V8iCa08ojXD5o0VKtS7Z65ifM0z5UEJtNGtkqaIgWKbS_r9HLSy03fC_-iLsdqOL1=w120-h120-s-l90-rj\"},{\"id\":\"fCDb0v6aIJ8\",\"name\":\"Oingo Boingo - Stay\",\"title\":\"Stay\",\"artists\":[{\"artist_id\":\"UC8K_izaGa3qp3CnJaEl3Nlw\",\"name\":\"Oingo Boingo\"}],\"album\":{\"album_id\":\"MPREb_mLwEr4AenLe\",\"name\":\"Dead Man's Party\"},\"duration\":217,\"thumbnail\":\"https://lh3.googleusercontent.com/BbZHsb-wuPb62p-V8iCa08ojXD5o0VKtS7Z65ifM0z5UEJtNGtkqaIgWKbS_r9HLSy03fC_-iLsdqOL1=w120-h120-s-l90-rj\"},{\"id\":\"9cF8XQPQ1lU\",\"name\":\"Oingo Boingo - Dead Man's Party\",\"title\":\"Dead Man's Party\",\"artists\":[{\"artist_id\":\"UC8K_izaGa3qp3CnJaEl3Nlw\",\"name\":\"Oingo Boingo\"}],\"album\":{\"album_id\":\"MPREb_QeJ3g7e3JxV\",\"name\":\"The Best of Oingo Boingo: 20th Century Masters: The Millennium Collection\"},\"duration\":378,\"thumbnail\":\"https://lh3.googleusercontent.com/4EOwtp0dDKgOHA2vgalHVgCXMbwq1IPt-tia9O25Wv9kGAeq3xj_XVrVp4LQcc06rB8MGYPX_8EHxbDB=w120-h120-s-l90-rj\"},{\"id\":\"Y8B_a0ZHNj8\",\"name\":\"Oingo Boingo - Little Girls\",\"title\":\"Little Girls\",\"artists\":[{\"artist_id\":\"UC8K_izaGa3qp3CnJaEl3Nlw\",\"name\":\"Oingo Boingo\"}],\"album\":{\"album_id\":\"MPREb_RtE5XNSLA0k\",\"name\":\"Only A Lad\"},\"duration\":224,\"thumbnail\":\"https://lh3.googleusercontent.com/iyOZ9RQyNSK2-WhukhOy1TB6c1TyL1C42vwIstgW2WO5Ca9_ReG6l-_7fcQqNPRfzKsGepdiK3pXNhiB=w120-h120-l90-rj\"},{\"id\":\"iKXx8jTgaRY\",\"name\":\"Oingo Boingo - Who Do You Want To Be (1988 Boingo Alive Version)\",\"title\":\"Who Do You Want To Be (1988 Boingo Alive Version)\",\"artists\":[{\"artist_id\":\"UC8K_izaGa3qp3CnJaEl3Nlw\",\"name\":\"Oingo Boingo\"}],\"album\":{\"album_id\":\"MPREb_4xpjHT8T3jg\",\"name\":\"Boingo Alive\"},\"duration\":200,\"thumbnail\":\"https://lh3.googleusercontent.com/X7QQRD-2iByVwDe6P4kWCXTls_ZucRFmOHnUICiRE52dt8iyDUXwIJ17flxzTI1fIbQW_LW7OLjQV_Gh=w120-h120-l90-rj\"},{\"id\":\"_-iHqhaG2a8\",\"name\":\"OINGO BOINGO - I Am the Walrus\",\"title\":\"I Am the Walrus\",\"artists\":[{\"artist_id\":\"UC8K_izaGa3qp3CnJaEl3Nlw\",\"name\":\"OINGO BOINGO\"}],\"album\":{\"album_id\":\"MPREb_5BSHawgTige\",\"name\":\"Boingo\"},\"duration\":249,\"thumbnail\":\"https://lh3.googleusercontent.com/kyN49ZWBaUABuJeLqjwTFD29Elua28kB8iJ_mSaSyEX80bI8nPYOV5y0scywK76c56Oz0YirCcHcHDqJ3w=w120-h120-s-l90-rj\"},{\"id\":\"HDCOOReXXOE\",\"name\":\"Oingo Boingo - Who Do You Want To Be\",\"title\":\"Who Do You Want To Be\",\"artists\":[{\"artist_id\":\"UC8K_izaGa3qp3CnJaEl3Nlw\",\"name\":\"Oingo Boingo\"}],\"album\":{\"album_id\":\"MPREb_dgrwsSkVchN\",\"name\":\"Good For Your Soul\"},\"duration\":215,\"thumbnail\":\"https://lh3.googleusercontent.com/Ub9nnvz6UNjuiAy42rc0zsLrQQfnk8wdtixjUfkKyyyucK5kjLqOPD1qSUiG7Bt1QuuhmdYDQu-0Mmci=w120-h120-l90-rj\"},{\"id\":\"K9K_NLrWE8g\",\"name\":\"Oingo Boingo - We Close Our Eyes (Live)\",\"title\":\"We Close Our Eyes (Live)\",\"artists\":[{\"artist_id\":\"UC8K_izaGa3qp3CnJaEl3Nlw\",\"name\":\"Oingo Boingo\"}],\"album\":{\"album_id\":\"MPREb_i3K0pphWrln\",\"name\":\"Farewell: Live From The Universal Amphitheatre-Halloween 1995\"},\"duration\":253,\"thumbnail\":\"https://lh3.googleusercontent.com/rTNSd1AgScNYagD97G4Qy9K9qtPLUskLfNzgAM107qDETeCS8PbTL7g9KkiUc0JlbD9ixdfM9558auYa=w120-h120-l90-rj\"},{\"id\":\"qFQizKQc_AE\",\"name\":\"Oingo Boingo - Weird Science (From \\\"Weird Science\\\" Soundtrack)\",\"title\":\"Weird Science (From \\\"Weird Science\\\" Soundtrack)\",\"artists\":[{\"artist_id\":\"UC8K_izaGa3qp3CnJaEl3Nlw\",\"name\":\"Oingo Boingo\"}],\"album\":{\"album_id\":\"MPREb_kDyLIke48pt\",\"name\":\"Totally '80s For Kids\"},\"duration\":228,\"thumbnail\":\"https://lh3.googleusercontent.com/Go-jdtMZcq0-V9ds91fErbC-yGCK_Fjs1i1BhhPOfk2pAK9RdyUqCHSt1m3rIUnV-tD3Pe1Y2Tov1lo5=w120-h120-l90-rj\"},{\"id\":\"SRkQffUJ4D4\",\"name\":\"OINGO BOINGO - Hey!\",\"title\":\"Hey!\",\"artists\":[{\"artist_id\":\"UC8K_izaGa3qp3CnJaEl3Nlw\",\"name\":\"OINGO BOINGO\"}],\"album\":{\"album_id\":\"MPREb_5BSHawgTige\",\"name\":\"Boingo\"},\"duration\":463,\"thumbnail\":\"https://lh3.googleusercontent.com/kyN49ZWBaUABuJeLqjwTFD29Elua28kB8iJ_mSaSyEX80bI8nPYOV5y0scywK76c56Oz0YirCcHcHDqJ3w=w120-h120-s-l90-rj\"},{\"id\":\"0voEf2JcNKE\",\"name\":\"Oingo Boingo - We Close Our Eyes\",\"title\":\"We Close Our Eyes\",\"artists\":[{\"artist_id\":\"UC8K_izaGa3qp3CnJaEl3Nlw\",\"name\":\"Oingo Boingo\"}],\"album\":{\"album_id\":\"MPREb_RkG92rxteBQ\",\"name\":\"Boi-Ngo\"},\"duration\":218,\"thumbnail\":\"https://lh3.googleusercontent.com/SRm3QB1VILELxtwJBXsGbaAq3oGH3Ndcvao2_9LOokfxMXcdTBqJyaHmNneDRa502dv6Jd0ESM9UZuI=w120-h120-l90-rj\"},{\"id\":\"lq3HndBEKvg\",\"name\":\"Oingo Boingo - Gratitude (1988 Boingo Alive Version)\",\"title\":\"Gratitude (1988 Boingo Alive Version)\",\"artists\":[{\"artist_id\":\"UC8K_izaGa3qp3CnJaEl3Nlw\",\"name\":\"Oingo Boingo\"}],\"album\":{\"album_id\":\"MPREb_4xpjHT8T3jg\",\"name\":\"Boingo Alive\"},\"duration\":287,\"thumbnail\":\"https://lh3.googleusercontent.com/X7QQRD-2iByVwDe6P4kWCXTls_ZucRFmOHnUICiRE52dt8iyDUXwIJ17flxzTI1fIbQW_LW7OLjQV_Gh=w120-h120-l90-rj\"},{\"id\":\"PomYimSxUSg\",\"name\":\"Oingo Boingo - Outrageous\",\"title\":\"Outrageous\",\"artists\":[{\"artist_id\":\"UC8K_izaGa3qp3CnJaEl3Nlw\",\"name\":\"Oingo Boingo\"}],\"album\":{\"album_id\":\"MPREb_RkG92rxteBQ\",\"name\":\"Boi-Ngo\"},\"duration\":226,\"thumbnail\":\"https://lh3.googleusercontent.com/SRm3QB1VILELxtwJBXsGbaAq3oGH3Ndcvao2_9LOokfxMXcdTBqJyaHmNneDRa502dv6Jd0ESM9UZuI=w120-h120-l90-rj\"},{\"id\":\"zYwf9tL0jSg\",\"name\":\"Oingo Boingo - Is This\",\"title\":\"Is This\",\"artists\":[{\"artist_id\":\"UC8K_izaGa3qp3CnJaEl3Nlw\",\"name\":\"Oingo Boingo\"}],\"album\":{\"album_id\":\"MPREb_08LoF8hwVlO\",\"name\":\"Dark At The End Of The Tunnel\"},\"duration\":206,\"thumbnail\":\"https://lh3.googleusercontent.com/s3hUnc0klHj5d1gostHqEsaGanB7tDsT8BmavhccvWlYtJcVMMQX1sFJq-PhR-Z3Su7Sq9ZeNy2QIQuZog=w120-h120-s-l90-rj\"},{\"id\":\"ibZdil-Kbjw\",\"name\":\"Oingo Boingo - Grey Matter\",\"title\":\"Grey Matter\",\"artists\":[{\"artist_id\":\"UC8K_izaGa3qp3CnJaEl3Nlw\",\"name\":\"Oingo Boingo\"}],\"album\":{\"album_id\":\"MPREb_6fLlbZZyVRK\",\"name\":\"Nothing To Fear\"},\"duration\":352,\"thumbnail\":\"https://lh3.googleusercontent.com/gbwhHUD07aBKwMUCrt_LT7BPOWzzW2BbHhhz7uBZ4RZ9J2LZqC3qEMLE4EZYw1FkANp9whxDEmQS0gU=w120-h120-l90-rj\"},{\"id\":\"WL1Z6WIZClE\",\"name\":\"Oingo Boingo - My Life\",\"title\":\"My Life\",\"artists\":[{\"artist_id\":\"UC8K_izaGa3qp3CnJaEl3Nlw\",\"name\":\"Oingo Boingo\"}],\"album\":{\"album_id\":\"MPREb_RkG92rxteBQ\",\"name\":\"Boi-Ngo\"},\"duration\":276,\"thumbnail\":\"https://lh3.googleusercontent.com/SRm3QB1VILELxtwJBXsGbaAq3oGH3Ndcvao2_9LOokfxMXcdTBqJyaHmNneDRa502dv6Jd0ESM9UZuI=w120-h120-l90-rj\"}],\"videos\":[{\"id\":\"iypUpv9xelg\",\"title\":\"Oingo Boingo Dead Man's Party\",\"duration\":235},{\"id\":\"Jm-upHSP9KU\",\"title\":\"Oingo Boingo - Weird Science\",\"duration\":213},{\"id\":\"EJGykmmBjP4\",\"title\":\"Oingo Boingo - Just Another Day (1986, US # 85) (Enhanced Audio)\",\"duration\":245},{\"id\":\"qpjHW4mr6qo\",\"title\":\"Nothing Bad Ever Happens To Me\",\"duration\":222},{\"id\":\"3Mlbg3pJIR4\",\"title\":\"Oingo Boingo - Dead Man's Party - 4/25/1987 - Ritz\",\"duration\":354},{\"id\":\"nSDVK_snQIs\",\"title\":\"Skin - Oingo-Boingo\",\"duration\":281},{\"id\":\"yuxss1kBQWw\",\"title\":\"Private Life\",\"duration\":214},{\"id\":\"jItz-uNjoZA\",\"title\":\"Oingo Boingo - Little Girls\",\"duration\":226},{\"id\":\"DwRnW89EsxI\",\"title\":\"Stay\",\"duration\":245},{\"id\":\"XbLKWm12yx0\",\"title\":\"Oingo Boingo - Grey Matter - 4/25/1987 - Ritz\",\"duration\":326},{\"id\":\"YuyoUXanqA4\",\"title\":\"Oingo Boingo - Grey Matter\",\"duration\":353},{\"id\":\"lvLxnOx0tzw\",\"title\":\"Only a Lad - Oingo Boingo\",\"duration\":233},{\"id\":\"vs2KYJJjcG4\",\"title\":\"Tim Burton's DEAD MAN'S PARTY (OINGO BOINGO)\",\"duration\":137},{\"id\":\"6A7VNUEmIf4\",\"title\":\"Waiting For You (Mix 1) – Oingo Boingo \",\"duration\":179},{\"id\":\"j49evDiRqVA\",\"title\":\"Oingo Boingo's Cry Of The Vatos (normal and reversed)\",\"duration\":296}]}}\n"
     ]
    }
   ],
   "source": [
    "import requests\n",
    "\n",
    "url = \"https://youtube-music1.p.rapidapi.com/v2/search\"\n",
    "\n",
    "querystring = {\"query\":\"Oingo Boingo\"}\n",
    "\n",
    "headers = {\n",
    "\t\"X-RapidAPI-Key\": \"53ed50b3c5mshb1ebce663573fbap1a08a4jsneab1f395e0a6\",\n",
    "\t\"X-RapidAPI-Host\": \"youtube-music1.p.rapidapi.com\"\n",
    "}\n",
    "\n",
    "response = requests.request(\"GET\", url, headers=headers, params=querystring)\n",
    "\n",
    "print(response.text)"
   ]
  },
  {
   "cell_type": "code",
   "execution_count": 23,
   "metadata": {},
   "outputs": [
    {
     "name": "stdout",
     "output_type": "stream",
     "text": [
      "yhN8SdulOFc\n",
      "Oingo Boingo - Dead Man's Party\n",
      "Dead Man's Party\n",
      "[{'artist_id': 'UC8K_izaGa3qp3CnJaEl3Nlw', 'name': 'Oingo Boingo'}]\n",
      "{'album_id': 'MPREb_mLwEr4AenLe', 'name': \"Dead Man's Party\"}\n",
      "381\n",
      "https://lh3.googleusercontent.com/BbZHsb-wuPb62p-V8iCa08ojXD5o0VKtS7Z65ifM0z5UEJtNGtkqaIgWKbS_r9HLSy03fC_-iLsdqOL1=w120-h120-s-l90-rj\n"
     ]
    }
   ],
   "source": [
    "string_val = response.text\n",
    "dict_val = json.loads(string_val)\n",
    "\n",
    "song1 = dict_val['result']['songs']\n",
    "a = song1[0]\n",
    "for key in a.values():\n",
    "    print(key)\n"
   ]
  }
 ],
 "metadata": {
  "kernelspec": {
   "display_name": "Python 3.10.6 64-bit",
   "language": "python",
   "name": "python3"
  },
  "language_info": {
   "codemirror_mode": {
    "name": "ipython",
    "version": 3
   },
   "file_extension": ".py",
   "mimetype": "text/x-python",
   "name": "python",
   "nbconvert_exporter": "python",
   "pygments_lexer": "ipython3",
   "version": "3.10.6"
  },
  "orig_nbformat": 4,
  "vscode": {
   "interpreter": {
    "hash": "b0fa6594d8f4cbf19f97940f81e996739fb7646882a419484c72d19e05852a7e"
   }
  }
 },
 "nbformat": 4,
 "nbformat_minor": 2
}
