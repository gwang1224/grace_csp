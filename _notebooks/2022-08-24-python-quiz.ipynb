{
 "cells": [
  {
   "cell_type": "markdown",
   "metadata": {},
   "source": [
    "# Grace's Python Quiz\n",
    "- toc: true \n",
    "- badges: true\n",
    "- description: Grace's Quiz to test your Python knowledge\n",
    "- categories: [T1 CSP Notes]\n",
    "- image: images/python.png\n",
    "- comments: true"
   ]
  },
  {
   "cell_type": "code",
   "execution_count": null,
   "metadata": {
    "vscode": {
     "languageId": "shellscript"
    }
   },
   "outputs": [],
   "source": [
    "art = \"\"\"\n",
    "  .-_'''-.   .-------.       ____        _______      .-''-.    _ _    .-'''-.             ,-----.      ___    _ .-./`)  ____..--' \n",
    " '_( )_   \\  |  _ _   \\    .'  __ `.    /   __  \\   .'_ _   \\  ( ' )  / _     \\          .'  .-,  '.  .'   |  | |\\ .-.')|        | \n",
    "|(_ o _)|  ' | ( ' )  |   /   '  \\  \\  | ,_/  \\__) / ( ` )   '(_{;}_)(`' )/`--'         / ,-.|  \\ _ \\ |   .'  | |/ `-' \\|   .-'  ' \n",
    ". (_,_)/___| |(_ o _) /   |___|  /  |,-./  )      . (_ o _)  | (_,_)(_ o _).           ;  \\  '_ /  | :.'  '_  | | `-'`\"`|.-'.'   / \n",
    "|  |  .-----.| (_,_).' __    _.-`   |\\  '_ '`)    |  (_,_)___|       (_,_). '.         |  _`,/ \\ _/  |'   ( \\.-.| .---.    /   _/  \n",
    "'  \\  '-   .'|  |\\ \\  |  |.'   _    | > (_)  )  __'  \\   .---.      .---.  \\  :        : (  '\\_/ \\   ;' (`. _` /| |   |  .'._( )_  \n",
    " \\  `-'`   | |  | \\ `'   /|  _( )_  |(  .  .-'_/  )\\  `-'    /      \\    `-'  |         \\ `\"/  \\  )  \\| (_ (_) _) |   |.'  (_'o._) \n",
    "  \\        / |  |  \\    / \\ (_ o _) / `-'`-'     /  \\       /        \\       /           '. \\_/``\"/)  )\\ /  . \\ / |   ||    (_,_)| \n",
    "   `'-...-'  ''-'   `'-'   '.(_,_).'    `._____.'    `'-..-'          `-...-'              '-----' `-'  ``-'`-''  '---'|_________| \n",
    "                                                                                                                                   \n",
    "\"\"\""
   ]
  },
  {
   "cell_type": "code",
   "execution_count": 39,
   "metadata": {
    "vscode": {
     "languageId": "shellscript"
    }
   },
   "outputs": [
    {
     "name": "stdout",
     "output_type": "stream",
     "text": [
      "\n",
      "  .-_'''-.   .-------.       ____        _______      .-''-.    _ _    .-'''-.             ,-----.      ___    _ .-./`)  ____..--' \n",
      " '_( )_   \\  |  _ _   \\    .'  __ `.    /   __  \\   .'_ _   \\  ( ' )  / _     \\          .'  .-,  '.  .'   |  | |\\ .-.')|        | \n",
      "|(_ o _)|  ' | ( ' )  |   /   '  \\  \\  | ,_/  \\__) / ( ` )   '(_{;}_)(`' )/`--'         / ,-.|  \\ _ \\ |   .'  | |/ `-' \\|   .-'  ' \n",
      ". (_,_)/___| |(_ o _) /   |___|  /  |,-./  )      . (_ o _)  | (_,_)(_ o _).           ;  \\  '_ /  | :.'  '_  | | `-'`\"`|.-'.'   / \n",
      "|  |  .-----.| (_,_).' __    _.-`   |\\  '_ '`)    |  (_,_)___|       (_,_). '.         |  _`,/ \\ _/  |'   ( \\.-.| .---.    /   _/  \n",
      "'  \\  '-   .'|  |\\ \\  |  |.'   _    | > (_)  )  __'  \\   .---.      .---.  \\  :        : (  '\\_/ \\   ;' (`. _` /| |   |  .'._( )_  \n",
      " \\  `-'`   | |  | \\ `'   /|  _( )_  |(  .  .-'_/  )\\  `-'    /      \\    `-'  |         \\ `\"/  \\  )  \\| (_ (_) _) |   |.'  (_'o._) \n",
      "  \\        / |  |  \\    / \\ (_ o _) / `-'`-'     /  \\       /        \\       /           '. \\_/``\"/)  )\\ /  . \\ / |   ||    (_,_)| \n",
      "   `'-...-'  ''-'   `'-'   '.(_,_).'    `._____.'    `'-..-'          `-...-'              '-----' `-'  ``-'`-''  '---'|_________| \n",
      "                                                                                                                                   \n",
      "\n",
      "Welcome to Grace's Quiz!\n",
      "Great! Good luck 😊\n",
      "Question 1: What command defines a function or method?\n",
      "def\n",
      "Good job! The answer is def!\n",
      "Your score is 1.\n",
      "Question 2: What conditionally executes a block of code, along with else and elif?\n",
      "if statement\n",
      "Good job! The answer is if statement!\n",
      "Your score is 2.\n",
      "Question 3: What does a jupyter notebook end in?\n",
      "ipynb\n",
      "Good job! The answer is ipynb!\n",
      "Your score is 3.\n",
      "Question 4: What is style of programming characterized by the identification of classes of objects closely linked with the methods?\n",
      "object oriented programming\n",
      "Good job! The answer is object oriented programming!\n",
      "Your score is 4.\n",
      "Question 5: What is the text at the front of a markdown post called?\n",
      "front matter\n",
      "Good job! The answer is front matter!\n",
      "Your score is 5.\n",
      "Wow! You know your stuff! Keep up the good work! 🤗\n"
     ]
    }
   ],
   "source": [
    "print(\"Hi\")\n",
    "print(art)\n",
    "\n",
    "print(\"Welcome to Grace's Quiz!\")\n",
    "\n",
    "start = input(\"Do you want to take Grace's Quiz?\")\n",
    "score = 0\n",
    "\n",
    "def ask_question(question_num, question, answer):\n",
    "    \"\"\"Asks question and determines if \"\"\"\n",
    "    print(f\"Question {question_num}: {question}\")\n",
    "    user_answer = ask_for_answer()\n",
    "    is_answer_right(user_answer, answer)\n",
    "\n",
    "def ask_for_answer():\n",
    "    \"\"\"Asks for an input from the user and returns user answer\"\"\"\n",
    "    answer = input().lower()\n",
    "    print(answer)\n",
    "    return answer\n",
    "\n",
    "def is_answer_right(user_answer, answer):\n",
    "    \"\"\"Inputs user answer and actual answer and adds to score if answer is right\"\"\"\n",
    "    global score\n",
    "    if user_answer == answer:\n",
    "        score += 1\n",
    "        print(f\"Good job! The answer is {answer}!\")\n",
    "    else:\n",
    "        print(f\"Sorry, incorrect 😢. The right answer was {answer}.\")\n",
    "    print(f\"Your score is {score}.\")\n",
    "\n",
    "\n",
    "if start.lower() == \"yes\" or start.lower() == \"y\":\n",
    "    print(\"Great! Good luck 😊\")\n",
    "else:\n",
    "    print(\"Take a mindful minute. You got this :)\")\n",
    "\n",
    "\n",
    "    print(\"This game will have 5 questions!\")\n",
    "\n",
    "#Asks questions\n",
    "ask_question(1, \"What command defines a function or method?\", \"def\")\n",
    "ask_question(2, \"What conditionally executes a block of code, along with else and elif?\", \"if statement\")\n",
    "ask_question(3, \"What does a jupyter notebook end in?\", \"ipynb\")\n",
    "ask_question(4, \"What is style of programming characterized by the identification of classes of objects closely linked with the methods?\", \"object oriented programming\")\n",
    "ask_question(5, \"What is the text at the front of a markdown post called?\", \"front matter\")\n",
    "\n",
    "#Prints a message depending on what score user got\n",
    "if score == 5:\n",
    "    print(\"Wow! You know your stuff! Keep up the good work! 🤗\")\n",
    "if score == 4:\n",
    "    print(\"Almost! Try again.\")\n",
    "if score <= 3:\n",
    "    print(\"You're average 😐 \")\n"
   ]
  }
 ],
 "metadata": {
  "kernelspec": {
   "display_name": "Bash",
   "language": "bash",
   "name": "bash"
  },
  "language_info": {
   "codemirror_mode": {
    "name": "ipython",
    "version": 3
   },
   "file_extension": ".py",
   "mimetype": "text/x-python",
   "name": "bash",
   "nbconvert_exporter": "python",
   "pygments_lexer": "ipython3",
   "version": "3.10.6"
  },
  "orig_nbformat": 4,
  "vscode": {
   "interpreter": {
    "hash": "b0fa6594d8f4cbf19f97940f81e996739fb7646882a419484c72d19e05852a7e"
   }
  }
 },
 "nbformat": 4,
 "nbformat_minor": 2
}
