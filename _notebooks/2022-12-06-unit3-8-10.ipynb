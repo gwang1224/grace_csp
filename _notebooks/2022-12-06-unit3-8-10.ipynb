{
 "cells": [
  {
   "cell_type": "markdown",
   "metadata": {},
   "source": [
    "# Unit 3.8 & 3.10\n",
    "- toc: true\n",
    "- badges: true\n",
    "- categories: [trimester 2 student teaching]"
   ]
  },
  {
   "cell_type": "markdown",
   "metadata": {},
   "source": [
    "# Unit 3.8\n",
    "\n",
    "Iteration: a repeating portion of an algorithm until a given condition is met\n",
    "\n",
    "Iteration Statements: change the sequential flow of control by repeating a set of statements zero or more times, until a stopping condition is met\n",
    "Repeat Until: if the condition evaluates to true if a previous condition is true\n",
    "\n",
    "Online shopping example:\n",
    "\n",
    "![image](https://user-images.githubusercontent.com/111478625/205548518-57ded01c-8caa-401d-8e1c-af0d0c74144e.png)"
   ]
  },
  {
   "cell_type": "code",
   "execution_count": 1,
   "metadata": {},
   "outputs": [
    {
     "name": "stdout",
     "output_type": "stream",
     "text": [
      "1\n",
      "2\n",
      "3\n",
      "4\n",
      "5\n"
     ]
    }
   ],
   "source": [
    "i=1\n",
    "while i<=5:\n",
    "\tprint(i)\n",
    "\ti=i+1"
   ]
  },
  {
   "cell_type": "markdown",
   "metadata": {},
   "source": [
    "### Unit 3.8.1 \n",
    "\n",
    "1. An iteration is a repeating part of an algorithm that repeats through a specified number of times until an condition is met\n",
    "2. Example of an iteration: iterating through number of tasks until they are done \n",
    "\n",
    "![photo](https://cdn.discordapp.com/attachments/871893548319014932/1049840240958918687/Untitled_drawing.png)\n",
    "\n",
    "Make your own example of an iteration with at least 4 steps and a stopping condition(Similar to mine that I did)\n",
    "3. Program a simple iteration."
   ]
  },
  {
   "cell_type": "code",
   "execution_count": 6,
   "metadata": {},
   "outputs": [
    {
     "name": "stdout",
     "output_type": "stream",
     "text": [
      "Hi Grace!\n",
      "Hi John!\n",
      "Hi Mort!\n",
      "Hi Claire!\n",
      "Hi Ronia!\n",
      "Hi Nick!\n"
     ]
    }
   ],
   "source": [
    "#3: Simple program iteration\n",
    "names = [\"Grace\", \"John\", \"Mort\", \"Claire\", \"Ronia\", \"Nick\"]\n",
    "\n",
    "for name in names:\n",
    "    print(\"Hi \" + name + '!')"
   ]
  },
  {
   "cell_type": "markdown",
   "metadata": {},
   "source": [
    "### Unit 3.8.2\n",
    "\n",
    "1. iteration statement will execute a code as long as the a condition is True\n",
    "\n",
    "\n",
    "iterative statements are used to execute a part of the program repeatedly as long as a given condition is True.\n",
    "What is an iteration statement, in your own words?\n",
    "Create a descending list of numbers using for loop\n",
    "Using while loop, make a list of numbers which will form an output of 3,16,29,42,55,68,81"
   ]
  },
  {
   "cell_type": "code",
   "execution_count": 9,
   "metadata": {},
   "outputs": [
    {
     "name": "stdout",
     "output_type": "stream",
     "text": [
      "20\n",
      "19\n",
      "18\n",
      "17\n",
      "16\n",
      "15\n",
      "14\n",
      "13\n",
      "12\n",
      "11\n",
      "10\n",
      "9\n",
      "8\n",
      "7\n",
      "6\n",
      "5\n",
      "4\n",
      "3\n",
      "2\n",
      "1\n"
     ]
    }
   ],
   "source": [
    "# 2: Create a descending list of numbers using for loop\n",
    "\n",
    "for number in range(20, 0, -1):\n",
    "    print(number)"
   ]
  },
  {
   "cell_type": "code",
   "execution_count": 13,
   "metadata": {},
   "outputs": [
    {
     "name": "stdout",
     "output_type": "stream",
     "text": [
      "3\n",
      "16\n",
      "29\n",
      "42\n",
      "55\n",
      "68\n",
      "81\n"
     ]
    }
   ],
   "source": [
    "# Using while loop, make a list of numbers which will form an output of 3,16,29,42,55,68,81\n",
    "\n",
    "i = 0\n",
    "number = 3\n",
    "while i < 7:\n",
    "    print(number)\n",
    "    number += 13\n",
    "    i += 1"
   ]
  },
  {
   "cell_type": "markdown",
   "metadata": {},
   "source": [
    "### Unit 3.10"
   ]
  },
  {
   "cell_type": "markdown",
   "metadata": {},
   "source": [
    "Find the lowest value in a list\n",
    "Use the list made below\n",
    "Make a variable to hold the minimum and set it to potential minimum value\n",
    "Loop\n",
    "Check each element to see if it is less than the minimum variable\n",
    "If the element is less than the minimum variable, update the minimum\n",
    "After all the elements of the list have been checked, display the minimum value"
   ]
  },
  {
   "cell_type": "code",
   "execution_count": 28,
   "metadata": {},
   "outputs": [
    {
     "name": "stdout",
     "output_type": "stream",
     "text": [
      "38\n"
     ]
    }
   ],
   "source": [
    "nums = [38, 45, 67, 83, 78]\n",
    "\n",
    "minimum = 100\n",
    "\n",
    "for number in nums:\n",
    "    if number < minimum:\n",
    "        minimum = number\n",
    "\n",
    "print(minimum)"
   ]
  },
  {
   "cell_type": "markdown",
   "metadata": {},
   "source": [
    "AP College Board Reference Sheet\n",
    "\n",
    "```\n",
    "#assigns a list to a variable\n",
    "x <- aList \n",
    "\n",
    "#assigns value of aList[i] to aList[j]\n",
    "aList[i] <- aList[j]\n",
    "\n",
    "#any values in aList at indecies >= i are shifted one position to the right. Length of list is increased by 1, value is plaed at index i in aList\n",
    "insert(aList, i, value)\n",
    "\n",
    "#appends aList in increased by 1, and value placed at end of aList\n",
    "append(aList, value)\n",
    "\n",
    "```"
   ]
  },
  {
   "cell_type": "code",
   "execution_count": 30,
   "metadata": {},
   "outputs": [
    {
     "name": "stdout",
     "output_type": "stream",
     "text": [
      "What allows a value to be added at the end of a list?\n",
      "append()\n",
      "Correct!\n",
      "What allows a value to be inserted into a list at index i?\n",
      "index()\n",
      "Correct!\n",
      "What allows an element at index i to be deleted from a list?\n",
      "remove()\n",
      "Correct!\n",
      "What returns the number of elements currently in a specific list?\n",
      "length()\n",
      "Correct!\n",
      "100.00%\n",
      "Your total score is:  4 out of 4. Not too bad, keep on studying! \n"
     ]
    }
   ],
   "source": [
    "import getpass, sys\n",
    "import random\n",
    "\n",
    "def ask_question (question, answer):\n",
    "\n",
    "    print(question)\n",
    "    ans = input(question)\n",
    "    print(ans)\n",
    "   \n",
    "    if ans == answer:\n",
    "        print(\"Correct!\")\n",
    "        return 1\n",
    "\n",
    "    else:\n",
    "        print(\"Wrong\")\n",
    "        return 0\n",
    "\n",
    "question_list = [\"What allows a value to be inserted into a list at index i?\" , \"What allows an element at index i to be deleted from a list?\" , \"What returns the number of elements currently in a specific list?\" , \"What allows a value to be added at the end of a list?\"]\n",
    "answer_list = [\"index()\", \"remove()\", \"length()\" , \"append()\"]\n",
    "\n",
    "# Set points to 0 at the start of the quiz\n",
    "points = 0\n",
    "\n",
    "# If the length of the quiz is greater than 0, then random questions will be chosen from the \"question_list\" set\n",
    "while len(question_list) > 0:\n",
    "    index = random.randint(0, len(question_list) - 1)\n",
    "    \n",
    "# The points system where a point is rewarded for each correct answer    \n",
    "    points = points + ask_question(question_list[index], answer_list[index])\n",
    "    \n",
    "# If a question or answer has already been used, then it shall be deleted    \n",
    "    del question_list[index]\n",
    "    del answer_list[index]\n",
    "\n",
    "# Calculating score using the points system and dividing it by the total number of questions (6)\n",
    "score = (points / 4)\n",
    "\n",
    "# Calculating the percentage of correct answers by multiplying the score by 100\n",
    "percent = (score * 100)\n",
    "\n",
    "# Printing the percentage, and formatting the percentage in a way where two decimals can be shown (through \"{:.2f}\")\n",
    "print(\"{:.2f}\".format(percent) + \"%\")\n",
    "\n",
    "# Adding final remarks based upon the users given scores\n",
    "if points >= 5:\n",
    "         print(\"Your total score is: \", points, \"out of 4. Amazing job!\")\n",
    "\n",
    "elif points == 4:\n",
    "         print(\"Your total score is: \", points, \"out of 4. Not too bad, keep on studying! \" )\n",
    "\n",
    "else:\n",
    "         print(\"Your total score is: \", points, \"out of 4. Its alright, better luck next time!\")"
   ]
  }
 ],
 "metadata": {
  "kernelspec": {
   "display_name": "Python 3.10.8 64-bit",
   "language": "python",
   "name": "python3"
  },
  "language_info": {
   "codemirror_mode": {
    "name": "ipython",
    "version": 3
   },
   "file_extension": ".py",
   "mimetype": "text/x-python",
   "name": "python",
   "nbconvert_exporter": "python",
   "pygments_lexer": "ipython3",
   "version": "3.10.8"
  },
  "orig_nbformat": 4,
  "vscode": {
   "interpreter": {
    "hash": "b0fa6594d8f4cbf19f97940f81e996739fb7646882a419484c72d19e05852a7e"
   }
  }
 },
 "nbformat": 4,
 "nbformat_minor": 2
}
