{
 "cells": [
  {
   "cell_type": "markdown",
   "metadata": {},
   "source": [
    "# Trimester 1 College Board\n",
    "\n",
    "- toc: true \n",
    "- badges: true\n",
    "- categories: [trimester 1]"
   ]
  },
  {
   "cell_type": "markdown",
   "metadata": {},
   "source": [
    "![]({{ site.baseurl }}/images/cb_screenshot/collegeboard.png \"Results\")\n",
    "![]({{ site.baseurl }}/images/cb_screenshot/correction1.png \"Question 2\")\n",
    "![]({{ site.baseurl }}/images/cb_screenshot/correction2.png \"Question 11\")\n",
    "![]({{ site.baseurl }}/images/cb_screenshot/correction3.png \"Question 34\")"
   ]
  },
  {
   "cell_type": "code",
   "execution_count": null,
   "metadata": {},
   "outputs": [],
   "source": []
  }
 ],
 "metadata": {
  "kernelspec": {
   "display_name": "Python 3.10.8 64-bit",
   "language": "python",
   "name": "python3"
  },
  "language_info": {
   "name": "python",
   "version": "3.10.8"
  },
  "orig_nbformat": 4,
  "vscode": {
   "interpreter": {
    "hash": "b0fa6594d8f4cbf19f97940f81e996739fb7646882a419484c72d19e05852a7e"
   }
  }
 },
 "nbformat": 4,
 "nbformat_minor": 2
}
