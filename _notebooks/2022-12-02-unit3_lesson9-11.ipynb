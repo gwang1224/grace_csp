{
 "cells": [
  {
   "cell_type": "markdown",
   "metadata": {},
   "source": [
    "# Unit 3.9-3.11\n",
    "- toc: true\n",
    "- badges: true\n",
    "- categories: [trimester 2 student teaching]"
   ]
  },
  {
   "cell_type": "markdown",
   "metadata": {},
   "source": [
    "## Unit 3.9\n",
    "\n",
    "### 3.9.1 \n",
    "\n",
    "\n",
    "### 3.9.2  \n",
    "\n",
    "\n",
    "### 3.9.3 Using preexisting algorithms (Grace)\n",
    "\n",
    "Create an algorithm that will start with any positive integer n and display the full sequence of numbers that result from following the Collatz Conjecture.\n",
    "\n",
    "Example: 6 -> 3 -> 10 -> 5 -> 16 -> 8 -> 4 -> 2 -> 1\n",
    "\n",
    "\n",
    "What does this function do?\n",
    "\n",
    "```\n",
    "if (n MOD 2 = 0)\n",
    "{\n",
    "    display(\"n is even\")\n",
    "}\n",
    "else\n",
    "{\n",
    "    display(\"n is odd\")\n",
    "}\n",
    "```\n",
    "\n",
    "\n",
    "\n",
    "By modifying the preexisting code, we can write create new code that follows th Collatz Conjecture.\n",
    "\n",
    "```\n",
    "DISPLAY (\"Choose a value for n\")\n",
    "n <- INPUT ()\n",
    "\n",
    "REPEAT UNTIL (n = 1)\n",
    "{\n",
    "IF (n MOD 2 = 0 )\n",
    "{\n",
    "    n <- n/2\n",
    "}\n",
    "ELSE\n",
    "{\n",
    "    n <- n * 3 + 1\n",
    "}\n",
    "```"
   ]
  },
  {
   "cell_type": "markdown",
   "metadata": {},
   "source": [
    "### Hacks\n",
    "\n",
    "Fix the number guessing game\n",
    "1. Make a flow chart for the algorithm number guessing game algorithm\n",
    "2. Make a function that gets the user guess\n",
    "3. Fix the search function to give more encouraging feedback"
   ]
  },
  {
   "cell_type": "code",
   "execution_count": 3,
   "metadata": {},
   "outputs": [
    {
     "name": "stdout",
     "output_type": "stream",
     "text": [
      "I'm thinking of a number between 1 and 100.\n",
      "You guessed 5.\n",
      "You are bad at guessing\n",
      "Guess a number between 5 and 100.\n"
     ]
    },
    {
     "ename": "ValueError",
     "evalue": "invalid literal for int() with base 10: ''",
     "output_type": "error",
     "traceback": [
      "\u001b[0;31m---------------------------------------------------------------------------\u001b[0m",
      "\u001b[0;31mValueError\u001b[0m                                Traceback (most recent call last)",
      "\u001b[1;32m/Users/gracewang/vscode/repository_1/_notebooks/2022-12-02-unit3_lesson9-11.ipynb Cell 4\u001b[0m in \u001b[0;36m<cell line: 33>\u001b[0;34m()\u001b[0m\n\u001b[1;32m     <a href='vscode-notebook-cell:/Users/gracewang/vscode/repository_1/_notebooks/2022-12-02-unit3_lesson9-11.ipynb#X11sZmlsZQ%3D%3D?line=30'>31</a>\u001b[0m     \u001b[39mreturn\u001b[39;00m lower_bound, upper_bound\n\u001b[1;32m     <a href='vscode-notebook-cell:/Users/gracewang/vscode/repository_1/_notebooks/2022-12-02-unit3_lesson9-11.ipynb#X11sZmlsZQ%3D%3D?line=32'>33</a>\u001b[0m \u001b[39mwhile\u001b[39;00m user_guess \u001b[39m!=\u001b[39m number:\n\u001b[0;32m---> <a href='vscode-notebook-cell:/Users/gracewang/vscode/repository_1/_notebooks/2022-12-02-unit3_lesson9-11.ipynb#X11sZmlsZQ%3D%3D?line=33'>34</a>\u001b[0m     user_guess \u001b[39m=\u001b[39m guess()\n\u001b[1;32m     <a href='vscode-notebook-cell:/Users/gracewang/vscode/repository_1/_notebooks/2022-12-02-unit3_lesson9-11.ipynb#X11sZmlsZQ%3D%3D?line=34'>35</a>\u001b[0m     num_guesses \u001b[39m+\u001b[39m\u001b[39m=\u001b[39m \u001b[39m1\u001b[39m\n\u001b[1;32m     <a href='vscode-notebook-cell:/Users/gracewang/vscode/repository_1/_notebooks/2022-12-02-unit3_lesson9-11.ipynb#X11sZmlsZQ%3D%3D?line=35'>36</a>\u001b[0m     \u001b[39mprint\u001b[39m(\u001b[39mf\u001b[39m\u001b[39m\"\u001b[39m\u001b[39mYou guessed \u001b[39m\u001b[39m{\u001b[39;00muser_guess\u001b[39m}\u001b[39;00m\u001b[39m.\u001b[39m\u001b[39m\"\u001b[39m)\n",
      "\u001b[1;32m/Users/gracewang/vscode/repository_1/_notebooks/2022-12-02-unit3_lesson9-11.ipynb Cell 4\u001b[0m in \u001b[0;36mguess\u001b[0;34m()\u001b[0m\n\u001b[1;32m     <a href='vscode-notebook-cell:/Users/gracewang/vscode/repository_1/_notebooks/2022-12-02-unit3_lesson9-11.ipynb#X11sZmlsZQ%3D%3D?line=16'>17</a>\u001b[0m \u001b[39mdef\u001b[39;00m \u001b[39mguess\u001b[39m():\n\u001b[0;32m---> <a href='vscode-notebook-cell:/Users/gracewang/vscode/repository_1/_notebooks/2022-12-02-unit3_lesson9-11.ipynb#X11sZmlsZQ%3D%3D?line=17'>18</a>\u001b[0m     guess \u001b[39m=\u001b[39m \u001b[39mint\u001b[39;49m(\u001b[39minput\u001b[39;49m(\u001b[39m\"\u001b[39;49m\u001b[39mGuess a letter: \u001b[39;49m\u001b[39m\"\u001b[39;49m)) \u001b[39m#change this\u001b[39;00m\n\u001b[1;32m     <a href='vscode-notebook-cell:/Users/gracewang/vscode/repository_1/_notebooks/2022-12-02-unit3_lesson9-11.ipynb#X11sZmlsZQ%3D%3D?line=18'>19</a>\u001b[0m     \u001b[39mreturn\u001b[39;00m guess\n",
      "\u001b[0;31mValueError\u001b[0m: invalid literal for int() with base 10: ''"
     ]
    }
   ],
   "source": [
    "import random\n",
    "\n",
    "#sets variables for the game\n",
    "num_guesses = 0\n",
    "user_guess = 0\n",
    "upper_bound = 100\n",
    "lower_bound = 0\n",
    "\n",
    "#generates a random number\n",
    "number = random.randint(1,100)\n",
    "#for testing purposes\n",
    "# print(number)     \n",
    "\n",
    "print(f\"I'm thinking of a number between 1 and 100.\")\n",
    "\n",
    "#Write a function that gets a guess from the user\n",
    "def guess():\n",
    "    #add something here\n",
    "    return #add something here \n",
    "\n",
    "#Change the print statements to give feedback on whether the player guessed too high or too low\n",
    "def search(number, guess):\n",
    "    global lower_bound, upper_bound\n",
    "    if guess < number:\n",
    "        print(\"You are bad at guessing\") #change this\n",
    "        lower_bound = guess\n",
    "    elif guess > number:\n",
    "        print(\"You suck :(\") #change this\n",
    "        upper_bound = guess\n",
    "    return lower_bound, upper_bound\n",
    "\n",
    "while user_guess != number:\n",
    "    user_guess = guess()\n",
    "    num_guesses += 1\n",
    "    print(f\"You guessed {user_guess}.\")\n",
    "    lower_bound, upper_bound = search(number, user_guess)\n",
    "    print(f\"Guess a number between {lower_bound} and {upper_bound}.\")\n",
    "\n",
    "print(f\"You guessed the number in {num_guesses} guesses!\")"
   ]
  },
  {
   "cell_type": "markdown",
   "metadata": {},
   "source": [
    "## Unit 3.11"
   ]
  },
  {
   "cell_type": "markdown",
   "metadata": {},
   "source": [
    "### Hacks\n",
    "\n",
    "Use the provided preexisting algorithm to create a higher/lower number guessing game."
   ]
  },
  {
   "cell_type": "code",
   "execution_count": null,
   "metadata": {},
   "outputs": [],
   "source": [
    "# Guessing Game Algorithm"
   ]
  }
 ],
 "metadata": {
  "kernelspec": {
   "display_name": "Python 3.10.8 64-bit",
   "language": "python",
   "name": "python3"
  },
  "language_info": {
   "codemirror_mode": {
    "name": "ipython",
    "version": 3
   },
   "file_extension": ".py",
   "mimetype": "text/x-python",
   "name": "python",
   "nbconvert_exporter": "python",
   "pygments_lexer": "ipython3",
   "version": "3.10.8"
  },
  "orig_nbformat": 4,
  "vscode": {
   "interpreter": {
    "hash": "b0fa6594d8f4cbf19f97940f81e996739fb7646882a419484c72d19e05852a7e"
   }
  }
 },
 "nbformat": 4,
 "nbformat_minor": 2
}
