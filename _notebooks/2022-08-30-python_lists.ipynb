{
 "cells": [
  {
   "cell_type": "markdown",
   "metadata": {},
   "source": [
    "# Lists, Dictionaries, Iteration\n",
    "> An introduction to Data Abstraction using Python Lists [] and Python Dictionaries {}.\n",
    "\n",
    "- toc: true\n",
    "- categories: [trimester 1]"
   ]
  },
  {
   "cell_type": "markdown",
   "metadata": {},
   "source": [
    "### Lists and Dictionaries\n",
    "<mark>Variables all have a type</mark>: String, Integer, Float, List and Dictionary are some key types.  In Python, variables are given a type at assignment,  Types are important to understand and will impact operations, as we saw when we were required to user str() function in concatenation. "
   ]
  },
  {
   "cell_type": "code",
   "execution_count": 22,
   "metadata": {},
   "outputs": [
    {
     "name": "stdout",
     "output_type": "stream",
     "text": [
      "name Grace Wang <class 'str'>\n",
      "age 16 <class 'int'>\n",
      "score 100 <class 'int'>\n",
      "langs ['Python', 'JavaScript', 'Java', 'R', 'C', 'html', 'linux'] <class 'list'>\n",
      "- langs[0] Python <class 'str'>\n",
      "\n",
      "person {'name': 'Grace Wang', 'age': 16, 'score': 100, 'langs': ['Python', 'JavaScript', 'Java', 'R', 'C', 'html', 'linux']} <class 'dict'>\n",
      "- person[\"name\"] Grace Wang <class 'str'>\n"
     ]
    }
   ],
   "source": [
    "#collapse-hide\n",
    "#collapse-output\n",
    "# Sample of Python Variables\n",
    "\n",
    "# variable of type string\n",
    "name = \"Grace Wang\"\n",
    "print(\"name\", name, type(name))\n",
    "\n",
    "# variable of type integer\n",
    "age = 16\n",
    "print(\"age\", age, type(age))\n",
    "\n",
    "# variable of type float\n",
    "score = 100\n",
    "print(\"score\", score, type(score))\n",
    "\n",
    "# variable of type list (many values in one variable)\n",
    "langs = [\"Python\", \"JavaScript\", \"Java\", \"R\", \"C\", \"html\", \"linux\"]\n",
    "print(\"langs\", langs, type(langs))\n",
    "print(\"- langs[0]\", langs[0], type(langs[0]))\n",
    "\n",
    "print()\n",
    "\n",
    "# variable of type dictionary (a group of keys and values)\n",
    "person = {\n",
    "    \"name\": name,\n",
    "    \"age\": age,\n",
    "    \"score\": score,\n",
    "    \"langs\": langs\n",
    "}\n",
    "print(\"person\", person, type(person))\n",
    "print('- person[\"name\"]', person[\"name\"], type(person[\"name\"]))"
   ]
  },
  {
   "cell_type": "markdown",
   "metadata": {},
   "source": [
    "### List and Dictionary purpose\n",
    "<mark>List and Dictionaries are used to collect information</mark>.  Mostly, when information is collected it is formed into patterns.  As that pattern is established you will collect many instances of that pattern.\n",
    "- List is used to collect many\n",
    "- Dictionary is used to define data patterns.\n",
    "- Iteration is often used to process through lists."
   ]
  },
  {
   "cell_type": "code",
   "execution_count": 21,
   "metadata": {},
   "outputs": [
    {
     "name": "stdout",
     "output_type": "stream",
     "text": [
      "[{'FirstName': 'John', 'LastName': 'Mortensen', 'DOB': 'October 21', 'Residence': 'San Diego', 'Email': 'jmortensen@powayusd.com', 'Owns_Cars': ['2015-Fusion', '2011-Ranger', '2003-Excursion', '1997-F350', '1969-Cadillac']}, {'FirstName': 'Grace', 'LastName': 'Wang', 'DOB': 'September 2', 'Residence': 'San Diego', 'Email': 'gracewang187@gmail.com', 'Owns_Cars': 'None'}]\n"
     ]
    }
   ],
   "source": [
    "#collapse-hide\n",
    "#collapse-output\n",
    "# Define an empty List called InfoDb\n",
    "InfoDb = []\n",
    "\n",
    "# Append to List a Dictionary of key/values related to a person and cars\n",
    "InfoDb.append({\n",
    "    \"FirstName\": \"John\",\n",
    "    \"LastName\": \"Mortensen\",\n",
    "    \"DOB\": \"October 21\",\n",
    "    \"Residence\": \"San Diego\",\n",
    "    \"Email\": \"jmortensen@powayusd.com\",\n",
    "    \"Owns_Cars\": [\"2015-Fusion\", \"2011-Ranger\", \"2003-Excursion\", \"1997-F350\", \"1969-Cadillac\"]\n",
    "})\n",
    "\n",
    "# Append to List a 2nd Dictionary of key/values\n",
    "InfoDb.append({\n",
    "    \"FirstName\": \"Grace\",\n",
    "    \"LastName\": \"Wang\",\n",
    "    \"DOB\": \"September 2\",\n",
    "    \"Residence\": \"San Diego\",\n",
    "    \"Email\": \"gracewang187@gmail.com\",\n",
    "    \"Owns_Cars\": \"None\"\n",
    "})\n",
    "\n",
    "# Print the data structure\n",
    "print(InfoDb)"
   ]
  },
  {
   "cell_type": "markdown",
   "metadata": {},
   "source": [
    "### Formatted output of List/Dictionary - for loop\n",
    "Managing data in Lists and Dictionaries is for the convenience of passing the data across the internet or preparing it to be stored into a database.  Also, it is a great way to exchange data inside of our own programs.\n",
    "\n",
    "Next, we will take the stored data and output it within our notebook.  There are multiple steps to this process...\n",
    "- <mark>Preparing a function to format the data</mark>, the print_data() function receives a parameter called \"d_rec\" short for dictionary record.  It then references different keys within [] square brackets.   \n",
    "- <mark>Preparing a function to iterate through the list</mark>, the for_loop() function uses an enhanced for loop that pull record by record out of InfoDb until the list is empty.  Each time through the loop it call print_data(record), which passes the dictionary record to that function.\n",
    "- Finally, you need to <mark>activate your function</mark> with the call to the defined function for_loop().  Functions are defined, not activated until they are called.  By placing for_loop() at the left margin the function is activated."
   ]
  },
  {
   "cell_type": "code",
   "execution_count": 23,
   "metadata": {},
   "outputs": [
    {
     "name": "stdout",
     "output_type": "stream",
     "text": [
      "For loop output\n",
      "\n",
      "John Mortensen\n",
      "\t Residence: San Diego\n",
      "\t Birth Day: October 21\n",
      "\t Cars: 2015-Fusion, 2011-Ranger, 2003-Excursion, 1997-F350, 1969-Cadillac\n",
      "\n",
      "Grace Wang\n",
      "\t Residence: San Diego\n",
      "\t Birth Day: September 2\n",
      "\t Cars: N, o, n, e\n",
      "\n"
     ]
    }
   ],
   "source": [
    "#collapse-hide\n",
    "#collapse-output\n",
    "# given and index this will print InfoDb content\n",
    "def print_data(d_rec):\n",
    "    print(d_rec[\"FirstName\"], d_rec[\"LastName\"])  # using comma puts space between values\n",
    "    print(\"\\t\", \"Residence:\", d_rec[\"Residence\"]) # \\t is a tab indent\n",
    "    print(\"\\t\", \"Birth Day:\", d_rec[\"DOB\"])\n",
    "    print(\"\\t\", \"Cars: \", end=\"\")  # end=\"\" make sure no return occurs\n",
    "    print(\", \".join(d_rec[\"Owns_Cars\"]))  # join allows printing a string list with separator\n",
    "    print()\n",
    "\n",
    "\n",
    "# for loop iterates on length of InfoDb\n",
    "def for_loop():\n",
    "    print(\"For loop output\\n\")\n",
    "    for record in InfoDb:\n",
    "        print_data(record)\n",
    "\n",
    "for_loop()"
   ]
  },
  {
   "cell_type": "markdown",
   "metadata": {},
   "source": [
    "### Alternate methods for iteration - while loop\n",
    "In coding, there are usually many ways to achieve the same result.  Defined are functions illustrating using index to reference records in a list, these methods are called a \"while\" loop and \"recursion\".\n",
    "- The while_loop() function contains a while loop, \"while i < len(InfoDb):\".  This counts through the elements in the list start at zero, and passes the record to print_data()"
   ]
  },
  {
   "cell_type": "code",
   "execution_count": 24,
   "metadata": {},
   "outputs": [
    {
     "name": "stdout",
     "output_type": "stream",
     "text": [
      "While loop output\n",
      "\n",
      "John Mortensen\n",
      "\t Residence: San Diego\n",
      "\t Birth Day: October 21\n",
      "\t Cars: 2015-Fusion, 2011-Ranger, 2003-Excursion, 1997-F350, 1969-Cadillac\n",
      "\n",
      "Grace Wang\n",
      "\t Residence: San Diego\n",
      "\t Birth Day: September 2\n",
      "\t Cars: N, o, n, e\n",
      "\n"
     ]
    }
   ],
   "source": [
    "#collapse-hide\n",
    "#collapse-output\n",
    "# while loop contains an initial n and an index incrementing statement (n += 1)\n",
    "def while_loop():\n",
    "    print(\"While loop output\\n\")\n",
    "    i = 0\n",
    "    while i < len(InfoDb):\n",
    "        record = InfoDb[i]\n",
    "        print_data(record)\n",
    "        i += 1\n",
    "    return\n",
    "\n",
    "while_loop()"
   ]
  },
  {
   "cell_type": "markdown",
   "metadata": {},
   "source": [
    "### Calling a function repeatedly - recursion\n",
    "This final technique achieves looping by calling itself repeatedly.\n",
    "- recursive_loop(i) function is primed with the value 0 on its activation with \"recursive_loop(0)\"\n",
    "- the last statement indented inside the if statement \"recursive_loop(i + 1)\" activates another call to the recursive_loop(i) function, each time i is increasing\n",
    "- ultimately the \"if i < len(InfoDb):\" will evaluate to false and the program ends"
   ]
  },
  {
   "cell_type": "code",
   "execution_count": 25,
   "metadata": {},
   "outputs": [
    {
     "name": "stdout",
     "output_type": "stream",
     "text": [
      "Recursive loop output\n",
      "\n",
      "John Mortensen\n",
      "\t Residence: San Diego\n",
      "\t Birth Day: October 21\n",
      "\t Cars: 2015-Fusion, 2011-Ranger, 2003-Excursion, 1997-F350, 1969-Cadillac\n",
      "\n",
      "Grace Wang\n",
      "\t Residence: San Diego\n",
      "\t Birth Day: September 2\n",
      "\t Cars: N, o, n, e\n",
      "\n"
     ]
    }
   ],
   "source": [
    "#collapse-hide\n",
    "#collapse-output\n",
    "# recursion simulates loop incrementing on each call (n + 1) until exit condition is met\n",
    "def recursive_loop(i):\n",
    "    if i < len(InfoDb):\n",
    "        record = InfoDb[i]\n",
    "        print_data(record)\n",
    "        recursive_loop(i + 1)\n",
    "    return\n",
    "    \n",
    "print(\"Recursive loop output\\n\")\n",
    "recursive_loop(0)"
   ]
  },
  {
   "cell_type": "markdown",
   "metadata": {},
   "source": [
    "## My Own Dictionary"
   ]
  },
  {
   "cell_type": "code",
   "execution_count": 26,
   "metadata": {},
   "outputs": [
    {
     "name": "stdout",
     "output_type": "stream",
     "text": [
      "Requirement already satisfied: pandas in /opt/homebrew/lib/python3.10/site-packages (1.4.4)\n",
      "Requirement already satisfied: numpy>=1.21.0 in /opt/homebrew/lib/python3.10/site-packages (from pandas) (1.23.2)\n",
      "Requirement already satisfied: pytz>=2020.1 in /opt/homebrew/lib/python3.10/site-packages (from pandas) (2022.2.1)\n",
      "Requirement already satisfied: python-dateutil>=2.8.1 in /opt/homebrew/lib/python3.10/site-packages (from pandas) (2.8.2)\n",
      "Requirement already satisfied: six>=1.5 in /opt/homebrew/lib/python3.10/site-packages (from python-dateutil>=2.8.1->pandas) (1.16.0)\n",
      "Note: you may need to restart the kernel to use updated packages.\n"
     ]
    }
   ],
   "source": [
    "pip install pandas"
   ]
  },
  {
   "cell_type": "code",
   "execution_count": 27,
   "metadata": {},
   "outputs": [],
   "source": [
    "import pandas as pd"
   ]
  },
  {
   "cell_type": "code",
   "execution_count": 49,
   "metadata": {},
   "outputs": [],
   "source": [
    "data = {\n",
    "    'Dates': [\"8/17/22\", \"8/18/22\", \"8/19/22\", \"8/20/22\", \"8/21/22\", \"8/22/22\", \"8/23/22\", \"8/24/22\", \"8/25/22\", \"8/26/22\", \"8/27/22\", \"8/28/22\", \"8/29/22\", \"8/30/22\", \"8/31/22\", \"9/1/22\", \"9/2/22\", \"9/3/22\", \"9/4/22\", \"9/5/22\"],\n",
    "    'Hours': [8.5, 6.5, 7, 7, 9, 7, 12.5, 8, 8, 8, 8.5, 9, 8, 8, 7, 7, 6, 8, 9, 6.5]\n",
    "}"
   ]
  },
  {
   "cell_type": "code",
   "execution_count": 51,
   "metadata": {},
   "outputs": [
    {
     "name": "stdout",
     "output_type": "stream",
     "text": [
      "Add a day (Enter date in MM/DD/YY format): \n",
      "How many hours did you sleep? \n",
      "You added 9/6/22 : 9\n",
      "Here is your updated sleep data\n",
      "      Dates Hours\n",
      "0   8/17/22   8.5\n",
      "1   8/18/22   6.5\n",
      "2   8/19/22     7\n",
      "3   8/20/22     7\n",
      "4   8/21/22     9\n",
      "5   8/22/22     7\n",
      "6   8/23/22  12.5\n",
      "7   8/24/22     8\n",
      "8   8/25/22     8\n",
      "9   8/26/22     8\n",
      "10  8/27/22   8.5\n",
      "11  8/28/22     9\n",
      "12  8/29/22     8\n",
      "13  8/30/22     8\n",
      "14  8/31/22     7\n",
      "15   9/1/22     7\n",
      "16   9/2/22     6\n",
      "17   9/3/22     8\n",
      "18   9/4/22     9\n",
      "19   9/5/22   6.5\n",
      "20   9/6/22     9\n"
     ]
    }
   ],
   "source": [
    "def add_sleep_data():\n",
    "    print(\"Add a day (Enter date in MM/DD/YY format): \")\n",
    "    day = input()\n",
    "    print(\"How many hours did you sleep? \")\n",
    "    hours = input()\n",
    "    # print(data[\"Dates\"])\n",
    "    data[\"Dates\"].append(day)\n",
    "    data[\"Hours\"].append(hours)\n",
    "    print(\"You added \" + day + \" : \" + hours)\n",
    "    print(\"Here is your updated sleep data\")\n",
    "    df_by_days = pd.DataFrame(data)\n",
    "    print(df_by_days)\n",
    "\n",
    "add_sleep_data()"
   ]
  },
  {
   "cell_type": "code",
   "execution_count": 52,
   "metadata": {},
   "outputs": [
    {
     "name": "stdout",
     "output_type": "stream",
     "text": [
      "{8.5: 2, 6.5: 2, 7: 5, 9: 3, 12.5: 1, 8: 6, 6: 1, '9': 1}\n"
     ]
    }
   ],
   "source": [
    "data2 = {}\n",
    "for hours in data[\"Hours\"]:\n",
    "    data2[hours] = 0\n",
    "\n",
    "def print_hour_freq(data, freq_dict):\n",
    "    i = 0\n",
    "    while i < len(data):\n",
    "        for key in freq_dict.keys():\n",
    "            if data[i] == key:\n",
    "                freq_dict[key] += 1\n",
    "        i += 1\n",
    "    print(freq_dict)\n",
    "\n",
    "print_hour_freq(data[\"Hours\"], data2)"
   ]
  },
  {
   "cell_type": "code",
   "execution_count": 57,
   "metadata": {},
   "outputs": [
    {
     "name": "stdout",
     "output_type": "stream",
     "text": [
      "      Dates Hours\n",
      "0   8/17/22   8.5\n",
      "1   8/18/22   6.5\n",
      "2   8/19/22     7\n",
      "3   8/20/22     7\n",
      "4   8/21/22     9\n",
      "5   8/22/22     7\n",
      "6   8/23/22  12.5\n",
      "7   8/24/22     8\n",
      "8   8/25/22     8\n",
      "9   8/26/22     8\n",
      "10  8/27/22   8.5\n",
      "11  8/28/22     9\n",
      "12  8/29/22     8\n",
      "13  8/30/22     8\n",
      "14  8/31/22     7\n",
      "15   9/1/22     7\n",
      "16   9/2/22     6\n",
      "17   9/3/22     8\n",
      "18   9/4/22     9\n",
      "19   9/5/22   6.5\n",
      "20   9/6/22     9\n"
     ]
    }
   ],
   "source": [
    "df_by_days = pd.DataFrame(data)\n",
    "print(df_by_days)"
   ]
  },
  {
   "cell_type": "code",
   "execution_count": 62,
   "metadata": {},
   "outputs": [
    {
     "data": {
      "text/plain": [
       "Dates     object\n",
       "Hours    float64\n",
       "dtype: object"
      ]
     },
     "execution_count": 62,
     "metadata": {},
     "output_type": "execute_result"
    }
   ],
   "source": [
    "df_by_days['Hours'] = df_by_days['Hours'].astype(float)\n",
    "df_by_days.dtypes"
   ]
  },
  {
   "cell_type": "code",
   "execution_count": 63,
   "metadata": {},
   "outputs": [
    {
     "data": {
      "text/plain": [
       "<AxesSubplot:xlabel='Dates'>"
      ]
     },
     "execution_count": 63,
     "metadata": {},
     "output_type": "execute_result"
    },
    {
     "data": {
      "image/png": "[encoded data removed]",
      "text/plain": [
       "<Figure size 640x480 with 1 Axes>"
      ]
     },
     "metadata": {},
     "output_type": "display_data"
    }
   ],
   "source": [
    "df_by_days.plot(x = \"Dates\", y = \"Hours\", kind = \"line\", color = \"pink\")"
   ]
  },
  {
   "cell_type": "markdown",
   "metadata": {},
   "source": [
    "## Python Quiz with Dictionaries"
   ]
  },
  {
   "cell_type": "code",
   "execution_count": 26,
   "metadata": {},
   "outputs": [],
   "source": [
    "score = 0\n",
    "\n",
    "question_answer = {\n",
    "    \"What command defines a function or method?\": \"def\",\n",
    "    \"What conditionally executes a block of code, along with else and elif?\": \"if statement\",\n",
    "    \"What does a jupyter notebook end in?\": \"ipynb\",\n",
    "    \"What is style of programming characterized by the identification of classes of objects closely linked with the methods?\": \"object oriented programming\",\n",
    "    \"What is the text at the front of a markdown post called?\": \"front matter\" \n",
    "    }\n",
    "\n",
    "def ask_question(question, answer):\n",
    "    \"\"\"Asks question and determines if \"\"\"\n",
    "    print(question)\n",
    "    user_answer = ask_for_answer()\n",
    "    is_answer_right(user_answer, answer)\n",
    "\n",
    "def ask_for_answer():\n",
    "    \"\"\"Asks for an input from the user and returns user answer\"\"\"\n",
    "    answer = input().lower()\n",
    "    print(answer)\n",
    "    return answer\n",
    "\n",
    "def is_answer_right(user_answer, answer):\n",
    "    \"\"\"Inputs user answer and actual answer and adds to score if answer is right\"\"\"\n",
    "    global score\n",
    "    if user_answer == answer:\n",
    "        score += 1\n",
    "        print(f\"Good job! The answer is {answer}!\")\n",
    "    else:\n",
    "        print(f\"Sorry, incorrect 😢. The right answer was {answer}.\")\n",
    "    print(f\"Your score is {score}.\")\n"
   ]
  },
  {
   "cell_type": "code",
   "execution_count": 27,
   "metadata": {},
   "outputs": [
    {
     "name": "stdout",
     "output_type": "stream",
     "text": [
      "Welcome to Grace's Quiz!\n",
      "Great! Good luck 😊\n",
      "What command defines a function or method?\n",
      "def\n",
      "Good job! The answer is def!\n",
      "Your score is 1.\n",
      "What conditionally executes a block of code, along with else and elif?\n",
      "if statement\n",
      "Good job! The answer is if statement!\n",
      "Your score is 2.\n",
      "What does a jupyter notebook end in?\n",
      "ipynb\n",
      "Good job! The answer is ipynb!\n",
      "Your score is 3.\n",
      "What is style of programming characterized by the identification of classes of objects closely linked with the methods?\n",
      "object oriented programming\n",
      "Good job! The answer is object oriented programming!\n",
      "Your score is 4.\n",
      "What is the text at the front of a markdown post called?\n",
      "object oriented programming\n",
      "Sorry, incorrect 😢. The right answer was front matter.\n",
      "Your score is 4.\n",
      "Almost! Try again.\n"
     ]
    }
   ],
   "source": [
    "print(\"Welcome to Grace's Quiz!\")\n",
    "\n",
    "start = input(\"Do you want to take Grace's Quiz?\")\n",
    "\n",
    "#Start game dialogue\n",
    "if start.lower() == \"yes\" or start.lower() == \"y\":\n",
    "    print(\"Great! Good luck 😊\")\n",
    "else:\n",
    "    print(\"Take a mindful minute. You got this :)\")\n",
    "    print(\"This game will have 5 questions!\")\n",
    "\n",
    "i = 0\n",
    "#Loop to ask questions\n",
    "while i < len(question_answer):\n",
    "    answer = list(question_answer.values())[i]\n",
    "    question = list(question_answer.keys())[i]\n",
    "    ask_question(question, answer)\n",
    "    i += 1\n",
    "\n",
    "#Prints a message depending on what score user got\n",
    "if score == 5:\n",
    "    print(\"Wow! You know your stuff! Keep up the good work! 🤗\")\n",
    "if score == 4:\n",
    "    print(\"Almost! Try again.\")\n",
    "if score <= 3:\n",
    "    print(\"You're average 😐 \")"
   ]
  }
 ],
 "metadata": {
  "kernelspec": {
   "display_name": "Python 3.10.6 64-bit",
   "language": "python",
   "name": "python3"
  },
  "language_info": {
   "codemirror_mode": {
    "name": "ipython",
    "version": 3
   },
   "file_extension": ".py",
   "mimetype": "text/x-python",
   "name": "python",
   "nbconvert_exporter": "python",
   "pygments_lexer": "ipython3",
   "version": "3.10.8"
  },
  "orig_nbformat": 4,
  "vscode": {
   "interpreter": {
    "hash": "b0fa6594d8f4cbf19f97940f81e996739fb7646882a419484c72d19e05852a7e"
   }
  }
 },
 "nbformat": 4,
 "nbformat_minor": 2
}
