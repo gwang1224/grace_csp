{
 "cells": [
  {
   "attachments": {},
   "cell_type": "markdown",
   "metadata": {},
   "source": [
    "# DevOps Lesson\n",
    "\n",
    "- toc: true\n",
    "- categories: [trimester 3]\n",
    "- type: pbl"
   ]
  },
  {
   "cell_type": "code",
   "execution_count": 16,
   "metadata": {},
   "outputs": [
    {
     "name": "stdout",
     "output_type": "stream",
     "text": [
      "142.250.217.238\n"
     ]
    }
   ],
   "source": [
    "import socket\n",
    "\n",
    "# Change the following host and see what IP it prints!\n",
    "host = \"google.com\"\n",
    "ip = socket.gethostbyname(host)\n",
    "\n",
    "print(ip)"
   ]
  },
  {
   "cell_type": "code",
   "execution_count": 17,
   "metadata": {},
   "outputs": [
    {
     "name": "stdout",
     "output_type": "stream",
     "text": [
      "Successfully connected!\n"
     ]
    }
   ],
   "source": [
    "# Initiate a TCP connection to port 80\n",
    "with socket.socket(socket.AF_INET, socket.SOCK_STREAM) as s:\n",
    "    s.connect((ip, 80))\n",
    "    print(\"Successfully connected!\")"
   ]
  },
  {
   "attachments": {},
   "cell_type": "markdown",
   "metadata": {},
   "source": [
    "## Check-In\n",
    "\n",
    "1. What is an IP address?\n",
    "\n",
    "- An IP address is a unique set of numbers that helps to identify a device on a computer network. It is useful in allowing computers to communicate with each other and send information. The IP address is used to make sure data gets to the right place on a network.\n",
    "\n",
    "2. What is a TCP port?\n",
    "\n",
    "- Transmission Control Protocol port is used for communication that allowed networked devices to establish a connection and exchange data. TCP and IP are used together to enable communication between devices. TCP generates a specific port number and destination port number, allowing for data to be transferred."
   ]
  },
  {
   "cell_type": "code",
   "execution_count": 18,
   "metadata": {},
   "outputs": [
    {
     "name": "stdout",
     "output_type": "stream",
     "text": [
      "HTTP/1.1 200 OK\n",
      "Date: Fri, 28 Apr 2023 00:04:00 GMT\n",
      "Expires: -1\n",
      "Cache-Control: private, max-age=0\n",
      "Content-Type: text/html; charset=ISO-8859-1\n",
      "Content-Security-Policy-Report-Only: object-src 'none';base-uri 'self';script-src 'nonce-9BqxLCDVMTxKrwoM0hxbLw' 'strict-dynamic' 'report-sample' 'unsafe-eval' 'unsafe-inline' https: http:;report-uri https://csp.withgoogle.com/csp/gws/other-hp\n",
      "P3P: CP=\"This is not a P3P policy! See g.co/p3phelp for more info.\"\n",
      "Server: gws\n",
      "X-XSS-Protection: 0\n",
      "X-Frame-Options: SAMEORIGIN\n",
      "Set-Cookie: 1P_JAR=2023-04-28-00; expires=Sun, 28-May-2023 00:04:00 GMT; path=/; domain=.google.com; Secure\n",
      "Set-Cookie: AEC=AUEFqZdUPOlyrlIrdWUAuE7oWWGEWtJ_zxcOwBbjsROFAVUYpdI-FpiRFQ; expires=Wed, 25-Oct-2023 00:04:00 GMT; path=/; domain=.google.com; Secure; HttpOnly; SameSite=lax\n",
      "Set-Cookie: NID=511=acq-JwHyEnI0aUp9UGbVmAImrOXpgonQ4PRjPBMn-4qbHaNzNFdaumD0I2-EOLDi8oHNl8egdjo6W47NN7AN8n158kgsqFuDRgK6GKqep3eFN-GcedMGIL1DKd9kteYflKV1l9AZ2mgSe1cx4tQL55gfK2kV-6ND2L6C1jB7y20; expires=Sat, 28-Oct-2023 00:04:00 GMT; path=/; domain=.google.com; HttpOnly\n",
      "Accept-Ranges: none\n",
      "Vary: Accept-Encoding\n",
      "Transfer-Encoding: chunked\n",
      "\n",
      "586e\n",
      "<!doctype html><html itemscope=\"\" itemtype=\"http://schema.org/WebPage\" lang=\"en\"><head><meta content=\"Search the world's information, including webpages, images, videos and more. Google has many special features to help you find exactly what you're looking for.\" name=\"description\"><meta content=\"noodp\" name=\"robots\"><meta content=\"text/html; charset=UTF-8\" http-equiv=\"Content-Type\"><meta content=\"/images/branding/googleg/1x/googleg_standard_color_128dp.png\" itemprop=\"image\"><title>Google</title><script nonce=\"9BqxLCDVMTxKrwoM0hxbLw\">(function(){window.google={kEI:'cA1LZLOeE4GlgQaMjr-wAQ',kEXPI:'0,1359409,6058,207,4804,2316,383,246,5,1129120,1197759,380732,16114,28684,22431,1361,12311,2824,14764,4998,13227,3848,6884,31560,2872,2891,3926,7828,606,30668,30021,2615,12710,432,3,346,1244,1,16916,2652,4,1528,2304,29062,13065,11443,2215,2980,1457,16786,5824,2533,4094,7596,1,11943,30211\n"
     ]
    }
   ],
   "source": [
    "with socket.socket(socket.AF_INET, socket.SOCK_STREAM) as s:\n",
    "    s.connect((ip, 80))\n",
    "\n",
    "    # Send a GET request to \"/\"\n",
    "    s.sendall(b\"GET / HTTP/1.1\\r\\n\\r\\n\")\n",
    "\n",
    "    # Recieve & print 2048 bytes of data\n",
    "    data = s.recv(2048)\n",
    "    print(data.decode())"
   ]
  },
  {
   "cell_type": "code",
   "execution_count": 19,
   "metadata": {},
   "outputs": [
    {
     "name": "stdout",
     "output_type": "stream",
     "text": [
      "Status code: 200\n",
      "Headers: {'Date': 'Fri, 28 Apr 2023 00:04:08 GMT', 'Expires': '-1', 'Cache-Control': 'private, max-age=0', 'Content-Type': 'text/html; charset=ISO-8859-1', 'Content-Security-Policy-Report-Only': \"object-src 'none';base-uri 'self';script-src 'nonce-cW2zI1LSvqKqsZD6VIghig' 'strict-dynamic' 'report-sample' 'unsafe-eval' 'unsafe-inline' https: http:;report-uri https://csp.withgoogle.com/csp/gws/other-hp\", 'P3P': 'CP=\"This is not a P3P policy! See g.co/p3phelp for more info.\"', 'Content-Encoding': 'gzip', 'Server': 'gws', 'X-XSS-Protection': '0', 'X-Frame-Options': 'SAMEORIGIN', 'Set-Cookie': '1P_JAR=2023-04-28-00; expires=Sun, 28-May-2023 00:04:08 GMT; path=/; domain=.google.com; Secure, AEC=AUEFqZcsrmkj0IR_ojsHYKoZMDlkwYZ7arzcqWSF4Bi8zv33Y8XMbdFFTw; expires=Wed, 25-Oct-2023 00:04:08 GMT; path=/; domain=.google.com; Secure; HttpOnly; SameSite=lax, NID=511=HlN0sq4DnEPGeGXTqumleYuUSobUHKsVVxgsqjY0JiypELzIt8TCeIzRL64-9Ro8ctu7vWKCfrHDqxZMiGycAHULN3-VgplMilByWOCqwD91Wk-FzlIXYDECI4T-EqrUhQfEkWKZwV6C4ZGtXmVWbnR8mTXSEkkxCIX5yIv3fBA; expires=Sat, 28-Oct-2023 00:04:08 GMT; path=/; domain=.google.com; HttpOnly', 'Alt-Svc': 'h3=\":443\"; ma=2592000,h3-29=\":443\"; ma=2592000', 'Transfer-Encoding': 'chunked'}\n",
      "Response text: <!doctype html><html itemscope=\"\" itemtype=\"http://schema.org/WebPage\" lang=\"en\"><head><meta content\n"
     ]
    }
   ],
   "source": [
    "import requests\n",
    "\n",
    "# Change the URL to whatever you'd like\n",
    "response = requests.get(\"https://google.com\")\n",
    "\n",
    "print(\"Status code:\", response.status_code)\n",
    "print(\"Headers:\", response.headers)\n",
    "print(\"Response text:\", response.text[:100])\n",
    "\n",
    "# Add a line to print the \"Content-Type\" header of the response\n",
    "# Try an image URL!"
   ]
  },
  {
   "attachments": {},
   "cell_type": "markdown",
   "metadata": {},
   "source": [
    "# NGINX"
   ]
  },
  {
   "cell_type": "code",
   "execution_count": 20,
   "metadata": {},
   "outputs": [
    {
     "name": "stdout",
     "output_type": "stream",
     "text": [
      "<!doctype html>\n",
      "<html>\n",
      "<head>\n",
      "<title>Cool site</title>\n",
      "<meta name=\"description\" content=\"cool site for apcsp\">\n",
      "</head>\n",
      "<body>\n",
      "Hello, this is my cool site. Check out my products:\n",
      "<a href=\"/products\">Products!!</a>\n",
      "</body>\n",
      "</html>\n",
      "\n"
     ]
    }
   ],
   "source": [
    "aws = \"3.130.255.192\"\n",
    "\n",
    "response = requests.get(\"http://\" + aws)\n",
    "print(response.text)\n"
   ]
  },
  {
   "attachments": {},
   "cell_type": "markdown",
   "metadata": {},
   "source": [
    "## Configuration\n",
    "\n",
    "```nginx\n",
    "server {\n",
    "    // Listen on virtual \"port 80\"\n",
    "    listen 80;\n",
    "    listen [::]:80;\n",
    "    server_name 3.130.255.192;\n",
    "\n",
    "    location / {\n",
    "        // Inform server about original client\n",
    "        proxy_set_header        Host $host;\n",
    "        proxy_set_header        X-Real-IP $remote_addr;\n",
    "        proxy_set_header        X-Forwarded-For $proxy_add_x_forwarded_for;\n",
    "        proxy_set_header        X-Forwarded-Proto $scheme;\n",
    "\n",
    "        // Forward all requests transparently to the server running on our computer\n",
    "        proxy_pass              http://localhost:9099;\n",
    "    }\n",
    "}\n",
    "```\n",
    "\n",
    "### Load Balancing\n",
    "\n",
    "```nginx\n",
    "upstream example.com {\n",
    "    server server1.example.com;\n",
    "    server server1.example.com;\n",
    "}\n",
    "```\n",
    "\n",
    "### HTTP Headers\n",
    "\n",
    "```nginx\n",
    "server {\n",
    "    add_header X-Cool-Header \"I love APCSP!\";\n",
    "\n",
    "    location /pages {\n",
    "        add_header X-Cooler-Header \"This is my secret header!\";\n",
    "    }\n",
    "}\n",
    "```\n",
    "\n",
    "## Check In\n",
    "\n",
    "1. Research 1 HTTP header and describe, in detail, its purpose.\n",
    "\n",
    "- HTTP header is used to identify the client application that is making the HTTP request. The purpose is to provide information to the server about the client application so that the server can provide a response.\n",
    "\n",
    "2. Write a line in a sample NGINX configuration that will add that specific header to the `/information` location\n",
    "\n",
    "```nginx\n",
    "server {\n",
    "    add_header X-Cool-Header \"Grace Wang\";\n",
    "\n",
    "    location /information {\n",
    "        add_header X-Cooler-Header \"A super specific header\";\n",
    "    }\n",
    "}\n",
    "```\n",
    "\n",
    "3. Explain the purpose of the load balancing performed by NGINX\n",
    "\n",
    "- The load balancing feature in NGINX distributes incoming requests evenly across multiple servers in order to not overwhelm a single server. This helps improve the performance and reliability of the website. \n",
    "\n",
    "4. Modify the following code block to obtain the value of the secret header on `/products` of the AWS site\n"
   ]
  },
  {
   "cell_type": "code",
   "execution_count": 21,
   "metadata": {},
   "outputs": [
    {
     "name": "stdout",
     "output_type": "stream",
     "text": [
      "The secret header is: ...\n"
     ]
    }
   ],
   "source": [
    "aws = \"3.130.255.192\"\n",
    "\n",
    "response = requests.get(\"http://\" + aws+ \"/products\")\n",
    "\n",
    "print(\"The secret header is:\", \"...\")"
   ]
  },
  {
   "attachments": {},
   "cell_type": "markdown",
   "metadata": {},
   "source": [
    "# Hacks\n",
    "\n",
    "- Complete the above check-in questions and change the hosts (0.1)\n",
    "- Complete the above code-segment to retrieve the secret header (0.1)\n",
    "\n",
    "## Bonus (0.05)\n",
    "\n",
    "Create a diagram showing the layers of abstraction that allow us to use HTTP (IP, TCP, etc.)"
   ]
  },
  {
   "attachments": {},
   "cell_type": "markdown",
   "metadata": {},
   "source": [
    "# CORS Hacks\n",
    "\n",
    "1. Explain what CORS is and what it stands for\n",
    "\n",
    "- CORS stands for cross-origin security\n",
    "- It is a set of techniques that prevents web pages frm accessing resources on other domains without permissions and keeps your website safe\n",
    "\n",
    "2. Describe how you would be able to implement CORS into your own websites\n",
    "\n",
    "- when creating function read options for api on the CPT project, I used mode CORS. This was done in the javascript brackets when defining a functon for read options.\n",
    "\n",
    "3. Describe why you would want to implement CORS into your own websites\n",
    "\n",
    "- CORS protects users from bad websites that can steal your data. Building websites that makes requirests to a different domain will need CORS in order to allow the web browser to make the requests because without CORS the web browser may block the requests and your website would not be able to obtain the data.\n",
    "\n",
    "4. How could use CORS to benefit yourself in the future?\n",
    "\n",
    "- I will implement CORS in the future websites that I build in order to improve user experience and make sure user data is not stolen. \n",
    "\n",
    "Total: 0.2 points\n",
    "\n",
    "# KASM Hacks\n",
    "\n",
    "1. What is the purpose of \"sudo\" when running commands in terminal?\n",
    "\n",
    "- the purpose of adding sudo is to be able to runt he command with administrative privileges. Sudo bypasses levels of access and permissions in order to be able to run any code on the system.\n",
    "\n",
    "2. What are some commands which allow us to look at how the storage of a machine is set up as?\n",
    "\n",
    "- Disk Utility: This is a built-in tool that allows you to view and manage disks, volumes, and partitions on your Mac. You can access it by searching for \"Disk Utility\" in Spotlight or navigating to \"Applications\" > \"Utilities\" > \"Disk Utility\".\n",
    "\n",
    "- Terminal: You can use the \"diskutil\" command-line utility to view information about disks and partitions. Open the Terminal and type \"diskutil list\" to see a list of all the disks and partitions on your system.\n",
    "\n",
    "3. What do you think are some alternatives to running \"curl -O\" to get the zip file for KASM?\n",
    "\n",
    "- Use a web browser: You can also download the KASM zip file using a web browser. Simply navigate to the KASM website, locate the download link for the zip file, and download it using your browser's download feature.\n",
    "\n",
    "4. What kind of commands do you think the \"install.sh\" command has and why is it necessary to call it?\n",
    "\n",
    "- Checking for dependencies\n",
    "- Creating directories\n",
    "- Setting permissions\n",
    "\n",
    "5. Explain in at least 3-4 sentences how deploying KASM is related to/requires other topics talked about in the lesson and/or potential ways to add things mentioned in the lesson to this guide.\n",
    "\n",
    "- Deploying KASM requires knowledge of several related topics, such as security, application isolation, and remote access. KASM provides a secure and isolated environment for running applications, which requires understanding of security concepts and best practices. Additionally, KASM can be accessed remotely, which requires knowledge of remote access tools and protocols.\n",
    "\n",
    "\n",
    "\n",
    "Total: 0.2 points\n",
    "\n",
    "# AWS/RDS Hacks\n",
    "\n",
    "See the [setup post](https://firestorm0986.github.io/SLAAT/posts/sqlite-aws/)\n",
    "\n",
    "- Create your own database in the EC2 I have created (ec2-database-connect)\n",
    "    - name it with your first and last name (example: aditya-nawandhar) (0.1)\n",
    "    - Create a table using the commands on the link provided. (0.1)\n",
    "    - using commands from the link provided make columns and rows with test data (can be anything) (example: “name” and “class” are the columns with rows being something like “Aditya” and “Junior”). At least 4 test rows (0.1)\n",
    "    - additional points if the data matches CPT (Bonus: 0.05)\n",
    "\n",
    "Total: 0.3"
   ]
  }
 ],
 "metadata": {
  "kernelspec": {
   "display_name": "base",
   "language": "python",
   "name": "python3"
  },
  "language_info": {
   "codemirror_mode": {
    "name": "ipython",
    "version": 3
   },
   "file_extension": ".py",
   "mimetype": "text/x-python",
   "name": "python",
   "nbconvert_exporter": "python",
   "pygments_lexer": "ipython3",
   "version": "3.9.12"
  },
  "orig_nbformat": 4
 },
 "nbformat": 4,
 "nbformat_minor": 2
}
