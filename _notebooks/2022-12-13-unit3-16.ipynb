{
 "cells": [
  {
   "attachments": {},
   "cell_type": "markdown",
   "metadata": {},
   "source": [
    "# Unit 3.16\n",
    "\n",
    "- toc: true\n",
    "- comments: true\n",
    "- categories: [trimester 2 student teaching]"
   ]
  },
  {
   "attachments": {},
   "cell_type": "markdown",
   "metadata": {},
   "source": [
    "- simulation: is an imitation of a situation or process\n",
    "- Advantages: \n",
    "    - Can be safer\n",
    "    - More cost-effective\n",
    "    - More efficient \n",
    "    - More data in less time\n",
    "- Disadvantages:\n",
    "    - Not as accurate as experiments\n",
    "    - outside factors not included (ex: in rolling dice simulation gravity and air resistance)"
   ]
  },
  {
   "attachments": {},
   "cell_type": "markdown",
   "metadata": {},
   "source": [
    "### Hack 1\n",
    "Example Stimulation: Pendulum Stimulation\n",
    "\n",
    "A pendulum stimulation can be used to teach students about oscillation and power/work in physics. This software is beneficial for physics teachers because it does not require the cost of buying the equipment for the lab. It also ensures that the data is more accurate in contrast to in real life physics labs where there is human error."
   ]
  },
  {
   "attachments": {},
   "cell_type": "markdown",
   "metadata": {},
   "source": [
    "### Hack 2"
   ]
  },
  {
   "cell_type": "code",
   "execution_count": 1,
   "metadata": {},
   "outputs": [
    {
     "name": "stdout",
     "output_type": "stream",
     "text": [
      "Welcome to the Simulations Quiz!\n",
      "\n",
      " True or False: Simulations will always have the same result. \n",
      " A: True, \n",
      " B: False\n",
      "You said:  B\n",
      "Correct!\n",
      "\n",
      " True or False: A simulation has results that are more accurate than an experiment \n",
      " A: True, \n",
      " B: False\n",
      "You said:  B\n",
      "Correct!\n",
      "\n",
      " True or False: A simulation can model real world events that are not practical for experiments \n",
      " A: True, \n",
      " B: False\n",
      "You said:  A\n",
      "Correct!\n",
      "\n",
      " Which one of these is FALSE regarding simulations \n",
      " A: Reduces Costs, \n",
      " B: Is safer than real life experiments, \n",
      " C: More Efficient, \n",
      " D: More accurate than real life experiments\n",
      "You said:  D\n",
      "Correct!\n",
      "\n",
      " Which of the following scenarios would be the LEAST beneficial to have as a simulation \n",
      " A: A retail company wants to identify the item which sold the most on their website, \n",
      " B: A restaurant wants to determine if the use of robots will increase efficiency, \n",
      " C: An insurance company wants to study the impact of rain on car accidents, \n",
      " D: A sports car company wants to study design changes to their new bike design \n",
      "You said:  A\n",
      "Correct!\n",
      "\n",
      " Which of the following is better to do as a simulation than as a calculation \n",
      " A: Keeping score at a basketball game, \n",
      " B: Keeping track of how many games a person has won, \n",
      " C: Determining the average grade for a group of tests, \n",
      " D: Studying the impact of carbon emissions on the environment\n",
      "You said:  D\n",
      "Correct!\n",
      "You scored:  6 /6\n"
     ]
    }
   ],
   "source": [
    "#Stimulations Quiz\n",
    "\n",
    "questions_number = 6\n",
    "answers_correct = 0\n",
    "questions = [\n",
    "    \"True or False: Simulations will always have the same result. \\n A: True, \\n B: False\",\n",
    "    \"True or False: A simulation has results that are more accurate than an experiment \\n A: True, \\n B: False\",\n",
    "    \"True or False: A simulation can model real world events that are not practical for experiments \\n A: True, \\n B: False\",\n",
    "    \"Which one of these is FALSE regarding simulations \\n A: Reduces Costs, \\n B: Is safer than real life experiments, \\n C: More Efficient, \\n D: More accurate than real life experiments\",\n",
    "    \"Which of the following scenarios would be the LEAST beneficial to have as a simulation \\n A: A retail company wants to identify the item which sold the most on their website, \\n B: A restaurant wants to determine if the use of robots will increase efficiency, \\n C: An insurance company wants to study the impact of rain on car accidents, \\n D: A sports car company wants to study design changes to their new bike design \",\n",
    "    \"Which of the following is better to do as a simulation than as a calculation \\n A: Keeping score at a basketball game, \\n B: Keeping track of how many games a person has won, \\n C: Determining the average grade for a group of tests, \\n D: Studying the impact of carbon emissions on the environment\"\n",
    "]\n",
    "question_answers = [\n",
    "    \"B\",\n",
    "    \"B\",\n",
    "    \"A\",\n",
    "    \"D\",\n",
    "    \"A\",\n",
    "    \"D\"\n",
    "]\n",
    "\n",
    "print(\"Welcome to the Simulations Quiz!\")\n",
    "\n",
    "def ask_question (question, answer):\n",
    "    print(\"\\n\", question)\n",
    "    user_answer = input(question)\n",
    "    print(\"You said: \", user_answer)\n",
    "\n",
    "    if user_answer == answer:\n",
    "        print(\"Correct!\")\n",
    "        global answers_correct\n",
    "        answers_correct = answers_correct + 1\n",
    "    else:\n",
    "        print(\"You are incorrect\")\n",
    "    \n",
    "for num in range(questions_number):\n",
    "    ask_question(questions[num], question_answers[num])\n",
    "\n",
    "print(\"You scored: \", answers_correct, \"/6\")"
   ]
  },
  {
   "attachments": {},
   "cell_type": "markdown",
   "metadata": {},
   "source": [
    "### Hack 3\n",
    "\n",
    "What makes it a simulation?\n",
    "- This is a stimulation because instead of rolling dice in real life, this stimulation is a model of the dice rolling, which would produce a number that is achieved from the random integer.\n",
    "What are it’s advantages and disadvantages? \n",
    "- Advantages:\n",
    "    - cost effective: don't need to buy dice\n",
    "    - more efficient: takes less time to generate number and don't have to wait until dice is finished rolling\n",
    "    - can generate data immediately\n",
    "- disadvantages:\n",
    "    - isn't as fun as rolling the dice\n",
    "In your opinion, would an experiment be better in this situation?\n",
    "- I think code would be better because the results are produced instantly and can save time"
   ]
  },
  {
   "cell_type": "markdown",
   "metadata": {},
   "source": [
    "# Game of Life - Lydia & Ava\n",
    "\n",
    "Below is a simulation of the Game of Life, originally written by John Horton Conway. Mr. Mortensen has this game on the APCSP site and we think that it is a great example of an interactive simulation. \n",
    "\n",
    "### What it is\n",
    "- This game is an unpredictable cellular automaton\n",
    "- automaton = simulates and imitates human life, hence why this is called the game of life\n",
    "- After creating the initial configuration, the game evolves without pattern\n",
    "\n",
    "### How it works\n",
    "- Cells in this game are alive or dead, similar to binary where they are on or off\n",
    "- The user created an initial configuration of cells on the grid, and presses play (tap the squares on the grid)\n",
    "- a cells's status (alive or dead, on or off) depends on the surrounding 8 cells status (surrounding 8 boxes). Here are the rules:\n",
    "    - The birth rule= a dead cell (blue box) that is surrounded by at least 3 alive cells (yellow boxes), will become alive\n",
    "    - The death rule= an alive cell (yellow) with no or only one surviving cell around it dies (becomes blue)\n",
    "    - Cell survival= an alive cell (yellow) with 2 or 3 alive neighboring cells will stay alive\n",
    "\n",
    "### Try it Out!\n",
    "\n",
    "Use the grid below to create cell figurations, press play, and watch your cells die, live, and move around!\n"
   ]
  },
  {
   "attachments": {},
   "cell_type": "markdown",
   "metadata": {},
   "source": [
    "### Hack #4\n",
    "\n",
    "Created new function that takes sum of dice rolled"
   ]
  },
  {
   "cell_type": "code",
   "execution_count": null,
   "metadata": {},
   "outputs": [],
   "source": [
    "# Rolling a Dice Example\n",
    "\n",
    "def parse_input(input_string):\n",
    "    if input_string.strip() in {\"1\", \"2\", \"3\",\"4\", \"5\", \"6\"}:\n",
    "        return int(input_string)\n",
    "    else:\n",
    "        print(\"Please enter a number from 1 to 6.\")\n",
    "        raise SystemExit(1)\n",
    "\n",
    "import random\n",
    "\n",
    "def roll_dice(num_dice):\n",
    "    roll_results = []\n",
    "    for _ in range(num_dice):\n",
    "        roll = random.randint(1, 6)\n",
    "        roll_results.append(roll)\n",
    "    return roll_results\n",
    "\n",
    "## New function to add sum of dice rolled\n",
    "def total(list):\n",
    "    total = 0\n",
    "    for number in list:\n",
    "        number = int(number)\n",
    "        total += number\n",
    "    return total\n",
    "\n",
    "\n",
    "num_dice_input = input(\"How many dice do you want to roll? [1-6] \")\n",
    "num_dice = parse_input(num_dice_input)\n",
    "roll_results = roll_dice(num_dice)\n",
    "sum = total(roll_results)\n",
    "\n",
    "print(\"you rolled:\", roll_results) \n",
    "print(\"The sum of your rolled dice is: \", sum)"
   ]
  },
  {
   "cell_type": "code",
   "execution_count": 11,
   "metadata": {},
   "outputs": [
    {
     "name": "stdout",
     "output_type": "stream",
     "text": [
      "You should wear a red shirt, jeans, and airforce1. \n"
     ]
    }
   ],
   "source": [
    "#Extra Credit (Choosing Outfit for the day)\n",
    "\n",
    "import random\n",
    "\n",
    "shirts = [\"floral\", \"white\", \"red\", \"blue\", \"green\"]\n",
    "shoes = [\"airforce1\", \"boots\", \"sneakers\", \"slippers\", \"jordans\"]\n",
    "pants = [\"jeans\", \"tights\", \"cargo pants\", \"shorts\", \"sweatpants\"]\n",
    "\n",
    "def rand_int(list):\n",
    "    index = random.randint(0, len(list)-1)\n",
    "    return index\n",
    "\n",
    "rand_shirt = shirts[rand_int(shirts)]\n",
    "rand_shoes = shoes[rand_int(shoes)]\n",
    "rand_pants = pants[rand_int(pants)]\n",
    "print(f\"You should wear a {rand_shirt} shirt, {rand_pants}, and {rand_shoes}. \")"
   ]
  },
  {
   "attachments": {},
   "cell_type": "markdown",
   "metadata": {},
   "source": [
    "This code is a stimulation for choosing an outfit. This is a stimulation because it is a model of the choices one has to go through to choose an outfit for the day. The advantages are that it produces an immediate response as opposed to some people who are indecisive. Disadvantages are that the outfits do not match the weather conditions and may not match in general. In my opinion, a real life experimentation would be better."
   ]
  }
 ],
 "metadata": {
  "kernelspec": {
   "display_name": "Python 3",
   "language": "python",
   "name": "python3"
  },
  "language_info": {
   "codemirror_mode": {
    "name": "ipython",
    "version": 3
   },
   "file_extension": ".py",
   "mimetype": "text/x-python",
   "name": "python",
   "nbconvert_exporter": "python",
   "pygments_lexer": "ipython3",
   "version": "3.10.8 (main, Oct 13 2022, 09:48:40) [Clang 14.0.0 (clang-1400.0.29.102)]"
  },
  "orig_nbformat": 4,
  "vscode": {
   "interpreter": {
    "hash": "b0fa6594d8f4cbf19f97940f81e996739fb7646882a419484c72d19e05852a7e"
   }
  }
 },
 "nbformat": 4,
 "nbformat_minor": 2
}
