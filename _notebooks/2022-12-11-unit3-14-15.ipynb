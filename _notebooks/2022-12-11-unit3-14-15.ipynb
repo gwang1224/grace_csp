{
 "cells": [
  {
   "attachments": {},
   "cell_type": "markdown",
   "metadata": {},
   "source": [
    "# Unit 3.14 & 3.15\n",
    " \n",
    "- toc: true\n",
    "- categories: [trimester 2 student teaching]\n"
   ]
  },
  {
   "attachments": {},
   "cell_type": "markdown",
   "metadata": {},
   "source": [
    "## Unit 3.14"
   ]
  },
  {
   "attachments": {},
   "cell_type": "markdown",
   "metadata": {},
   "source": [
    "- library contains procedures that can be used in the creation of new programs, saves time and effort\n",
    "- simplifies the task of creating complex programs.\n",
    "- Application program interfaces (APIs)"
   ]
  },
  {
   "attachments": {},
   "cell_type": "markdown",
   "metadata": {},
   "source": [
    "### Example"
   ]
  },
  {
   "cell_type": "code",
   "execution_count": 1,
   "metadata": {},
   "outputs": [
    {
     "data": {
      "text/plain": [
       "8.0"
      ]
     },
     "execution_count": 1,
     "metadata": {},
     "output_type": "execute_result"
    }
   ],
   "source": [
    "#Using the math library to find the square root of a number\n",
    "#instead of writing code to find the square root, the sqrt() \n",
    "# function in the math library  gives the answer with the number in the argument\n",
    "\n",
    "import math\n",
    "math.sqrt(64)"
   ]
  },
  {
   "cell_type": "code",
   "execution_count": 52,
   "metadata": {},
   "outputs": [
    {
     "name": "stdout",
     "output_type": "stream",
     "text": [
      "5\n",
      "Jane\n"
     ]
    }
   ],
   "source": [
    "#Using the random library, a random integer can be obtained and \n",
    "# list of people can be indexed to get a random person in the list of people\n",
    "\n",
    "import random\n",
    "\n",
    "people = [\"Grace\", \"Claire\", \"Harry\", \"Taylor\", \"Annika\", \"Jane\"]\n",
    "\n",
    "num = random.randint(0,6)\n",
    "print(num)\n",
    "print(people[num])"
   ]
  },
  {
   "attachments": {},
   "cell_type": "markdown",
   "metadata": {},
   "source": [
    "## Lesson 3.15"
   ]
  },
  {
   "attachments": {},
   "cell_type": "markdown",
   "metadata": {},
   "source": [
    "### Hacks 3.15.1\n",
    "1. Define what an import random function do\n",
    "    -  import random imports the random library, which contains many randomizing functions\n",
    "2. List a few other things that we can import other than random\n",
    "    - numpy\n",
    "    - math\n",
    "    - your own files\n",
    "    - requests\n",
    "    - a module with .py\n",
    "    - package\n",
    "\n",
    "    "
   ]
  },
  {
   "attachments": {},
   "cell_type": "markdown",
   "metadata": {},
   "source": [
    "### Hacks 3.15.2"
   ]
  },
  {
   "cell_type": "code",
   "execution_count": 16,
   "metadata": {},
   "outputs": [
    {
     "name": "stdout",
     "output_type": "stream",
     "text": [
      "Your spinner spun: green\n"
     ]
    }
   ],
   "source": [
    "#spinner divided into eight equal parts. 3 parts of the spinner are green, two parts are blue, \n",
    "# one part is purple, one part is red, and one part is orange\n",
    "\n",
    "import random\n",
    "\n",
    "spinner = [\"green\", \"green\", \"green\", \"blue\", \"blue\", \"purple\", \"red\", \"orange\"]\n",
    "index = random.randint(0,7)\n",
    "print(\"Your spinner spun: \" + spinner[index])\n",
    "\n"
   ]
  },
  {
   "attachments": {},
   "cell_type": "markdown",
   "metadata": {},
   "source": [
    "Also answer this question: What numbers can be outputted from RANDOM(12,20) and what numbers are excluded?\n",
    "\n",
    "random(12,20) can produce outputs 12, 13, 14, 15, 16, 17, 18, 19, 20"
   ]
  }
 ],
 "metadata": {
  "kernelspec": {
   "display_name": "Python 3",
   "language": "python",
   "name": "python3"
  },
  "language_info": {
   "codemirror_mode": {
    "name": "ipython",
    "version": 3
   },
   "file_extension": ".py",
   "mimetype": "text/x-python",
   "name": "python",
   "nbconvert_exporter": "python",
   "pygments_lexer": "ipython3",
   "version": "3.10.8"
  },
  "orig_nbformat": 4,
  "vscode": {
   "interpreter": {
    "hash": "b0fa6594d8f4cbf19f97940f81e996739fb7646882a419484c72d19e05852a7e"
   }
  }
 },
 "nbformat": 4,
 "nbformat_minor": 2
}
