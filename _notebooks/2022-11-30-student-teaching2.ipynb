{
 "cells": [
  {
   "cell_type": "markdown",
   "metadata": {},
   "source": [
    "# Unit 3.3-3.4 Student Teaching\n",
    "- toc: true\n",
    "- badges: true\n",
    "- comments: true\n",
    "- categories: [jupyter, python]"
   ]
  },
  {
   "cell_type": "markdown",
   "metadata": {},
   "source": [
    "## Hack 1\n",
    "1. algorithm: the algorithm describes the instructions to complete a task, which done by the graphic with a list of instructions to do\n",
    "\n",
    "2. sequencing: order of how to do something\n",
    "    1. Set item to number to search for\n",
    "    2. Get next number in list\n",
    "    3. If number = item, display \"item found\"\n",
    "    4. If more numbers in list, go back to step 2\n",
    "    5. Display \"item not found\n",
    "\n",
    "3. selection\n",
    "    If the number = item, the algorithm selects the item.\n",
    "\n",
    "4. iteration\n",
    "    The iteration loops through the list to find all the numbers equal to the item"
   ]
  },
  {
   "cell_type": "markdown",
   "metadata": {},
   "source": [
    "## Hack 2 "
   ]
  },
  {
   "cell_type": "code",
   "execution_count": 2,
   "metadata": {},
   "outputs": [
    {
     "name": "stdout",
     "output_type": "stream",
     "text": [
      "3.0\n"
     ]
    }
   ],
   "source": [
    "num1 = 5\n",
    "num2 = num1 * 3\n",
    "num3 = num2 / num1 * (9 % 2) * 4\n",
    "result = (num3 % num1 + num2) % num3 * 3 / 5\n",
    "print(result)"
   ]
  },
  {
   "cell_type": "markdown",
   "metadata": {},
   "source": [
    "## Hack 3\n",
    "\n",
    "1 down: iteration\n",
    "2 down: selection\n",
    "3 across: sequence"
   ]
  }
 ],
 "metadata": {
  "kernelspec": {
   "display_name": "Python 3.10.8 64-bit",
   "language": "python",
   "name": "python3"
  },
  "language_info": {
   "codemirror_mode": {
    "name": "ipython",
    "version": 3
   },
   "file_extension": ".py",
   "mimetype": "text/x-python",
   "name": "python",
   "nbconvert_exporter": "python",
   "pygments_lexer": "ipython3",
   "version": "3.10.8"
  },
  "orig_nbformat": 4,
  "vscode": {
   "interpreter": {
    "hash": "b0fa6594d8f4cbf19f97940f81e996739fb7646882a419484c72d19e05852a7e"
   }
  }
 },
 "nbformat": 4,
 "nbformat_minor": 2
}
