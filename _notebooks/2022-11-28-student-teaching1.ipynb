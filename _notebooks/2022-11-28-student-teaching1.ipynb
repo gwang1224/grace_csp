{
 "cells": [
  {
   "cell_type": "markdown",
   "metadata": {},
   "source": [
    "# Unit 3.1-3.2 Student Teaching\n",
    "- toc: true\n",
    "- badges: true\n",
    "- comments: true\n",
    "- categories: [jupyter, python]"
   ]
  },
  {
   "cell_type": "markdown",
   "metadata": {},
   "source": [
    "## Hacks Unit 3.1.1"
   ]
  },
  {
   "cell_type": "code",
   "execution_count": 11,
   "metadata": {},
   "outputs": [
    {
     "name": "stdout",
     "output_type": "stream",
     "text": [
      "Hi, my name is Grace. I am in 11th grade.\n",
      "I am taking the classes\n",
      "APUSH, APEL, CSP, AP Calculus\n"
     ]
    }
   ],
   "source": [
    "#Uses a string\n",
    "name = \"Grace\"\n",
    "#Uses an integer\n",
    "grade = 11\n",
    "#Uses a list\n",
    "classes = [\"APUSH\", \"APEL\", \"CSP\", \"AP Calculus\"]\n",
    "\n",
    "print(f\"Hi, my name is {name}. I am in {grade}th grade.\")\n",
    "print(\"I am taking the classes\")\n",
    "print(*classes, sep = \", \")"
   ]
  },
  {
   "cell_type": "markdown",
   "metadata": {},
   "source": [
    "## Hacks Unit 3.1.2\n",
    "\n",
    "- an assignment operator is a symbol that assigns a value to a variable\n",
    "- in College Board, the assignment variable is -> \n",
    "- A variable, x, is initially given a value of 15. Later on, the value for x is changed to 22. If you print x, would the command display 15 or 22? Answer: 22 "
   ]
  },
  {
   "cell_type": "markdown",
   "metadata": {},
   "source": [
    "## Hacks Unit 3.2.1\n",
    "- a list is a sequence of finite strings that surrounded by square brackets and separated by commas\n",
    "- an element is the individual strings in a list\n",
    "- the easiest way to reference an element is to index the list or string, which is done by list[0]\n",
    "- an example of a string is \"hello world\""
   ]
  },
  {
   "cell_type": "code",
   "execution_count": 12,
   "metadata": {},
   "outputs": [
    {
     "name": "stdout",
     "output_type": "stream",
     "text": [
      "pizza\n",
      "watermelon\n",
      "sushi\n",
      "fried chicken\n"
     ]
    }
   ],
   "source": [
    "# indexing list of favorite foods\n",
    "\n",
    "foods = [\"pizza\", \"watermelon\", \"sushi\", \"fried chicken\"]\n",
    "\n",
    "#index each element in the list\n",
    "for i in range(len(foods)):\n",
    "    print(foods[i])"
   ]
  },
  {
   "cell_type": "markdown",
   "metadata": {},
   "source": [
    "## Hacks 3.2.2"
   ]
  },
  {
   "cell_type": "code",
   "execution_count": 16,
   "metadata": {},
   "outputs": [
    {
     "name": "stdout",
     "output_type": "stream",
     "text": [
      "[7, 8, 9]\n"
     ]
    }
   ],
   "source": [
    "num1 = input(\"Input a number. \")\n",
    "num2 = input(\"Input a number. \")\n",
    "num3 = input(\"Input a number. \")\n",
    "add = input(\"How much would you like to add? \")\n",
    "\n",
    "# Add code in the space below\n",
    "num1 = int(num1)\n",
    "num2 = int(num2)\n",
    "num3 = int(num3)\n",
    "\n",
    "numlist = [num1, num2, num3]\n",
    "\n",
    "# The following is the code that adds the inputted addend to the other numbers. It is hidden from the user.\n",
    "\n",
    "for i in numlist:\n",
    "    numlist[i-1] += int(add)\n",
    "\n",
    "print(numlist)"
   ]
  },
  {
   "cell_type": "markdown",
   "metadata": {},
   "source": [
    "## Hacks 3.2.3"
   ]
  },
  {
   "cell_type": "code",
   "execution_count": 18,
   "metadata": {},
   "outputs": [
    {
     "name": "stdout",
     "output_type": "stream",
     "text": [
      "Hello, gracewang running /opt/homebrew/opt/python@3.10/bin/python3.10\n",
      "You will be asked 4 questions.\n",
      "Question: Are you ready to take a test?\n",
      "Question: The purpose of lists and dictionaries are to manage the ____ of a program\n",
      "complexity is correct!\n",
      "Question: Lists are a form of data ______\n",
      "abstraction is correct!\n",
      "Question: Which brackets are used to assign values to a variable to make a list?\n",
      "[] is correct!\n",
      "gracewang you scored 3/4\n"
     ]
    }
   ],
   "source": [
    "import getpass, sys\n",
    "\n",
    "def question_with_response(prompt):\n",
    "    print(\"Question: \" + prompt)\n",
    "    msg = input()\n",
    "    return msg\n",
    "\n",
    "questions = 4\n",
    "correct = 0\n",
    "\n",
    "print('Hello, ' + getpass.getuser() + \" running \" + sys.executable)\n",
    "print(\"You will be asked \" + str(questions) + \" questions.\")\n",
    "question_with_response(\"Are you ready to take a test?\")\n",
    "\n",
    "rsp = question_with_response(\"The purpose of lists and dictionaries are to manage the ____ of a program\")\n",
    "if rsp == \"complexity\":\n",
    "    print(rsp + \" is correct!\")\n",
    "    correct += 1\n",
    "else:\n",
    "    print(rsp + \" is incorrect!\")\n",
    "\n",
    "rsp = question_with_response(\"Lists are a form of data ______\")\n",
    "if rsp == \"abstraction\":\n",
    "    print(rsp + \" is correct!\")\n",
    "    correct += 1\n",
    "else:\n",
    "    print(rsp + \" is incorrect!\")\n",
    "\n",
    "rsp = question_with_response(\"Which brackets are used to assign values to a variable to make a list?\")\n",
    "if rsp == \"[]\":\n",
    "    print(rsp + \" is correct!\")\n",
    "    correct += 1\n",
    "else:\n",
    "    print(rsp + \" is incorrect!\") \n",
    "\n",
    "print(getpass.getuser() + \" you scored \" + str(correct) +\"/\" + str(questions))"
   ]
  },
  {
   "cell_type": "code",
   "execution_count": 19,
   "metadata": {},
   "outputs": [
    {
     "name": "stdout",
     "output_type": "stream",
     "text": [
      "pizza hot dog sushi strawberry sandwich\n"
     ]
    }
   ],
   "source": [
    "#simplifying food list\n",
    "foods = [\"pizza\", \"hot dog\", \"sushi\", \"strawberry\", \"sandwich\"]\n",
    "print(*foods, sep=\" \")"
   ]
  },
  {
   "cell_type": "markdown",
   "metadata": {},
   "source": [
    "- lists are better to use than strings in some cases because it reduces clutter, for example, if you wanted to print all the items in a list, typing the previous example out would require 6 lines while the simplified line only requires 2"
   ]
  },
  {
   "cell_type": "code",
   "execution_count": 21,
   "metadata": {},
   "outputs": [
    {
     "name": "stdout",
     "output_type": "stream",
     "text": [
      "CSP APEL APUSH AP Calc BC AP Physics\n",
      "CSP APEL APUSH AP Calc BC AP Physics\n"
     ]
    }
   ],
   "source": [
    "#long way\n",
    "class1 = \"CSP\"\n",
    "class2 = \"APEL\"\n",
    "class3 = \"APUSH\"\n",
    "class4 = \"AP Calc BC\"\n",
    "class5 = \"AP Physics\"\n",
    "print(class1, class2, class3, class4, class5)\n",
    "\n",
    "#short way\n",
    "classes = [\"CSP\", \"APEL\", \"APUSH\", \"AP Calc BC\", \"AP Physics\"]\n",
    "print(*classes, sep=\" \")"
   ]
  },
  {
   "cell_type": "markdown",
   "metadata": {},
   "source": [
    "## Notes"
   ]
  }
 ],
 "metadata": {
  "kernelspec": {
   "display_name": "Python 3.10.8 64-bit",
   "language": "python",
   "name": "python3"
  },
  "language_info": {
   "codemirror_mode": {
    "name": "ipython",
    "version": 3
   },
   "file_extension": ".py",
   "mimetype": "text/x-python",
   "name": "python",
   "nbconvert_exporter": "python",
   "pygments_lexer": "ipython3",
   "version": "3.10.8"
  },
  "orig_nbformat": 4,
  "vscode": {
   "interpreter": {
    "hash": "b0fa6594d8f4cbf19f97940f81e996739fb7646882a419484c72d19e05852a7e"
   }
  }
 },
 "nbformat": 4,
 "nbformat_minor": 2
}
