{
 "cells": [
  {
   "cell_type": "markdown",
   "metadata": {},
   "source": [
    "# Bash Tool Check"
   ]
  },
  {
   "cell_type": "code",
   "execution_count": 9,
   "metadata": {
    "vscode": {
     "languageId": "shellscript"
    }
   },
   "outputs": [
    {
     "name": "stdout",
     "output_type": "stream",
     "text": [
      "Using conditional statement to create a project directory and project\n",
      "Directory /Users/gracewang/vscode exists.\n",
      "Directory /Users/gracewang/vscode/repository_1 exists.\n"
     ]
    }
   ],
   "source": [
    "echo \"Using conditional statement to create a project directory and project\"\n",
    "\n",
    "# Variable section\n",
    "export project_dir=$HOME/vscode  # change vscode to different name to test git clone\n",
    "export project=$project_dir/repository_1  # change APCSP to name of project from git clone\n",
    "export project_repo=\"https://github.com/gwang1224/repository_1.git\"  # change to project of choice\n",
    "\n",
    "cd ~    # start in home directory\n",
    "\n",
    "# Conditional block to make a project directory\n",
    "if [ ! -d $project_dir ]\n",
    "then \n",
    "    echo \"Directory $project_dir does not exists... makinng directory $project_dir\"\n",
    "    mkdir -p $project_dir\n",
    "fi\n",
    "echo \"Directory $project_dir exists.\" \n",
    "\n",
    "# Conditional block to git clone a project from project_repo\n",
    "if [ ! -d $project ]\n",
    "then\n",
    "    echo \"Directory $project does not exists... cloning $project_repo\"\n",
    "    cd $project_dir\n",
    "    git clone $project_repo\n",
    "    cd ~\n",
    "fi\n",
    "echo \"Directory $project exists.\" "
   ]
  },
  {
   "cell_type": "code",
   "execution_count": 2,
   "metadata": {
    "vscode": {
     "languageId": "shellscript"
    }
   },
   "outputs": [
    {
     "name": "stdout",
     "output_type": "stream",
     "text": [
      "Using conditional statement to create a project directory and project\n",
      "Directory /Users/gracewang/hacks does not exists... makinng directory /Users/gracewang/hacks\n",
      "Directory /Users/gracewang/hacks exists.\n",
      "Directory /Users/gracewang/hacks/APCSP does not exists... cloning https://github.com/nighthawkcoders/APCSP.git\n",
      "Cloning into 'APCSP'...\n",
      "remote: Enumerating objects: 9627, done.        \n",
      "remote: Counting objects: 100% (1202/1202), done.        \n",
      "remote: Compressing objects: 100% (454/454), done.        \n",
      "remote: Total 9627 (delta 752), reused 1171 (delta 722), pack-reused 8425        \n",
      "Receiving objects: 100% (9627/9627), 16.53 MiB | 16.57 MiB/s, done.\n",
      "Resolving deltas: 100% (5247/5247), done.\n",
      "Directory /Users/gracewang/hacks/APCSP exists.\n"
     ]
    }
   ],
   "source": [
    "#Hacks\n",
    "\n",
    "echo \"Using conditional statement to create a project directory and project\"\n",
    "\n",
    "# Variable section\n",
    "export project_dir=$HOME/hacks  # change vscode to different name to test git clone\n",
    "export project=$project_dir/APCSP  # change APCSP to name of project from git clone\n",
    "export project_repo=\"https://github.com/nighthawkcoders/APCSP.git\"  # change to project of choice\n",
    "\n",
    "cd ~    # start in home directory\n",
    "\n",
    "# Conditional block to make a project directory\n",
    "if [ ! -d $project_dir ]\n",
    "then \n",
    "    echo \"Directory $project_dir does not exists... makinng directory $project_dir\"\n",
    "    mkdir -p $project_dir\n",
    "fi\n",
    "echo \"Directory $project_dir exists.\" \n",
    "\n",
    "# Conditional block to git clone a project from project_repo\n",
    "if [ ! -d $project ]\n",
    "then\n",
    "    echo \"Directory $project does not exists... cloning $project_repo\"\n",
    "    cd $project_dir\n",
    "    git clone $project_repo\n",
    "    cd ~\n",
    "fi\n",
    "echo \"Directory $project exists.\" "
   ]
  },
  {
   "cell_type": "code",
   "execution_count": 10,
   "metadata": {
    "vscode": {
     "languageId": "shellscript"
    }
   },
   "outputs": [
    {
     "name": "stdout",
     "output_type": "stream",
     "text": [
      "Navigate to project, then navigate to area wwhere files were cloned\n",
      "/Users/gracewang/vscode/repository_1\n",
      "\n",
      "list top level or root of files with project pulled from github\n",
      "2022-05-15-07-21-16.png\t_config.yml\t\t_sass\n",
      "2022-05-15-07-24-25.png\t_fastpages_docs\t\t_word\n",
      "2022-05-15-07-25-15.png\t_includes\t\tassets\n",
      "Gemfile\t\t\t_layouts\t\tdocker-compose.yml\n",
      "LICENSE\t\t\t_notebooks\t\timages\n",
      "Makefile\t\t_pages\t\t\tindex.html\n",
      "README.md\t\t_plugins\n",
      "_action_files\t\t_posts\n",
      "\n",
      "list again with hidden files pulled from github\n",
      ".\t\t\tGemfile\t\t\t_pages\n",
      "..\t\t\tLICENSE\t\t\t_plugins\n",
      ".devcontainer.json\tMakefile\t\t_posts\n",
      ".git\t\t\tREADME.md\t\t_sass\n",
      ".gitattributes\t\t_action_files\t\t_word\n",
      ".github\t\t\t_config.yml\t\tassets\n",
      ".gitignore\t\t_fastpages_docs\t\tdocker-compose.yml\n",
      "2022-05-15-07-21-16.png\t_includes\t\timages\n",
      "2022-05-15-07-24-25.png\t_layouts\t\tindex.html\n",
      "2022-05-15-07-25-15.png\t_notebooks\n",
      "\n",
      "list all files in long format\n",
      "total 848\n",
      "drwxr-xr-x  29 gracewang  staff     928 Aug 21 13:02 .\n",
      "drwxr-xr-x   4 gracewang  staff     128 Aug 27 22:12 ..\n",
      "-rw-r--r--   1 gracewang  staff     420 Aug 21 13:02 .devcontainer.json\n",
      "drwxr-xr-x  15 gracewang  staff     480 Aug 27 22:10 .git\n",
      "-rw-r--r--   1 gracewang  staff      84 Aug 21 13:02 .gitattributes\n",
      "drwxr-xr-x   4 gracewang  staff     128 Aug 21 13:02 .github\n",
      "-rw-r--r--   1 gracewang  staff     161 Aug 21 13:02 .gitignore\n",
      "-rw-r--r--   1 gracewang  staff  207007 Aug 21 13:02 2022-05-15-07-21-16.png\n",
      "-rw-r--r--   1 gracewang  staff   90979 Aug 21 13:02 2022-05-15-07-24-25.png\n",
      "-rw-r--r--   1 gracewang  staff   81691 Aug 21 13:02 2022-05-15-07-25-15.png\n",
      "-rwxr-xr-x   1 gracewang  staff    1304 Aug 21 13:02 Gemfile\n",
      "-rw-r--r--   1 gracewang  staff   11351 Aug 21 13:02 LICENSE\n",
      "-rwxr-xr-x   1 gracewang  staff    1422 Aug 21 13:02 Makefile\n",
      "-rwxr-xr-x   1 gracewang  staff    3617 Aug 21 13:02 README.md\n",
      "drwxr-xr-x  18 gracewang  staff     576 Aug 21 13:02 _action_files\n",
      "-rw-r--r--   1 gracewang  staff    3690 Aug 27 20:59 _config.yml\n",
      "drwxr-xr-x  24 gracewang  staff     768 Aug 21 13:02 _fastpages_docs\n",
      "drwxr-xr-x  27 gracewang  staff     864 Aug 21 13:02 _includes\n",
      "drwxr-xr-x   6 gracewang  staff     192 Aug 21 13:02 _layouts\n",
      "drwxr-xr-x  10 gracewang  staff     320 Aug 28 11:32 _notebooks\n",
      "drwxr-xr-x   6 gracewang  staff     192 Aug 21 13:02 _pages\n",
      "drwxr-xr-x   4 gracewang  staff     128 Aug 21 13:02 _plugins\n",
      "drwxr-xr-x   6 gracewang  staff     192 Aug 27 19:17 _posts\n",
      "drwxr-xr-x   3 gracewang  staff      96 Aug 21 13:02 _sass\n",
      "drwxr-xr-x   3 gracewang  staff      96 Aug 21 13:02 _word\n",
      "drwxr-xr-x   4 gracewang  staff     128 Aug 21 13:02 assets\n",
      "-rwxr-xr-x   1 gracewang  staff    1136 Aug 21 13:02 docker-compose.yml\n",
      "drwxr-xr-x   6 gracewang  staff     192 Aug 27 21:22 images\n",
      "-rw-r--r--   1 gracewang  staff     154 Aug 27 20:51 index.html\n"
     ]
    }
   ],
   "source": [
    "echo \"Navigate to project, then navigate to area wwhere files were cloned\"\n",
    "cd $project\n",
    "pwd\n",
    "\n",
    "echo \"\"\n",
    "echo \"list top level or root of files with project pulled from github\"\n",
    "ls\n",
    "\n",
    "echo \"\"\n",
    "echo \"list again with hidden files pulled from github\"\n",
    "ls -a   # hidden files flag, many shell commands have flags\n",
    "\n",
    "echo \"\"\n",
    "echo \"list all files in long format\"\n",
    "ls -al   # all files and long listing"
   ]
  }
 ],
 "metadata": {
  "kernelspec": {
   "display_name": "Bash",
   "language": "bash",
   "name": "bash"
  },
  "language_info": {
   "codemirror_mode": "shell",
   "file_extension": ".sh",
   "mimetype": "text/x-sh",
   "name": "bash"
  },
  "orig_nbformat": 4,
  "vscode": {
   "interpreter": {
    "hash": "8b82d5009c68ba5675978267e2b13a671f2a7143d61273c5a3813c97e0b2493d"
   }
  }
 },
 "nbformat": 4,
 "nbformat_minor": 2
}
