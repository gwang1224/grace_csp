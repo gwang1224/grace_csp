{
 "cells": [
  {
   "cell_type": "markdown",
   "metadata": {},
   "source": [
    "# Bash Tool Check\n",
    "- toc: true \n",
    "- badges: true\n",
    "- description: Jupyter Notebook Tool Check\n",
    "- categories: [trimester 1]"
   ]
  },
  {
   "cell_type": "code",
   "execution_count": 9,
   "metadata": {
    "vscode": {
     "languageId": "shellscript"
    }
   },
   "outputs": [
    {
     "name": "stdout",
     "output_type": "stream",
     "text": [
      "Using conditional statement to create a project directory and project\n",
      "Directory /Users/gracewang/vscode exists.\n",
      "Directory /Users/gracewang/vscode/repository_1 exists.\n"
     ]
    }
   ],
   "source": [
    "echo \"Using conditional statement to create a project directory and project\"\n",
    "\n",
    "# Variable section\n",
    "export project_dir=$HOME/vscode  # change vscode to different name to test git clone\n",
    "export project=$project_dir/repository_1  # change APCSP to name of project from git clone\n",
    "export project_repo=\"https://github.com/gwang1224/repository_1.git\"  # change to project of choice\n",
    "\n",
    "cd ~    # start in home directory\n",
    "\n",
    "# Conditional block to make a project directory\n",
    "if [ ! -d $project_dir ]\n",
    "then \n",
    "    echo \"Directory $project_dir does not exists... makinng directory $project_dir\"\n",
    "    mkdir -p $project_dir\n",
    "fi\n",
    "echo \"Directory $project_dir exists.\" \n",
    "\n",
    "# Conditional block to git clone a project from project_repo\n",
    "if [ ! -d $project ]\n",
    "then\n",
    "    echo \"Directory $project does not exists... cloning $project_repo\"\n",
    "    cd $project_dir\n",
    "    git clone $project_repo\n",
    "    cd ~\n",
    "fi\n",
    "echo \"Directory $project exists.\" "
   ]
  },
  {
   "cell_type": "code",
   "execution_count": 2,
   "metadata": {
    "vscode": {
     "languageId": "shellscript"
    }
   },
   "outputs": [
    {
     "name": "stdout",
     "output_type": "stream",
     "text": [
      "Using conditional statement to create a project directory and project\n",
      "Directory /Users/gracewang/hacks does not exists... makinng directory /Users/gracewang/hacks\n",
      "Directory /Users/gracewang/hacks exists.\n",
      "Directory /Users/gracewang/hacks/APCSP does not exists... cloning https://github.com/nighthawkcoders/APCSP.git\n",
      "Cloning into 'APCSP'...\n",
      "remote: Enumerating objects: 9627, done.        \n",
      "remote: Counting objects: 100% (1202/1202), done.        \n",
      "remote: Compressing objects: 100% (454/454), done.        \n",
      "remote: Total 9627 (delta 752), reused 1171 (delta 722), pack-reused 8425        \n",
      "Receiving objects: 100% (9627/9627), 16.53 MiB | 16.57 MiB/s, done.\n",
      "Resolving deltas: 100% (5247/5247), done.\n",
      "Directory /Users/gracewang/hacks/APCSP exists.\n"
     ]
    }
   ],
   "source": [
    "#Hacks\n",
    "\n",
    "echo \"Using conditional statement to create a project directory and project\"\n",
    "\n",
    "# Variable section\n",
    "export project_dir=$HOME/hacks  # change vscode to different name to test git clone\n",
    "export project=$project_dir/APCSP  # change APCSP to name of project from git clone\n",
    "export project_repo=\"https://github.com/nighthawkcoders/APCSP.git\"  # change to project of choice\n",
    "\n",
    "cd ~    # start in home directory\n",
    "\n",
    "# Conditional block to make a project directory\n",
    "if [ ! -d $project_dir ]\n",
    "then \n",
    "    echo \"Directory $project_dir does not exists... makinng directory $project_dir\"\n",
    "    mkdir -p $project_dir\n",
    "fi\n",
    "echo \"Directory $project_dir exists.\" \n",
    "\n",
    "# Conditional block to git clone a project from project_repo\n",
    "if [ ! -d $project ]\n",
    "then\n",
    "    echo \"Directory $project does not exists... cloning $project_repo\"\n",
    "    cd $project_dir\n",
    "    git clone $project_repo\n",
    "    cd ~\n",
    "fi\n",
    "echo \"Directory $project exists.\" "
   ]
  },
  {
   "cell_type": "code",
   "execution_count": 14,
   "metadata": {
    "vscode": {
     "languageId": "shellscript"
    }
   },
   "outputs": [
    {
     "name": "stdout",
     "output_type": "stream",
     "text": [
      "Navigate to project, then navigate to area wwhere files were cloned\n",
      "/Users/gracewang/vscode/repository_1\n",
      "\n",
      "list top level or root of files with project pulled from github\n",
      "2022-05-15-07-21-16.png\t_config.yml\t\t_sass\n",
      "2022-05-15-07-24-25.png\t_fastpages_docs\t\t_word\n",
      "2022-05-15-07-25-15.png\t_includes\t\tassets\n",
      "Gemfile\t\t\t_layouts\t\tdocker-compose.yml\n",
      "LICENSE\t\t\t_notebooks\t\timages\n",
      "Makefile\t\t_pages\t\t\tindex.html\n",
      "README.md\t\t_plugins\n",
      "_action_files\t\t_posts\n"
     ]
    }
   ],
   "source": [
    "echo \"Navigate to project, then navigate to area wwhere files were cloned\"\n",
    "cd $project\n",
    "pwd\n",
    "\n",
    "echo \"\"\n",
    "echo \"list top level or root of files with project pulled from github\"\n",
    "ls"
   ]
  },
  {
   "cell_type": "code",
   "execution_count": 15,
   "metadata": {
    "vscode": {
     "languageId": "shellscript"
    }
   },
   "outputs": [
    {
     "name": "stdout",
     "output_type": "stream",
     "text": [
      "Python 3.9.12\n",
      "Python 2.7.18\n"
     ]
    }
   ],
   "source": [
    "python --version\n",
    "python2 --version"
   ]
  },
  {
   "cell_type": "code",
   "execution_count": 17,
   "metadata": {
    "vscode": {
     "languageId": "shellscript"
    }
   },
   "outputs": [
    {
     "name": "stdout",
     "output_type": "stream",
     "text": [
      "Jupyter Check\n",
      "jupyter                   1.0.0            py39hecd8cb5_7  \n",
      "jupyter_client            6.1.12             pyhd3eb1b0_0  \n",
      "jupyter_console           6.4.0              pyhd3eb1b0_0  \n",
      "jupyter_core              4.9.2            py39hecd8cb5_0  \n",
      "jupyter_server            1.13.5             pyhd3eb1b0_0  \n",
      "jupyterlab                3.3.2              pyhd3eb1b0_0  \n",
      "jupyterlab_pygments       0.1.2                      py_0  \n",
      "jupyterlab_server         2.10.3             pyhd3eb1b0_1  \n",
      "jupyterlab_widgets        1.0.0              pyhd3eb1b0_1  \n"
     ]
    }
   ],
   "source": [
    "echo \"Jupyter Check\"\n",
    "test=\"jupyter\" # keyword\n",
    "check=`conda list | grep $test` # run command\n",
    "n=${#check} # determine length\n",
    "\n",
    "if [[ ${n} > 0 ]];  # testt length\n",
    "then # greater than zero\n",
    "    echo \"$check\"\n",
    "else # less than zero\n",
    "    echo \"$test not found\"\n",
    "fi"
   ]
  },
  {
   "cell_type": "code",
   "execution_count": 18,
   "metadata": {
    "vscode": {
     "languageId": "shellscript"
    }
   },
   "outputs": [
    {
     "name": "stdout",
     "output_type": "stream",
     "text": [
      "Selected Jupyter core packages...\n",
      "IPython          : 8.2.0\n",
      "ipykernel        : 6.9.1\n",
      "ipywidgets       : 7.6.5\n",
      "jupyter_client   : 6.1.12\n",
      "jupyter_core     : 4.9.2\n",
      "jupyter_server   : 1.13.5\n",
      "jupyterlab       : 3.3.2\n",
      "nbclient         : 0.5.13\n",
      "nbconvert        : 6.4.4\n",
      "nbformat         : 5.3.0\n",
      "notebook         : 6.4.8\n",
      "qtconsole        : 5.3.0\n",
      "traitlets        : 5.1.1\n",
      "Available kernels:\n",
      "  python3106jvsc74a57bd0b0fa6594d8f4cbf19f97940f81e996739fb7646882a419484c72d19e05852a7e    /Users/gracewang/.vscode/extensions/ms-toolsai.jupyter-2022.7.1102252217/temp/jupyter/kernels/python3106jvsc74a57bd0b0fa6594d8f4cbf19f97940f81e996739fb7646882a419484c72d19e05852a7e\n",
      "  bash                                                                                      /Users/gracewang/Library/Jupyter/kernels/bash\n",
      "  javascript                                                                                /Users/gracewang/Library/Jupyter/kernels/javascript\n",
      "  python3                                                                                   /Users/gracewang/opt/anaconda3/share/jupyter/kernels/python3\n"
     ]
    }
   ],
   "source": [
    "jupyter --version\n",
    "jupyter kernelspec list"
   ]
  }
 ],
 "metadata": {
  "kernelspec": {
   "display_name": "Python 3.10.6 64-bit",
   "language": "python",
   "name": "python3"
  },
  "language_info": {
   "codemirror_mode": "shell",
   "file_extension": ".sh",
   "mimetype": "text/x-sh",
   "name": "python",
   "version": "3.10.8"
  },
  "orig_nbformat": 4,
  "vscode": {
   "interpreter": {
    "hash": "b0fa6594d8f4cbf19f97940f81e996739fb7646882a419484c72d19e05852a7e"
   }
  }
 },
 "nbformat": 4,
 "nbformat_minor": 2
}
