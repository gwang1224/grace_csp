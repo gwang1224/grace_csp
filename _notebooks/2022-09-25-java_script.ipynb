{
 "cells": [
  {
   "cell_type": "markdown",
   "metadata": {},
   "source": [
    "# JavaScript\n",
    "> Example of using JavaScript\n",
    "\n",
    "- toc: true\n",
    "- categories: T1 CSP\n"
   ]
  },
  {
   "cell_type": "code",
   "execution_count": 4,
   "metadata": {
    "vscode": {
     "languageId": "javascript"
    }
   },
   "outputs": [],
   "source": [
    "function logIt(output) {\n",
    "    console.log(output);\n",
    "}"
   ]
  },
  {
   "cell_type": "code",
   "execution_count": 5,
   "metadata": {
    "vscode": {
     "languageId": "javascript"
    }
   },
   "outputs": [
    {
     "name": "stdout",
     "output_type": "stream",
     "text": [
      "Reuse of logIT\n",
      "Hello, Students!\n",
      "2022\n"
     ]
    }
   ],
   "source": [
    "console.log(\"Reuse of logIT\")\n",
    "logIt(\"Hello, Students!\");\n",
    "logIt(2022)"
   ]
  },
  {
   "cell_type": "code",
   "execution_count": 6,
   "metadata": {
    "vscode": {
     "languageId": "javascript"
    }
   },
   "outputs": [
    {
     "name": "stdout",
     "output_type": "stream",
     "text": [
      "Looking at dynamic nature of types in JavaScript\n",
      "string ; hello\n",
      "number ; 2020\n",
      "object ; [ 1, 2, 3 ]\n"
     ]
    }
   ],
   "source": [
    "function logItType(output) {\n",
    "    console.log(typeof output, \";\", output);\n",
    "}\n",
    "console.log(\"Looking at dynamic nature of types in JavaScript\")\n",
    "logItType(\"hello\"); // String\n",
    "logItType(2020);    // Number\n",
    "logItType([1, 2, 3]);  // Object is generic for this Array, which similar to Python List"
   ]
  },
  {
   "cell_type": "markdown",
   "metadata": {},
   "source": [
    "### Build a Person Function/Class object and JSON\n",
    "JavaScript functions have special properties and syntax is shown in many ways.  In fact, a Class in JavaScript is a special function.  Jupyter Notebooks seems to be more friendly to \"function\" definitions versus \"Class\", thus this lesson uses \"function\" and \"prototype\" versus \"Class\".\n",
    "- <mark>Definition of function allows for a collection of data</mark>, the \"function Person\" allows programmer to retain course, github id, and class of designation.\n",
    "- <mark>Definition of a prototype allow for the definition of a method associated with the function</mark> , the \"Person.prototype.toJSON\" allows the collection of data to be expressed in a json/string versus JavaScript object.\n",
    "- <mark>Instance of a function</mark>, the \"var teacher = new Person(\"Mr M\", \"jm1021\", 1977)\" line makes a variable \"teacher\" which is an object representation of \"function Person\"."
   ]
  },
  {
   "cell_type": "code",
   "execution_count": 11,
   "metadata": {
    "vscode": {
     "languageId": "javascript"
    }
   },
   "outputs": [
    {
     "name": "stdout",
     "output_type": "stream",
     "text": [
      "object ; Course { course: 'Mr M', teacher: 'jm1021', room_num: 1977 }\n",
      "string ; {\"course\":\"Mr M\",\"teacher\":\"jm1021\",\"room_num\":1977}\n"
     ]
    }
   ],
   "source": [
    "// define a function to hold data for a Course\n",
    "function Course(course, teacher, room_num) {\n",
    "    this.course = course;\n",
    "    this.teacher = teacher;\n",
    "    this.room_num = room_num;\n",
    "}\n",
    "\n",
    "// define a setter for role in Course data\n",
    "// Course.prototype.setRole = function(role) {\n",
    "//     this.role = role;\n",
    "// }\n",
    "\n",
    "// define a JSON conversion \"method\" associated with Course\n",
    "Course.prototype.toJSON = function() {\n",
    "    const obj = {course: this.course, teacher: this.teacher, room_num: this.room_num, role: this.role};\n",
    "    const json = JSON.stringify(obj);\n",
    "    return json;\n",
    "}\n",
    "\n",
    "// make a new Course and assign to variable teacher\n",
    "var teacher = new Course(\"Mr M\", \"jm1021\", 1977);\n",
    "// teacher.setRole(\"Teacher\");\n",
    "\n",
    "// output of Object and JSON/string associated with Teacher\n",
    "logItType(teacher);  // object type is easy to work with in JavaScript\n",
    "logItType(teacher.toJSON());  // json/string is useful when passing data on internet"
   ]
  },
  {
   "cell_type": "code",
   "execution_count": 18,
   "metadata": {
    "vscode": {
     "languageId": "javascript"
    }
   },
   "outputs": [
    {
     "name": "stdout",
     "output_type": "stream",
     "text": [
      "object ; [ Course { course: 'AP Physics', teacher: 'Mr. Liao', room_num: 'K105' },\n",
      "  Course {\n",
      "    course: 'AP Calculus BC',\n",
      "    teacher: 'Mrs. Lanzi',\n",
      "    room_num: 'G104' },\n",
      "  Course {\n",
      "    course: 'AP English Language',\n",
      "    teacher: 'Mrs. Dafoe',\n",
      "    room_num: 'G112' },\n",
      "  Course {\n",
      "    course: 'AP Computer Science Principles',\n",
      "    teacher: 'Mr. Mortensen',\n",
      "    room_num: 'A101' },\n",
      "  Course {\n",
      "    course: 'AP US History',\n",
      "    teacher: 'Mr. Swanson',\n",
      "    room_num: 'L116' } ]\n",
      "string ; AP Physics\n",
      "string ; {\"course\":\"Mr M\",\"teacher\":\"jm1021\",\"room_num\":1977}\n",
      "object ; { course: 'Mr M', teacher: 'jm1021', room_num: 1977 }\n"
     ]
    }
   ],
   "source": [
    "// define a student Array of Person(s)\n",
    "var students = [ \n",
    "    new Course(\"AP Physics\", \"Mr. Liao\", \"K105\"),\n",
    "    new Course(\"AP Calculus BC\", \"Mrs. Lanzi\", \"G104\"),\n",
    "    new Course(\"AP English Language\", \"Mrs. Dafoe\", \"G112\"),\n",
    "    new Course(\"AP Computer Science Principles\", \"Mr. Mortensen\", \"A101\"),\n",
    "    new Course(\"AP US History\", \"Mr. Swanson\", \"L116\")\n",
    "];\n",
    "\n",
    "// logIt(students)\n",
    "\n",
    "// define a schedule and build schedule objects and json\n",
    "function schedule(teacher, students){ // 1 teacher, many student\n",
    "    // start schedule with Teacher\n",
    "    // teacher.setRole(\"Teacher\");\n",
    "    this.teacher = teacher;\n",
    "    this.schedule = [teacher];\n",
    "    // add each Student to schedule\n",
    "    this.students = students;\n",
    "    // this.students.forEach(student => { students.setRole(\"2022\"); this.schedule.push(student); });\n",
    "    // build json/string format of schedule\n",
    "    this.json = [];\n",
    "    this.schedule.forEach(person => this.json.push(person.toJSON()));\n",
    "    this.students.forEach(person => this.json.push(person.toJSON()));\n",
    "}\n",
    "\n",
    "// make a CompSci schedule from formerly defined teacher and students\n",
    "compsci = new schedule(teacher, students);\n",
    "\n",
    "// output of Objects and JSON in CompSci schedule\n",
    "logItType(compsci.students);  // constructed schedule object\n",
    "logItType(compsci.students[0].course);  // abstract 1st objects course\n",
    "logItType(compsci.json[0]);  // show json conversion of 1st object to string\n",
    "logItType(JSON.parse(compsci.json[0]));  // show JSON.parse inverse of JSON.stringify"
   ]
  },
  {
   "cell_type": "code",
   "execution_count": 20,
   "metadata": {
    "vscode": {
     "languageId": "javascript"
    }
   },
   "outputs": [
    {
     "data": {
      "text/html": [
       "<div style='display:inline-block;background:green;border: 2px solid grey;box-shadow: 0.8em 0.4em 0.4em grey;'><table><tr><th><mark>course</mark></th><th><mark>Teacher</mark></th><th><mark>Class Of</mark></th></tr><tr><td>AP Physics</td><td>Mr. Liao</td><td>K105</td><tr><tr><td>AP Calculus BC</td><td>Mrs. Lanzi</td><td>G104</td><tr><tr><td>AP English Language</td><td>Mrs. Dafoe</td><td>G112</td><tr><tr><td>AP Computer Science Principles</td><td>Mr. Mortensen</td><td>A101</td><tr><tr><td>AP US History</td><td>Mr. Swanson</td><td>L116</td><tr></table></div>"
      ]
     },
     "execution_count": 20,
     "metadata": {},
     "output_type": "execute_result"
    }
   ],
   "source": [
    "// define an HTML conversion \"method\" associated with schedule\n",
    "schedule.prototype._toHtml = function() {\n",
    "  // HTML Style is build using inline structure\n",
    "  var style = (\n",
    "    \"display:inline-block;\" +\n",
    "    \"background:green;\" +\n",
    "    \"border: 2px solid grey;\" +\n",
    "    \"box-shadow: 0.8em 0.4em 0.4em grey;\"\n",
    "  );\n",
    "\n",
    "  // HTML Body of Table is build as a series of concatenations (+=)\n",
    "  var body = \"\";\n",
    "  // Heading for Array Columns\n",
    "  body += \"<tr>\";\n",
    "  body += \"<th><mark>\" + \"course\" + \"</mark></th>\";\n",
    "  body += \"<th><mark>\" + \"Teacher\" + \"</mark></th>\";\n",
    "  body += \"<th><mark>\" + \"Class Of\" + \"</mark></th>\";\n",
    "  // body += \"<th><mark>\" + \"Role\" + \"</mark></th>\";\n",
    "  body += \"</tr>\";\n",
    "  // Data of Array, iterate through each row of compsci.schedule \n",
    "  for (var row of compsci.students) {\n",
    "    // tr for each row, a new line\n",
    "    body += \"<tr>\";\n",
    "    // td for each column of data\n",
    "    body += \"<td>\" + row.course + \"</td>\";\n",
    "    body += \"<td>\" + row.teacher + \"</td>\";\n",
    "    body += \"<td>\" + row.room_num + \"</td>\";\n",
    "    // body += \"<td>\" + row.role + \"</td>\";\n",
    "    // tr to end line\n",
    "    body += \"<tr>\";\n",
    "  }\n",
    "\n",
    "   // Build and HTML fragment of div, table, table body\n",
    "  return (\n",
    "    \"<div style='\" + style + \"'>\" +\n",
    "      \"<table>\" +\n",
    "        body +\n",
    "      \"</table>\" +\n",
    "    \"</div>\"\n",
    "  );\n",
    "\n",
    "};\n",
    "\n",
    "// IJavaScript HTML processor receive parameter of defined HTML fragment\n",
    "$$.html(compsci._toHtml());"
   ]
  }
 ],
 "metadata": {
  "kernelspec": {
   "display_name": "Python 3.10.8 64-bit",
   "language": "python",
   "name": "python3"
  },
  "language_info": {
   "file_extension": ".js",
   "mimetype": "application/javascript",
   "name": "python",
   "version": "3.10.9"
  },
  "orig_nbformat": 4,
  "vscode": {
   "interpreter": {
    "hash": "b0fa6594d8f4cbf19f97940f81e996739fb7646882a419484c72d19e05852a7e"
   }
  }
 },
 "nbformat": 4,
 "nbformat_minor": 2
}
