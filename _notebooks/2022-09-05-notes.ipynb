{
 "cells": [
  {
   "cell_type": "markdown",
   "metadata": {},
   "source": [
    "- toc: true \n",
    "- badges: true\n",
    "- description: Grace's CSP Notes\n",
    "- categories: [T1 CSP Notes]"
   ]
  },
  {
   "cell_type": "markdown",
   "metadata": {},
   "source": [
    "## Fastpages\n",
    "1. _notebooks: .ipynb files\n",
    "2. _post: .md files\n",
    "3. _word : .docx files\n",
    "4. index.html: home page\n",
    "\n",
    "\n",
    "## Vocab\n",
    "\n",
    "| Term | Definition |\n",
    "| --- | --- |\n",
    "| Front Matter | metadata that can turn on/off options in  Notebook |\n",
    "| string | \"blah\" |\n",
    "| list | [\"blah\", \"blah\", \"blah\"] |\n",
    "| dictionary | info_dict = { \"name\": \"Grace\", \"age\": 16, \"Grade\": \"Junior\"} |\n",
    "\n",
    "\n",
    "## Commands\n",
    "\n",
    "| Command | Description |\n",
    "| --- | --- |\n",
    "| ls | lists computer files |\n",
    "| cd | changes working directory |\n",
    "| pwd | prints working directory |\n",
    "| echo | used to display a line of text |\n",
    "| cat | reads data from file and gives contents as output |\n",
    "| env | shows setting for cell |\n",
    "| git clone | sets up a director of files |\n",
    "| cd $project | moves inside that directory of files |\n",
    "\n",
    "\n",
    "## Others\n",
    "[Alumni Notes](/repository_1/_posts/2022-08-29-alumni-meeting.md)"
   ]
  }
 ],
 "metadata": {
  "kernelspec": {
   "display_name": "Python 3.10.6 64-bit",
   "language": "python",
   "name": "python3"
  },
  "language_info": {
   "name": "python",
   "version": "3.10.6"
  },
  "orig_nbformat": 4,
  "vscode": {
   "interpreter": {
    "hash": "b0fa6594d8f4cbf19f97940f81e996739fb7646882a419484c72d19e05852a7e"
   }
  }
 },
 "nbformat": 4,
 "nbformat_minor": 2
}
